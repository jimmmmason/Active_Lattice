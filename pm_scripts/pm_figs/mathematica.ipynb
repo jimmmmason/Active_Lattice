{
 "cells": [
  {
   "cell_type": "code",
   "execution_count": 315,
   "metadata": {},
   "outputs": [
    {
     "name": "stdout",
     "output_type": "stream",
     "text": [
      "v3.0\n",
      "v4.0\n"
     ]
    },
    {
     "name": "stderr",
     "output_type": "stream",
     "text": [
      "WARNING: method definition for #h0#1200 at /home/jm2386/Active_Lattice/src/Hetrocline.jl:57 declares type variable N but does not use it.\n",
      "WARNING: method definition for #h0#1200 at /home/jm2386/Active_Lattice/src/Hetrocline.jl:57 declares type variable V but does not use it.\n",
      "WARNING: method definition for #h0#1200 at /home/jm2386/Active_Lattice/src/Hetrocline.jl:57 declares type variable T but does not use it.\n",
      "WARNING: Method definition (::Main.var\"#f#1229\"{Pe, ϕa, ϕ})(Any) in module Main at /home/jm2386/Active_Lattice/src/Hetrocline.jl:414 overwritten at /home/jm2386/Active_Lattice/src/Hetrocline.jl:420.\n"
     ]
    }
   ],
   "source": [
    "cd(\"/home/jm2386/Active_Lattice/\")\n",
    "using DrWatson\n",
    "@quickactivate \"Active_Lattice\"\n",
    "include(\"/home/jm2386/Active_Lattice/src/pm_pdes.jl\");\n",
    "include(\"/home/jm2386/Active_Lattice/src/pm_sims.jl\");\n",
    "include(\"/home/jm2386/Active_Lattice/src/pm_plot.jl\");\n",
    "include(\"/home/jm2386/Active_Lattice/src/Hetrocline.jl\");\n"
   ]
  },
  {
   "cell_type": "code",
   "execution_count": 3,
   "metadata": {},
   "outputs": [
    {
     "name": "stderr",
     "output_type": "stream",
     "text": [
      "\u001b[32m\u001b[1m    Updating\u001b[22m\u001b[39m registry at `~/.julia/registries/General.toml`\n",
      "\u001b[32m\u001b[1m   Resolving\u001b[22m\u001b[39m package versions...\n",
      "\u001b[32m\u001b[1m   Installed\u001b[22m\u001b[39m Latexify ── v0.16.3\n",
      "\u001b[32m\u001b[1m   Installed\u001b[22m\u001b[39m SymPyCore ─ v0.1.17\n",
      "\u001b[32m\u001b[1m    Updating\u001b[22m\u001b[39m `/mhome/damtp/s/jm2386/Active_Lattice/Project.toml`\n",
      "  \u001b[90m[24249f21] \u001b[39m\u001b[92m+ SymPy v2.0.1\u001b[39m\n",
      "\u001b[32m\u001b[1m    Updating\u001b[22m\u001b[39m `/mhome/damtp/s/jm2386/Active_Lattice/Manifest.toml`\n",
      "  \u001b[90m[3709ef60] \u001b[39m\u001b[92m+ CommonEq v0.2.1\u001b[39m\n",
      "  \u001b[90m[1fa38f19] \u001b[39m\u001b[92m+ Format v1.3.7\u001b[39m\n",
      "  \u001b[90m[23fbe1c1] \u001b[39m\u001b[92m+ Latexify v0.16.3\u001b[39m\n",
      "  \u001b[90m[24249f21] \u001b[39m\u001b[92m+ SymPy v2.0.1\u001b[39m\n",
      "  \u001b[90m[458b697b] \u001b[39m\u001b[92m+ SymPyCore v0.1.17\u001b[39m\n",
      "\u001b[32m\u001b[1mPrecompiling\u001b[22m\u001b[39m project...\n",
      "\u001b[32m  ✓ \u001b[39m\u001b[90mCommonEq\u001b[39m\n",
      "\u001b[32m  ✓ \u001b[39m\u001b[90mFormat\u001b[39m\n",
      "\u001b[32m  ✓ \u001b[39m\u001b[90mLatexify\u001b[39m\n",
      "\u001b[32m  ✓ \u001b[39m\u001b[90mSymPyCore\u001b[39m\n",
      "\u001b[32m  ✓ \u001b[39mSymPy\n",
      "\u001b[32m  ✓ \u001b[39m\u001b[90mRoots → RootsSymPyExt\u001b[39m\n",
      "  6 dependencies successfully precompiled in 72 seconds. 236 already precompiled. 4 skipped during auto due to previous errors.\n"
     ]
    }
   ],
   "source": [
    "import Pkg; Pkg.add(\"SymPy\")"
   ]
  },
  {
   "cell_type": "code",
   "execution_count": 15,
   "metadata": {},
   "outputs": [
    {
     "name": "stderr",
     "output_type": "stream",
     "text": [
      "WARNING: redefinition of constant Main.sympy_parsing_mathematica. This may fail, cause incorrect answers, or produce other errors.\n"
     ]
    },
    {
     "data": {
      "text/plain": [
       "PyObject <module 'sympy.parsing.mathematica' from '/usr/lib/python3/dist-packages/sympy/parsing/mathematica.py'>"
      ]
     },
     "metadata": {},
     "output_type": "display_data"
    }
   ],
   "source": [
    "using SymPy\n",
    "const sympy_parsing_mathematica = SymPy.PyCall.pyimport(\"sympy.parsing.mathematica\")"
   ]
  },
  {
   "cell_type": "code",
   "execution_count": 63,
   "metadata": {},
   "outputs": [
    {
     "data": {
      "text/plain": [
       "mathematica2julia (generic function with 1 method)"
      ]
     },
     "metadata": {},
     "output_type": "display_data"
    }
   ],
   "source": [
    "mathematica2julia(s::AbstractString, substitutions::Pair{<:AbstractString,<:AbstractString}...) =\n",
    "    SymPy.SymPyCore.walk_expression(Sym(sympy_parsing_mathematica[\"mathematica\"](s,Dict(substitutions...))))"
   ]
  },
  {
   "cell_type": "code",
   "execution_count": 73,
   "metadata": {},
   "outputs": [
    {
     "ename": "KeyError",
     "evalue": "KeyError: key :boolalg not found",
     "output_type": "error",
     "traceback": [
      "KeyError: key :boolalg not found\n",
      "\n",
      "Stacktrace:\n",
      "  [1] __getproperty\n",
      "    @ ~/.julia/packages/PyCall/1gn3u/src/PyCall.jl:313 [inlined]\n",
      "  [2] getproperty(o::PyCall.PyObject, s::Symbol)\n",
      "    @ PyCall ~/.julia/packages/PyCall/1gn3u/src/PyCall.jl:318\n",
      "  [3] _convert(::Type{Bool}, x::PyCall.PyObject)\n",
      "    @ SymPy ~/.julia/packages/SymPy/NveHe/src/python_connection.jl:16\n",
      "  [4] convert(::Type{SymPyCore.Bool3}, x::Sym{PyCall.PyObject})\n",
      "    @ SymPyCore ~/.julia/packages/SymPyCore/x4xt4/src/equality.jl:48\n",
      "  [5] ==(x::Sym{PyCall.PyObject}, y::Sym{PyCall.PyObject})\n",
      "    @ SymPyCore ~/.julia/packages/SymPyCore/x4xt4/src/equality.jl:29\n",
      "  [6] N(x::Sym{PyCall.PyObject})\n",
      "    @ SymPyCore ~/.julia/packages/SymPyCore/x4xt4/src/numbers.jl:65\n",
      "  [7] walk_expression(ex::Sym{PyCall.PyObject}; values::Dict{Any, Any}, fns::Dict{Any, Any})\n",
      "    @ SymPyCore ~/.julia/packages/SymPyCore/x4xt4/src/lambdify.jl:244\n",
      "  [8] walk_expression\n",
      "    @ ~/.julia/packages/SymPyCore/x4xt4/src/lambdify.jl:228 [inlined]\n",
      "  [9] #143\n",
      "    @ ./none:0 [inlined]\n",
      " [10] iterate\n",
      "    @ ./generator.jl:47 [inlined]\n",
      " [11] collect(itr::Base.Generator{Tuple{Sym{PyCall.PyObject}, Sym{PyCall.PyObject}}, SymPyCore.var\"#143#147\"{Dict{Any, Any}, Dict{Any, Any}}})\n",
      "    @ Base ./array.jl:834\n",
      " [12] walk_expression(ex::Sym{PyCall.PyObject}; values::Dict{Any, Any}, fns::Dict{Any, Any})\n",
      "    @ SymPyCore ~/.julia/packages/SymPyCore/x4xt4/src/lambdify.jl:267\n",
      " [13] walk_expression\n",
      "    @ ~/.julia/packages/SymPyCore/x4xt4/src/lambdify.jl:228 [inlined]\n",
      " [14] #143\n",
      "    @ ./none:0 [inlined]\n",
      " [15] iterate\n",
      "    @ ./generator.jl:47 [inlined]\n",
      " [16] collect(itr::Base.Generator{Tuple{Sym{PyCall.PyObject}, Sym{PyCall.PyObject}}, SymPyCore.var\"#143#147\"{Dict{Any, Any}, Dict{Any, Any}}})\n",
      "    @ Base ./array.jl:834\n",
      " [17] walk_expression(ex::Sym{PyCall.PyObject}; values::Dict{Any, Any}, fns::Dict{Any, Any})\n",
      "    @ SymPyCore ~/.julia/packages/SymPyCore/x4xt4/src/lambdify.jl:267\n",
      " [18] walk_expression(ex::Sym{PyCall.PyObject})\n",
      "    @ SymPyCore ~/.julia/packages/SymPyCore/x4xt4/src/lambdify.jl:228\n",
      " [19] mathematica2julia(::String)\n",
      "    @ Main ~/Active_Lattice/pm_scripts/pm_figs/mathematica.ipynb:1\n",
      " [20] top-level scope\n",
      "    @ ~/Active_Lattice/pm_scripts/pm_figs/mathematica.ipynb:2"
     ]
    }
   ],
   "source": [
    "mathematica2julia(\"Log[Log[x]]\")\n",
    "mathematica2julia(\"3(x+y)\")"
   ]
  },
  {
   "cell_type": "code",
   "execution_count": 34,
   "metadata": {},
   "outputs": [
    {
     "data": {
      "text/plain": [
       ":(log(log(x)))"
      ]
     },
     "metadata": {},
     "output_type": "display_data"
    }
   ],
   "source": [
    "s = \"Log[Log[x]]\"\n",
    "symbol_ex = Sym(sympy_parsing_mathematica.mathematica(s))\n",
    "julia_ex = SymPy.SymPyCore.convert_expr(symbol_ex,use_julia_code=true)"
   ]
  },
  {
   "cell_type": "code",
   "execution_count": 74,
   "metadata": {},
   "outputs": [
    {
     "ename": "KeyError",
     "evalue": "KeyError: key :boolalg not found",
     "output_type": "error",
     "traceback": [
      "KeyError: key :boolalg not found\n",
      "\n",
      "Stacktrace:\n",
      " [1] __getproperty\n",
      "   @ ~/.julia/packages/PyCall/1gn3u/src/PyCall.jl:313 [inlined]\n",
      " [2] getproperty(o::PyCall.PyObject, s::Symbol)\n",
      "   @ PyCall ~/.julia/packages/PyCall/1gn3u/src/PyCall.jl:318\n",
      " [3] _convert(::Type{Bool}, x::PyCall.PyObject)\n",
      "   @ SymPy ~/.julia/packages/SymPy/NveHe/src/python_connection.jl:16\n",
      " [4] convert(::Type{SymPyCore.Bool3}, x::Sym{PyCall.PyObject})\n",
      "   @ SymPyCore ~/.julia/packages/SymPyCore/x4xt4/src/equality.jl:51\n",
      " [5] ==(x::Sym{PyCall.PyObject}, y::Sym{PyCall.PyObject})\n",
      "   @ SymPyCore ~/.julia/packages/SymPyCore/x4xt4/src/equality.jl:35\n",
      " [6] ==(x::Sym{PyCall.PyObject}, y::Rational{Int64})\n",
      "   @ SymPyCore ~/.julia/packages/SymPyCore/x4xt4/src/equality.jl:21\n",
      " [7] walk_expression(ex::Sym{PyCall.PyObject}; values::Dict{Any, Any}, fns::Dict{String, Symbol})\n",
      "   @ SymPyCore ~/.julia/packages/SymPyCore/x4xt4/src/lambdify.jl:259\n",
      " [8] top-level scope\n",
      "   @ ~/Active_Lattice/pm_scripts/pm_figs/mathematica.ipynb:3"
     ]
    }
   ],
   "source": [
    "s = \"1/Sqrt[(x+y)^3]\"\n",
    "symbol_ex = Sym(sympy_parsing_mathematica.mathematica(s))\n",
    "f_expr = SymPy.SymPyCore.walk_expression(symbol_ex, fns=Dict(\"Pow\"=>:^))\n",
    "# :(((x + y) ^ 3) ^ -1//2)\n",
    "# @generated ftest(x,y) = f_expr\n",
    "# ftest(1,0)\n",
    "# 1."
   ]
  },
  {
   "cell_type": "code",
   "execution_count": 32,
   "metadata": {},
   "outputs": [
    {
     "data": {
      "text/plain": [
       ":(log(log(x)))"
      ]
     },
     "metadata": {},
     "output_type": "display_data"
    }
   ],
   "source": [
    "f(0.1)"
   ]
  },
  {
   "cell_type": "code",
   "execution_count": 76,
   "metadata": {},
   "outputs": [
    {
     "name": "stderr",
     "output_type": "stream",
     "text": [
      "\u001b[32m\u001b[1m   Resolving\u001b[22m\u001b[39m package versions...\n",
      "\u001b[32m\u001b[1m   Installed\u001b[22m\u001b[39m WolframExpr ─ v1.0.1\n",
      "\u001b[32m\u001b[1m   Installed\u001b[22m\u001b[39m MathLink ──── v0.5.5\n",
      "\u001b[32m\u001b[1m   Installed\u001b[22m\u001b[39m SyntaxTree ── v1.0.1\n",
      "\u001b[32m\u001b[1m    Updating\u001b[22m\u001b[39m `/mhome/damtp/s/jm2386/Active_Lattice/Project.toml`\n",
      "  \u001b[90m[3b1d5462] \u001b[39m\u001b[92m+ WolframExpr v1.0.1\u001b[39m\n",
      "\u001b[32m\u001b[1m    Updating\u001b[22m\u001b[39m `/mhome/damtp/s/jm2386/Active_Lattice/Manifest.toml`\n",
      "\u001b[33m⌅\u001b[39m \u001b[90m[18c93696] \u001b[39m\u001b[92m+ MathLink v0.5.5\u001b[39m\n",
      "  \u001b[90m[a4af3ec5] \u001b[39m\u001b[92m+ SyntaxTree v1.0.1\u001b[39m\n",
      "  \u001b[90m[3b1d5462] \u001b[39m\u001b[92m+ WolframExpr v1.0.1\u001b[39m\n",
      "\u001b[36m\u001b[1m        Info\u001b[22m\u001b[39m Packages marked with \u001b[33m⌅\u001b[39m have new versions available but compatibility constraints restrict them from upgrading. To see why use `status --outdated -m`\n",
      "\u001b[32m\u001b[1m    Building\u001b[22m\u001b[39m MathLink → `~/.julia/scratchspaces/44cfe95a-1eb2-52ea-b672-e2afdf69b78f/2883415fdc6db2d33640737bef634915c4a23c5d/build.log`\n",
      "\u001b[32m\u001b[1mPrecompiling\u001b[22m\u001b[39m project...\n",
      "\u001b[32m  ✓ \u001b[39m\u001b[90mMathLink\u001b[39m\n",
      "\u001b[32m  ✓ \u001b[39m\u001b[90mSyntaxTree\u001b[39m\n",
      "\u001b[32m  ✓ \u001b[39mWolframExpr\n",
      "  3 dependencies successfully precompiled in 34 seconds. 242 already precompiled. 4 skipped during auto due to previous errors.\n"
     ]
    }
   ],
   "source": [
    "import Pkg; Pkg.add(\"WolframExpr\")"
   ]
  },
  {
   "cell_type": "code",
   "execution_count": 79,
   "metadata": {},
   "outputs": [],
   "source": [
    "using WolframExpr\n",
    "sym_f = string_to_function(\"10 x /Sqrt[(x+y)^3]\", [:x, :y]);\n",
    "\n"
   ]
  },
  {
   "cell_type": "code",
   "execution_count": 85,
   "metadata": {},
   "outputs": [
    {
     "data": {
      "text/plain": [
       "-8.881784197001252e-16"
      ]
     },
     "metadata": {},
     "output_type": "display_data"
    }
   ],
   "source": [
    "x, y = 3, 0.1\n",
    "sym_f(x, y) - 10*x/sqrt((x+y)^3)"
   ]
  },
  {
   "cell_type": "code",
   "execution_count": 104,
   "metadata": {},
   "outputs": [
    {
     "data": {
      "text/plain": [
       "\"(-2*p^2*w - 4*ds*p^2*w)/3 + (-(p^5*(4*(2*(8 + 17*ds)*p + (ds*(-1 + p)*pa + dds*(-1 + p)*p*pa + ds^2*(-p + pa))*Pe^2)*w + 4*(2*(8 + ds*(58 + 33*ds))*p - (2*(-13 + ds)*ds^2*p + (ds + ds^2 - 2*ds^3 + (-dds + ds)*(-1 + 25*ds)*p + dds*(-1 + 25*ds)*p^2)*pa)*Pe^2)*w^3 + 6*(3 +\"\u001b[93m\u001b[1m ⋯ 3521 bytes ⋯ \u001b[22m\u001b[39m\"pa))*Pe^2)*w^2 + (2*(8 + ds*(58 + 33*ds))*p - (2*(-13 + ds)*ds^2*p + (ds + ds^2 - 2*ds^3 + (-dds + ds)*(-1 + 25*ds)*p + dds*(-1 + 25*ds)*p^2)*pa)*Pe^2)*w^4 + (3 + 2*ds*(8 + ds*(29 + 11*ds)))*p*w^6)^2 - 4*(2 + (1 + 2*ds)*w^2)^3*(-3 + p^2*(2 + (1 + 2*ds)*w^2))^3)])^(2/3))\""
      ]
     },
     "metadata": {},
     "output_type": "display_data"
    }
   ],
   "source": [
    "str_w_max = \"(-2*p^2*w - 4*ds*p^2*w)/3 + (-(p^5*(4*(2*(8 + 17*ds)*p + (ds*(-1 + p)*pa + dds*(-1 + p)*p*pa + ds^2*(-p + pa))*Pe^2)*w + 4*(2*(8 + ds*(58 + 33*ds))*p - (2*(-13 + ds)*ds^2*p + (ds + ds^2 - 2*ds^3 + (-dds + ds)*(-1 + 25*ds)*p + dds*(-1 + 25*ds)*p^2)*pa)*Pe^2)*w^3 + 6*(3 + 2*ds*(8 + ds*(29 + 11*ds)))*p*w^5)) - (p^6*(2*p^4*(4*(2*(8 + 17*ds)*p + (ds*(-1 + p)*pa + dds*(-1 + p)*p*pa + ds^2*(-p + pa))*Pe^2)*w + 4*(2*(8 + ds*(58 + 33*ds))*p - (2*(-13 + ds)*ds^2*p + (ds + ds^2 - 2*ds^3 + (-dds + ds)*(-1 + 25*ds)*p + dds*(-1 + 25*ds)*p^2)*pa)*Pe^2)*w^3 + 6*(3 + 2*ds*(8 + ds*(29 + 11*ds)))*p*w^5)*(24*p + 2*(2*(8 + 17*ds)*p + (ds*(-1 + p)*pa + dds*(-1 + p)*p*pa + ds^2*(-p + pa))*Pe^2)*w^2 + (2*(8 + ds*(58 + 33*ds))*p - (2*(-13 + ds)*ds^2*p + (ds + ds^2 - 2*ds^3 + (-dds + ds)*(-1 + 25*ds)*p + dds*(-1 + 25*ds)*p^2)*pa)*Pe^2)*w^4 + (3 + 2*ds*(8 + ds*(29 + 11*ds)))*p*w^6) - 24*(1 + 2*ds)*p^2*w*(2 + (1 + 2*ds)*w^2)^3*(-3 + p^2*(2 + (1 + 2*ds)*w^2))^2 - 24*(1 + 2*ds)*w*(2 + (1 + 2*ds)*w^2)^2*(-3 + p^2*(2 + (1 + 2*ds)*w^2))^3))/(2*Sqrt[p^6*(p^4*(24*p + 2*(2*(8 + 17*ds)*p + (ds*(-1 + p)*pa + dds*(-1 + p)*p*pa + ds^2*(-p + pa))*Pe^2)*w^2 + (2*(8 + ds*(58 + 33*ds))*p - (2*(-13 + ds)*ds^2*p + (ds + ds^2 - 2*ds^3 + (-dds + ds)*(-1 + 25*ds)*p + dds*(-1 + 25*ds)*p^2)*pa)*Pe^2)*w^4 + (3 + 2*ds*(8 + ds*(29 + 11*ds)))*p*w^6)^2 - 4*(2 + (1 + 2*ds)*w^2)^3*(-3 + p^2*(2 + (1 + 2*ds)*w^2))^3)]))/(9*2^(1/3)*(-(p^5*(24*p + 2*(2*(8 + 17*ds)*p + (ds*(-1 + p)*pa + dds*(-1 + p)*p*pa + ds^2*(-p + pa))*Pe^2)*w^2 + (2*(8 + ds*(58 + 33*ds))*p - (2*(-13 + ds)*ds^2*p + (ds + ds^2 - 2*ds^3 + (-dds + ds)*(-1 + 25*ds)*p + dds*(-1 + 25*ds)*p^2)*pa)*Pe^2)*w^4 + (3 + 2*ds*(8 + ds*(29 + 11*ds)))*p*w^6)) - Sqrt[p^6*(p^4*(24*p + 2*(2*(8 + 17*ds)*p + (ds*(-1 + p)*pa + dds*(-1 + p)*p*pa + ds^2*(-p + pa))*Pe^2)*w^2 + (2*(8 + ds*(58 + 33*ds))*p - (2*(-13 + ds)*ds^2*p + (ds + ds^2 - 2*ds^3 + (-dds + ds)*(-1 + 25*ds)*p + dds*(-1 + 25*ds)*p^2)*pa)*Pe^2)*w^4 + (3 + 2*ds*(8 + ds*(29 + 11*ds)))*p*w^6)^2 - 4*(2 + (1 + 2*ds)*w^2)^3*(-3 + p^2*(2 + (1 + 2*ds)*w^2))^3)])^(2/3)) + (-(p^5*(4*(2*(8 + 17*ds)*p + (ds*(-1 + p)*pa + dds*(-1 + p)*p*pa + ds^2*(-p + pa))*Pe^2)*w + 4*(2*(8 + ds*(58 + 33*ds))*p - (2*(-13 + ds)*ds^2*p + (ds + ds^2 - 2*ds^3 + (-dds + ds)*(-1 + 25*ds)*p + dds*(-1 + 25*ds)*p^2)*pa)*Pe^2)*w^3 + 6*(3 + 2*ds*(8 + ds*(29 + 11*ds)))*p*w^5)) + (p^6*(2*p^4*(4*(2*(8 + 17*ds)*p + (ds*(-1 + p)*pa + dds*(-1 + p)*p*pa + ds^2*(-p + pa))*Pe^2)*w + 4*(2*(8 + ds*(58 + 33*ds))*p - (2*(-13 + ds)*ds^2*p + (ds + ds^2 - 2*ds^3 + (-dds + ds)*(-1 + 25*ds)*p + dds*(-1 + 25*ds)*p^2)*pa)*Pe^2)*w^3 + 6*(3 + 2*ds*(8 + ds*(29 + 11*ds)))*p*w^5)*(24*p + 2*(2*(8 + 17*ds)*p + (ds*(-1 + p)*pa + dds*(-1 + p)*p*pa + ds^2*(-p + pa))*Pe^2)*w^2 + (2*(8 + ds*(58 + 33*ds))*p - (2*(-13 + ds)*ds^2*p + (ds + ds^2 - 2*ds^3 + (-dds + ds)*(-1 + 25*ds)*p + dds*(-1 + 25*ds)*p^2)*pa)*Pe^2)*w^4 + (3 + 2*ds*(8 + ds*(29 + 11*ds)))*p*w^6) - 24*(1 + 2*ds)*p^2*w*(2 + (1 + 2*ds)*w^2)^3*(-3 + p^2*(2 + (1 + 2*ds)*w^2))^2 - 24*(1 + 2*ds)*w*(2 + (1 + 2*ds)*w^2)^2*(-3 + p^2*(2 + (1 + 2*ds)*w^2))^3))/(2*Sqrt[p^6*(p^4*(24*p + 2*(2*(8 + 17*ds)*p + (ds*(-1 + p)*pa + dds*(-1 + p)*p*pa + ds^2*(-p + pa))*Pe^2)*w^2 + (2*(8 + ds*(58 + 33*ds))*p - (2*(-13 + ds)*ds^2*p + (ds + ds^2 - 2*ds^3 + (-dds + ds)*(-1 + 25*ds)*p + dds*(-1 + 25*ds)*p^2)*pa)*Pe^2)*w^4 + (3 + 2*ds*(8 + ds*(29 + 11*ds)))*p*w^6)^2 - 4*(2 + (1 + 2*ds)*w^2)^3*(-3 + p^2*(2 + (1 + 2*ds)*w^2))^3)]))/(9*2^(1/3)*(-(p^5*(24*p + 2*(2*(8 + 17*ds)*p + (ds*(-1 + p)*pa + dds*(-1 + p)*p*pa + ds^2*(-p + pa))*Pe^2)*w^2 + (2*(8 + ds*(58 + 33*ds))*p - (2*(-13 + ds)*ds^2*p + (ds + ds^2 - 2*ds^3 + (-dds + ds)*(-1 + 25*ds)*p + dds*(-1 + 25*ds)*p^2)*pa)*Pe^2)*w^4 + (3 + 2*ds*(8 + ds*(29 + 11*ds)))*p*w^6)) + Sqrt[p^6*(p^4*(24*p + 2*(2*(8 + 17*ds)*p + (ds*(-1 + p)*pa + dds*(-1 + p)*p*pa + ds^2*(-p + pa))*Pe^2)*w^2 + (2*(8 + ds*(58 + 33*ds))*p - (2*(-13 + ds)*ds^2*p + (ds + ds^2 - 2*ds^3 + (-dds + ds)*(-1 + 25*ds)*p + dds*(-1 + 25*ds)*p^2)*pa)*Pe^2)*w^4 + (3 + 2*ds*(8 + ds*(29 + 11*ds)))*p*w^6)^2 - 4*(2 + (1 + 2*ds)*w^2)^3*(-3 + p^2*(2 + (1 + 2*ds)*w^2))^3)])^(2/3))\""
   ]
  },
  {
   "cell_type": "code",
   "execution_count": 142,
   "metadata": {},
   "outputs": [],
   "source": [
    "sym_f = string_to_function(str_w_max, [:p, :pa, :Pe, :w, :ds, :dds]);"
   ]
  },
  {
   "cell_type": "code",
   "execution_count": 143,
   "metadata": {},
   "outputs": [
    {
     "data": {
      "text/plain": [
       "-0.02740375087688632 - 0.04062103209133395im"
      ]
     },
     "metadata": {},
     "output_type": "display_data"
    }
   ],
   "source": [
    "ϕ, ϕa, v0, w = 0.7, 0.5, 7.5, 0.1\n",
    "sym_f(Complex(ϕ), Complex(ϕa), Complex(v0), Complex(w), ds(ϕ), dsp(ϕ))"
   ]
  },
  {
   "cell_type": "code",
   "execution_count": 174,
   "metadata": {},
   "outputs": [],
   "source": []
  },
  {
   "cell_type": "code",
   "execution_count": 173,
   "metadata": {},
   "outputs": [],
   "source": [
    "stab_str = \"(-2*p^2 - p^2*w^2 - 2*ds*p^2*w^2)/3 + \n",
    "(\n",
    "  -1/3*(-(p^5*(24*p + 2*(2*(8 + 17*ds)*p + (ds*(-1 + p)*pa + dds*(-1 + p)*p*pa + ds^2*(-p + pa))*Pe^2)*w^2 + \n",
    "         (2*(8 + ds*(58 + 33*ds))*p - (2*(-13 + ds)*ds^2*p + (ds + ds^2 - 2*ds^3 + (-dds + ds)*(-1 + 25*ds)*p + dds*(-1 + 25*ds)*p^2)*pa)*Pe^2)*w^4 + (3 + 2*ds*(8 + ds*(29 + 11*ds)))*p*w^6)) - \n",
    "      Sqrt[p^6*(p^4*(24*p + 2*(2*(8 + 17*ds)*p + (ds*(-1 + p)*pa + dds*(-1 + p)*p*pa + ds^2*(-p + pa))*Pe^2)*w^2 + (2*(8 + ds*(58 + 33*ds))*p - (2*(-13 + ds)*ds^2*p + (ds + ds^2 - 2*ds^3 + (-dds + ds)*(-1 + 25*ds)*p + \n",
    "                  dds*(-1 + 25*ds)*p^2)*pa)*Pe^2)*w^4 + (3 + 2*ds*(8 + ds*(29 + 11*ds)))*p*w^6)^2 - 4*(2 + (1 + 2*ds)*w^2)^3*(-3 + p^2*(2 + (1 + 2*ds)*w^2))^3)])^(1/3)/2^(1/3) - \n",
    "  (-(p^5*(24*p + 2*(2*(8 + 17*ds)*p + (ds*(-1 + p)*pa + dds*(-1 + p)*p*pa + ds^2*(-p + pa))*Pe^2)*w^2 + \n",
    "        (2*(8 + ds*(58 + 33*ds))*p - (2*(-13 + ds)*ds^2*p + (ds + ds^2 - 2*ds^3 + (-dds + ds)*(-1 + 25*ds)*p + dds*(-1 + 25*ds)*p^2)*pa)*Pe^2)*w^4 + (3 + 2*ds*(8 + ds*(29 + 11*ds)))*p*w^6)) + \n",
    "     Sqrt[p^6*(p^4*(24*p + 2*(2*(8 + 17*ds)*p + (ds*(-1 + p)*pa + dds*(-1 + p)*p*pa + ds^2*(-p + pa))*Pe^2)*w^2 + (2*(8 + ds*(58 + 33*ds))*p - (2*(-13 + ds)*ds^2*p + (ds + ds^2 - 2*ds^3 + (-dds + ds)*(-1 + 25*ds)*p + \n",
    "                 dds*(-1 + 25*ds)*p^2)*pa)*Pe^2)*w^4 + (3 + 2*ds*(8 + ds*(29 + 11*ds)))*p*w^6)^2 - 4*(2 + (1 + 2*ds)*w^2)^3*(-3 + p^2*(2 + (1 + 2*ds)*w^2))^3)])^(1/3)/(3*2^(1/3)))/2\"\n",
    "stab_f = string_to_function(stab_str, [:p, :pa, :Pe, :w, :ds, :dds]);        "
   ]
  },
  {
   "cell_type": "code",
   "execution_count": 147,
   "metadata": {},
   "outputs": [
    {
     "data": {
      "text/plain": [
       "-0.666611797996862 + 0.23991623839068565im"
      ]
     },
     "metadata": {},
     "output_type": "display_data"
    }
   ],
   "source": [
    "ϕ, ϕa, v0, w = 0.7, 0.5, 7.5, 0.1\n",
    "stab_f(Complex(ϕ), Complex(ϕa), Complex(v0), Complex(w), ds(ϕ), dsp(ϕ))"
   ]
  },
  {
   "cell_type": "code",
   "execution_count": 170,
   "metadata": {},
   "outputs": [],
   "source": [
    "u1_str = \"(-(p^5*(24*p + 2*(2*(8 + 17*ds)*p + (ds*(-1 + p)*pa + dds*(-1 + p)*p*pa + ds^2*(-p + pa))*Pe^2)*w^2 + \n",
    "(2*(8 + ds*(58 + 33*ds))*p - (2*(-13 + ds)*ds^2*p + (ds + ds^2 - 2*ds^3 + (-dds + ds)*(-1 + 25*ds)*p + dds*(-1 + 25*ds)*p^2)*pa)*Pe^2)*w^4 + (3 + 2*ds*(8 + ds*(29 + 11*ds)))*p*w^6)) + \n",
    "(p^6*(p^4*(24*p + 2*(2*(8 + 17*ds)*p + (ds*(-1 + p)*pa + dds*(-1 + p)*p*pa + ds^2*(-p + pa))*Pe^2)*w^2 + \n",
    "   (2*(8 + ds*(58 + 33*ds))*p - (2*(-13 + ds)*ds^2*p + (ds + ds^2 - 2*ds^3 + (-dds + ds)*(-1 + 25*ds)*p + dds*(-1 + 25*ds)*p^2)*pa)*Pe^2)*w^4 + (3 + 2*ds*(8 + ds*(29 + 11*ds)))*p*w^6)^2 - \n",
    "4*(2 + (1 + 2*ds)*w^2)^3*(-3 + p^2*(2 + (1 + 2*ds)*w^2))^3))^(1/2))/54\"\n",
    "u1 = string_to_function(u1_str, [:p, :pa, :Pe, :w, :ds, :dds]); \n",
    "\n",
    "u2_str = \"(-(p^5*(24*p + 2*(2*(8 + 17*ds)*p + (ds*(-1 + p)*pa + dds*(-1 + p)*p*pa + ds^2*(-p + pa))*Pe^2)*w^2 + \n",
    "(2*(8 + ds*(58 + 33*ds))*p - (2*(-13 + ds)*ds^2*p + (ds + ds^2 - 2*ds^3 + (-dds + ds)*(-1 + 25*ds)*p + dds*(-1 + 25*ds)*p^2)*pa)*Pe^2)*w^4 + (3 + 2*ds*(8 + ds*(29 + 11*ds)))*p*w^6)) - \n",
    "(p^6*(p^4*(24*p + 2*(2*(8 + 17*ds)*p + (ds*(-1 + p)*pa + dds*(-1 + p)*p*pa + ds^2*(-p + pa))*Pe^2)*w^2 + \n",
    "   (2*(8 + ds*(58 + 33*ds))*p - (2*(-13 + ds)*ds^2*p + (ds + ds^2 - 2*ds^3 + (-dds + ds)*(-1 + 25*ds)*p + dds*(-1 + 25*ds)*p^2)*pa)*Pe^2)*w^4 + (3 + 2*ds*(8 + ds*(29 + 11*ds)))*p*w^6)^2 - \n",
    "4*(2 + (1 + 2*ds)*w^2)^3*(-3 + p^2*(2 + (1 + 2*ds)*w^2))^3))^(1/2))/54\"\n",
    "u2 = string_to_function(u2_str, [:p, :pa, :Pe, :w, :ds, :dds]); "
   ]
  },
  {
   "cell_type": "code",
   "execution_count": 200,
   "metadata": {},
   "outputs": [
    {
     "data": {
      "text/plain": [
       "0.06322510453798301"
      ]
     },
     "metadata": {},
     "output_type": "display_data"
    }
   ],
   "source": [
    "ϕ, ϕa, v0, w = 0.7, 0.5, 7.5, 0.1\n",
    "ds(ϕ), dsp(ϕ)\n",
    "u1(ϕ, ϕa, v0, w, ds(ϕ), dsp(ϕ))"
   ]
  },
  {
   "cell_type": "code",
   "execution_count": 181,
   "metadata": {},
   "outputs": [
    {
     "data": {
      "text/plain": [
       "-0.17008931127734367 - 0.0im"
      ]
     },
     "metadata": {},
     "output_type": "display_data"
    }
   ],
   "source": [
    "ϕ, ϕa, v0, w = 0.7, 0.5, 7.5, 0.1\n",
    "u2(ϕ, ϕa, v0, w, ds(ϕ), dsp(ϕ))"
   ]
  },
  {
   "cell_type": "code",
   "execution_count": 209,
   "metadata": {},
   "outputs": [
    {
     "data": {
      "text/plain": [
       "3.726794062155342e-7"
      ]
     },
     "metadata": {},
     "output_type": "display_data"
    }
   ],
   "source": [
    "#check complex\n",
    "discriminant_str = \"(p^9*(-4*p + (-2*(-1 + ds)*p + 3*(ds^2*p - (ds^2 + ds*(-1 + p) + dds*(-1 + p)*p)*pa)*Pe^2)*w^2 - \n",
    "(-1 + ds)^2*p*w^4)^3)/729 + \n",
    "(2*(2*p^2 + p^2*w^2 + 2*ds*p^2*w^2)^3 - 9*(2*p^2 + p^2*w^2 + 2*ds*p^2*w^2)*\n",
    "(2*p^4*w^2 + 2*ds*p^4*w^2 + ds^2*p^4*Pe^2*w^2 + ds*p^3*pa*Pe^2*w^2 - ds^2*p^3*pa*Pe^2*w^2 + \n",
    " dds*p^4*pa*Pe^2*w^2 - ds*p^4*pa*Pe^2*w^2 - dds*p^5*pa*Pe^2*w^2 + 2*ds*p^4*w^4 + ds^2*p^4*w^4) + \n",
    "27*(2*ds*p^6*w^4 + ds^2*p^6*Pe^2*w^4 + dds*ds*p^6*pa*Pe^2*w^4 - ds^2*p^6*pa*Pe^2*w^4 - \n",
    " dds*ds*p^7*pa*Pe^2*w^4 + ds^2*p^6*w^6))^2/2916\"\n",
    "discriminant_f = string_to_function(discriminant_str, [:p, :pa, :Pe, :w, :ds, :dds]);\n",
    "ϕ, ϕa, v0, w = 0.7, 0.3, 7.5, 0.1\n",
    "discriminant_f(ϕ, ϕa, v0, w, ds(ϕ), dsp(ϕ))"
   ]
  },
  {
   "cell_type": "code",
   "execution_count": 221,
   "metadata": {},
   "outputs": [
    {
     "data": {
      "text/plain": [
       "-0.0022433657419261596"
      ]
     },
     "metadata": {},
     "output_type": "display_data"
    }
   ],
   "source": [
    "u1_str = \"(-2*(2*p^2 + p^2*w^2 + 2*ds*p^2*w^2)^3 + 9*(2*p^2 + p^2*w^2 + 2*ds*p^2*w^2)*\n",
    "(2*p^4*w^2 + 2*ds*p^4*w^2 + ds^2*p^4*Pe^2*w^2 + ds*p^3*pa*Pe^2*w^2 - ds^2*p^3*pa*Pe^2*w^2 + \n",
    " dds*p^4*pa*Pe^2*w^2 - ds*p^4*pa*Pe^2*w^2 - dds*p^5*pa*Pe^2*w^2 + 2*ds*p^4*w^4 + ds^2*p^4*w^4) - \n",
    "27*(2*ds*p^6*w^4 + ds^2*p^6*Pe^2*w^4 + dds*ds*p^6*pa*Pe^2*w^4 - ds^2*p^6*pa*Pe^2*w^4 - \n",
    " dds*ds*p^7*pa*Pe^2*w^4 + ds^2*p^6*w^6))/54 + \n",
    "Sqrt[(p^9*(-4*p + (-2*(-1 + ds)*p + 3*(ds^2*p - (ds^2 + ds*(-1 + p) + dds*(-1 + p)*p)*pa)*Pe^2)*w^2 - \n",
    "   (-1 + ds)^2*p*w^4)^3)/729 + \n",
    "(2*(2*p^2 + p^2*w^2 + 2*ds*p^2*w^2)^3 - 9*(2*p^2 + p^2*w^2 + 2*ds*p^2*w^2)*\n",
    "   (2*p^4*w^2 + 2*ds*p^4*w^2 + ds^2*p^4*Pe^2*w^2 + ds*p^3*pa*Pe^2*w^2 - ds^2*p^3*pa*Pe^2*w^2 + \n",
    "    dds*p^4*pa*Pe^2*w^2 - ds*p^4*pa*Pe^2*w^2 - dds*p^5*pa*Pe^2*w^2 + 2*ds*p^4*w^4 + ds^2*p^4*w^4) + \n",
    "  27*(2*ds*p^6*w^4 + ds^2*p^6*Pe^2*w^4 + dds*ds*p^6*pa*Pe^2*w^4 - ds^2*p^6*pa*Pe^2*w^4 - \n",
    "    dds*ds*p^7*pa*Pe^2*w^4 + ds^2*p^6*w^6))^2/2916]\"\n",
    "u1 = string_to_function(u1_str, [:p, :pa, :Pe, :w, :ds, :dds]); \n",
    "\n",
    "u2_str = \"(-2*(2*p^2 + p^2*w^2 + 2*ds*p^2*w^2)^3 + 9*(2*p^2 + p^2*w^2 + 2*ds*p^2*w^2)*\n",
    "(2*p^4*w^2 + 2*ds*p^4*w^2 + ds^2*p^4*Pe^2*w^2 + ds*p^3*pa*Pe^2*w^2 - ds^2*p^3*pa*Pe^2*w^2 + \n",
    " dds*p^4*pa*Pe^2*w^2 - ds*p^4*pa*Pe^2*w^2 - dds*p^5*pa*Pe^2*w^2 + 2*ds*p^4*w^4 + ds^2*p^4*w^4) - \n",
    "27*(2*ds*p^6*w^4 + ds^2*p^6*Pe^2*w^4 + dds*ds*p^6*pa*Pe^2*w^4 - ds^2*p^6*pa*Pe^2*w^4 - \n",
    " dds*ds*p^7*pa*Pe^2*w^4 + ds^2*p^6*w^6))/54 - \n",
    "Sqrt[(p^9*(-4*p + (-2*(-1 + ds)*p + 3*(ds^2*p - (ds^2 + ds*(-1 + p) + dds*(-1 + p)*p)*pa)*Pe^2)*w^2 - \n",
    "   (-1 + ds)^2*p*w^4)^3)/729 + \n",
    "(2*(2*p^2 + p^2*w^2 + 2*ds*p^2*w^2)^3 - 9*(2*p^2 + p^2*w^2 + 2*ds*p^2*w^2)*\n",
    "   (2*p^4*w^2 + 2*ds*p^4*w^2 + ds^2*p^4*Pe^2*w^2 + ds*p^3*pa*Pe^2*w^2 - ds^2*p^3*pa*Pe^2*w^2 + \n",
    "    dds*p^4*pa*Pe^2*w^2 - ds*p^4*pa*Pe^2*w^2 - dds*p^5*pa*Pe^2*w^2 + 2*ds*p^4*w^4 + ds^2*p^4*w^4) + \n",
    "  27*(2*ds*p^6*w^4 + ds^2*p^6*Pe^2*w^4 + dds*ds*p^6*pa*Pe^2*w^4 - ds^2*p^6*pa*Pe^2*w^4 - \n",
    "    dds*ds*p^7*pa*Pe^2*w^4 + ds^2*p^6*w^6))^2/2916]\"\n",
    "u2 = string_to_function(u2_str, [:p, :pa, :Pe, :w, :ds, :dds]); \n",
    "\n",
    "ϕ, ϕa, v0, w = 0.7, 0.3, 7.5, 0.1\n",
    "uu1 = u1(ϕ, ϕa, v0, w, ds(ϕ), dsp(ϕ))\n",
    "uu2 = u2(ϕ, ϕa, v0, w, ds(ϕ), dsp(ϕ))\n",
    "shift_str = \"(-2*p^2 - p^2*w^2 - 2*ds*p^2*w^2)/3\"\n",
    "shift_fn = string_to_function(shift_str, [:p, :pa, :Pe, :w, :ds, :dds]); \n",
    "\n",
    "function re_eigen_f(ϕ, ϕa, v0, w, ds, dsp)\n",
    "   return ( -(cbrt(u1(ϕ, ϕa, v0, w, ds, dsp))+cbrt(u2(ϕ, ϕa, v0, w, ds, dsp)))/2 + shift_fn(ϕ, ϕa, v0, w, ds, dsp))/ϕ^2\n",
    "end\n",
    "ϕ, ϕa, v0, w = 0.7, 0.3, 7.5, 0.1\n",
    "re_eigen_f(ϕ, ϕa, v0, w, ds(ϕ), dsp(ϕ))"
   ]
  },
  {
   "cell_type": "code",
   "execution_count": 198,
   "metadata": {},
   "outputs": [
    {
     "data": {
      "text/plain": [
       "-0.5123769051905872"
      ]
     },
     "metadata": {},
     "output_type": "display_data"
    }
   ],
   "source": [
    "ϕ, ϕa, v0, w = 0.7, 0.5, 7.5, 0.1\n",
    "uu1 = u1(ϕ, ϕa, v0, w, ds(ϕ), dsp(ϕ))\n",
    "uu2 = u2(ϕ, ϕa, v0, w, ds(ϕ), dsp(ϕ))\n",
    "shift_str = \"(-2*p^2 - p^2*w^2 - 2*ds*p^2*w^2)/3\"\n",
    "shift_fn = string_to_function(shift_str, [:p, :pa, :Pe, :w, :ds, :dds]); \n",
    "shift = shift_fn(ϕ, ϕa, v0, w, ds(ϕ), dsp(ϕ))\n",
    "re_lamb = ((-1/2)*( cbrt(real(uu1))+cbrt(real(uu2)) )+ shift)/ϕ^2"
   ]
  },
  {
   "cell_type": "code",
   "execution_count": 194,
   "metadata": {},
   "outputs": [
    {
     "data": {
      "text/plain": [
       "relamb (generic function with 1 method)"
      ]
     },
     "metadata": {},
     "output_type": "display_data"
    }
   ],
   "source": [
    "# ω, λ, λv = lin_pert_values(param)\n",
    "param = get_grid_param(12,4)\n",
    "\n",
    "param[\"ϕa\"] = 0.3\n",
    "param[\"ϕp\"] = 0.6\n",
    "param[\"Lx\"] = 2.0\n",
    "param[\"v0\"] = 20.0\n",
    "param[\"Δx\"] = param[\"Lx\"]/param[\"Nx\"]\n",
    "\n",
    "\n",
    "function relamb(x,y; L = 2, v = 7.5, param = param)\n",
    "    param[\"ϕa\"] = x\n",
    "    param[\"ϕp\"] = y\n",
    "    param[\"Lx\"] = L\n",
    "    param[\"v0\"] = v\n",
    "    ω, λ, λv = lin_pert_values(param)\n",
    "    return real(λ)\n",
    "end"
   ]
  },
  {
   "cell_type": "code",
   "execution_count": 222,
   "metadata": {},
   "outputs": [
    {
     "data": {
      "text/plain": [
       "-0.0022433657419262242"
      ]
     },
     "metadata": {},
     "output_type": "display_data"
    }
   ],
   "source": [
    "relamb(ϕa,ϕ-ϕa; L = 2*π/w, v = v0, param = param)"
   ]
  },
  {
   "cell_type": "code",
   "execution_count": 224,
   "metadata": {},
   "outputs": [],
   "source": [
    "u1dw_str = \"(-6*(2*p^2*w + 4*ds*p^2*w)*(2*p^2 + p^2*w^2 + 2*ds*p^2*w^2)^2 + 9*(2*p^2 + p^2*w^2 + 2*ds*p^2*w^2)*\n",
    "(4*p^4*w + 4*ds*p^4*w + 2*ds^2*p^4*Pe^2*w + 2*ds*p^3*pa*Pe^2*w - 2*ds^2*p^3*pa*Pe^2*w + \n",
    " 2*dds*p^4*pa*Pe^2*w - 2*ds*p^4*pa*Pe^2*w - 2*dds*p^5*pa*Pe^2*w + 8*ds*p^4*w^3 + 4*ds^2*p^4*w^3) + \n",
    "9*(2*p^2*w + 4*ds*p^2*w)*(2*p^4*w^2 + 2*ds*p^4*w^2 + ds^2*p^4*Pe^2*w^2 + ds*p^3*pa*Pe^2*w^2 - \n",
    " ds^2*p^3*pa*Pe^2*w^2 + dds*p^4*pa*Pe^2*w^2 - ds*p^4*pa*Pe^2*w^2 - dds*p^5*pa*Pe^2*w^2 + \n",
    " 2*ds*p^4*w^4 + ds^2*p^4*w^4) - 27*(8*ds*p^6*w^3 + 4*ds^2*p^6*Pe^2*w^3 + 4*dds*ds*p^6*pa*Pe^2*w^3 - \n",
    " 4*ds^2*p^6*pa*Pe^2*w^3 - 4*dds*ds*p^7*pa*Pe^2*w^3 + 6*ds^2*p^6*w^5))/54 + \n",
    "((p^9*(2*(-2*(-1 + ds)*p + 3*(ds^2*p - (ds^2 + ds*(-1 + p) + dds*(-1 + p)*p)*pa)*Pe^2)*w - \n",
    "  4*(-1 + ds)^2*p*w^3)*\n",
    " (-4*p + (-2*(-1 + ds)*p + 3*(ds^2*p - (ds^2 + ds*(-1 + p) + dds*(-1 + p)*p)*pa)*Pe^2)*w^2 - \n",
    "   (-1 + ds)^2*p*w^4)^2)/243 + ((6*(2*p^2*w + 4*ds*p^2*w)*(2*p^2 + p^2*w^2 + 2*ds*p^2*w^2)^2 - \n",
    "  9*(2*p^2 + p^2*w^2 + 2*ds*p^2*w^2)*(4*p^4*w + 4*ds*p^4*w + 2*ds^2*p^4*Pe^2*w + \n",
    "    2*ds*p^3*pa*Pe^2*w - 2*ds^2*p^3*pa*Pe^2*w + 2*dds*p^4*pa*Pe^2*w - 2*ds*p^4*pa*Pe^2*w - \n",
    "    2*dds*p^5*pa*Pe^2*w + 8*ds*p^4*w^3 + 4*ds^2*p^4*w^3) - 9*(2*p^2*w + 4*ds*p^2*w)*\n",
    "   (2*p^4*w^2 + 2*ds*p^4*w^2 + ds^2*p^4*Pe^2*w^2 + ds*p^3*pa*Pe^2*w^2 - ds^2*p^3*pa*Pe^2*w^2 + \n",
    "    dds*p^4*pa*Pe^2*w^2 - ds*p^4*pa*Pe^2*w^2 - dds*p^5*pa*Pe^2*w^2 + 2*ds*p^4*w^4 + ds^2*p^4*w^4) + \n",
    "  27*(8*ds*p^6*w^3 + 4*ds^2*p^6*Pe^2*w^3 + 4*dds*ds*p^6*pa*Pe^2*w^3 - 4*ds^2*p^6*pa*Pe^2*w^3 - \n",
    "    4*dds*ds*p^7*pa*Pe^2*w^3 + 6*ds^2*p^6*w^5))*(2*(2*p^2 + p^2*w^2 + 2*ds*p^2*w^2)^3 - \n",
    "  9*(2*p^2 + p^2*w^2 + 2*ds*p^2*w^2)*(2*p^4*w^2 + 2*ds*p^4*w^2 + ds^2*p^4*Pe^2*w^2 + \n",
    "    ds*p^3*pa*Pe^2*w^2 - ds^2*p^3*pa*Pe^2*w^2 + dds*p^4*pa*Pe^2*w^2 - ds*p^4*pa*Pe^2*w^2 - \n",
    "    dds*p^5*pa*Pe^2*w^2 + 2*ds*p^4*w^4 + ds^2*p^4*w^4) + \n",
    "  27*(2*ds*p^6*w^4 + ds^2*p^6*Pe^2*w^4 + dds*ds*p^6*pa*Pe^2*w^4 - ds^2*p^6*pa*Pe^2*w^4 - \n",
    "    dds*ds*p^7*pa*Pe^2*w^4 + ds^2*p^6*w^6)))/1458)/\n",
    "(2*Sqrt[(p^9*(-4*p + (-2*(-1 + ds)*p + 3*(ds^2*p - (ds^2 + ds*(-1 + p) + dds*(-1 + p)*p)*pa)*Pe^2)*\n",
    "      w^2 - (-1 + ds)^2*p*w^4)^3)/729 + \n",
    " (2*(2*p^2 + p^2*w^2 + 2*ds*p^2*w^2)^3 - 9*(2*p^2 + p^2*w^2 + 2*ds*p^2*w^2)*\n",
    "     (2*p^4*w^2 + 2*ds*p^4*w^2 + ds^2*p^4*Pe^2*w^2 + ds*p^3*pa*Pe^2*w^2 - ds^2*p^3*pa*Pe^2*w^2 + \n",
    "      dds*p^4*pa*Pe^2*w^2 - ds*p^4*pa*Pe^2*w^2 - dds*p^5*pa*Pe^2*w^2 + 2*ds*p^4*w^4 + \n",
    "      ds^2*p^4*w^4) + 27*(2*ds*p^6*w^4 + ds^2*p^6*Pe^2*w^4 + dds*ds*p^6*pa*Pe^2*w^4 - \n",
    "      ds^2*p^6*pa*Pe^2*w^4 - dds*ds*p^7*pa*Pe^2*w^4 + ds^2*p^6*w^6))^2/2916])\"\n",
    "u1dw = string_to_function(u1dw_str, [:p, :pa, :Pe, :w, :ds, :dds]); \n",
    "\n",
    "u2dw_str = \"(-6*(2*p^2*w + 4*ds*p^2*w)*(2*p^2 + p^2*w^2 + 2*ds*p^2*w^2)^2 + 9*(2*p^2 + p^2*w^2 + 2*ds*p^2*w^2)*\n",
    "(4*p^4*w + 4*ds*p^4*w + 2*ds^2*p^4*Pe^2*w + 2*ds*p^3*pa*Pe^2*w - 2*ds^2*p^3*pa*Pe^2*w + \n",
    " 2*dds*p^4*pa*Pe^2*w - 2*ds*p^4*pa*Pe^2*w - 2*dds*p^5*pa*Pe^2*w + 8*ds*p^4*w^3 + 4*ds^2*p^4*w^3) + \n",
    "9*(2*p^2*w + 4*ds*p^2*w)*(2*p^4*w^2 + 2*ds*p^4*w^2 + ds^2*p^4*Pe^2*w^2 + ds*p^3*pa*Pe^2*w^2 - \n",
    " ds^2*p^3*pa*Pe^2*w^2 + dds*p^4*pa*Pe^2*w^2 - ds*p^4*pa*Pe^2*w^2 - dds*p^5*pa*Pe^2*w^2 + \n",
    " 2*ds*p^4*w^4 + ds^2*p^4*w^4) - 27*(8*ds*p^6*w^3 + 4*ds^2*p^6*Pe^2*w^3 + 4*dds*ds*p^6*pa*Pe^2*w^3 - \n",
    " 4*ds^2*p^6*pa*Pe^2*w^3 - 4*dds*ds*p^7*pa*Pe^2*w^3 + 6*ds^2*p^6*w^5))/54 - \n",
    "((p^9*(2*(-2*(-1 + ds)*p + 3*(ds^2*p - (ds^2 + ds*(-1 + p) + dds*(-1 + p)*p)*pa)*Pe^2)*w - \n",
    "  4*(-1 + ds)^2*p*w^3)*\n",
    " (-4*p + (-2*(-1 + ds)*p + 3*(ds^2*p - (ds^2 + ds*(-1 + p) + dds*(-1 + p)*p)*pa)*Pe^2)*w^2 - \n",
    "   (-1 + ds)^2*p*w^4)^2)/243 + ((6*(2*p^2*w + 4*ds*p^2*w)*(2*p^2 + p^2*w^2 + 2*ds*p^2*w^2)^2 - \n",
    "  9*(2*p^2 + p^2*w^2 + 2*ds*p^2*w^2)*(4*p^4*w + 4*ds*p^4*w + 2*ds^2*p^4*Pe^2*w + \n",
    "    2*ds*p^3*pa*Pe^2*w - 2*ds^2*p^3*pa*Pe^2*w + 2*dds*p^4*pa*Pe^2*w - 2*ds*p^4*pa*Pe^2*w - \n",
    "    2*dds*p^5*pa*Pe^2*w + 8*ds*p^4*w^3 + 4*ds^2*p^4*w^3) - 9*(2*p^2*w + 4*ds*p^2*w)*\n",
    "   (2*p^4*w^2 + 2*ds*p^4*w^2 + ds^2*p^4*Pe^2*w^2 + ds*p^3*pa*Pe^2*w^2 - ds^2*p^3*pa*Pe^2*w^2 + \n",
    "    dds*p^4*pa*Pe^2*w^2 - ds*p^4*pa*Pe^2*w^2 - dds*p^5*pa*Pe^2*w^2 + 2*ds*p^4*w^4 + ds^2*p^4*w^4) + \n",
    "  27*(8*ds*p^6*w^3 + 4*ds^2*p^6*Pe^2*w^3 + 4*dds*ds*p^6*pa*Pe^2*w^3 - 4*ds^2*p^6*pa*Pe^2*w^3 - \n",
    "    4*dds*ds*p^7*pa*Pe^2*w^3 + 6*ds^2*p^6*w^5))*(2*(2*p^2 + p^2*w^2 + 2*ds*p^2*w^2)^3 - \n",
    "  9*(2*p^2 + p^2*w^2 + 2*ds*p^2*w^2)*(2*p^4*w^2 + 2*ds*p^4*w^2 + ds^2*p^4*Pe^2*w^2 + \n",
    "    ds*p^3*pa*Pe^2*w^2 - ds^2*p^3*pa*Pe^2*w^2 + dds*p^4*pa*Pe^2*w^2 - ds*p^4*pa*Pe^2*w^2 - \n",
    "    dds*p^5*pa*Pe^2*w^2 + 2*ds*p^4*w^4 + ds^2*p^4*w^4) + \n",
    "  27*(2*ds*p^6*w^4 + ds^2*p^6*Pe^2*w^4 + dds*ds*p^6*pa*Pe^2*w^4 - ds^2*p^6*pa*Pe^2*w^4 - \n",
    "    dds*ds*p^7*pa*Pe^2*w^4 + ds^2*p^6*w^6)))/1458)/\n",
    "(2*Sqrt[(p^9*(-4*p + (-2*(-1 + ds)*p + 3*(ds^2*p - (ds^2 + ds*(-1 + p) + dds*(-1 + p)*p)*pa)*Pe^2)*\n",
    "      w^2 - (-1 + ds)^2*p*w^4)^3)/729 + \n",
    " (2*(2*p^2 + p^2*w^2 + 2*ds*p^2*w^2)^3 - 9*(2*p^2 + p^2*w^2 + 2*ds*p^2*w^2)*\n",
    "     (2*p^4*w^2 + 2*ds*p^4*w^2 + ds^2*p^4*Pe^2*w^2 + ds*p^3*pa*Pe^2*w^2 - ds^2*p^3*pa*Pe^2*w^2 + \n",
    "      dds*p^4*pa*Pe^2*w^2 - ds*p^4*pa*Pe^2*w^2 - dds*p^5*pa*Pe^2*w^2 + 2*ds*p^4*w^4 + \n",
    "      ds^2*p^4*w^4) + 27*(2*ds*p^6*w^4 + ds^2*p^6*Pe^2*w^4 + dds*ds*p^6*pa*Pe^2*w^4 - \n",
    "      ds^2*p^6*pa*Pe^2*w^4 - dds*ds*p^7*pa*Pe^2*w^4 + ds^2*p^6*w^6))^2/2916])\"\n",
    "u2dw = string_to_function(u2dw_str, [:p, :pa, :Pe, :w, :ds, :dds]); \n",
    "\n",
    "shiftdw_str = \"(-2*p^2*w - 4*ds*p^2*w)/3\"\n",
    "shiftdw = string_to_function(shiftdw_str, [:p, :pa, :Pe, :w, :ds, :dds]); "
   ]
  },
  {
   "cell_type": "code",
   "execution_count": 290,
   "metadata": {},
   "outputs": [
    {
     "data": {
      "text/plain": [
       "-0.0446157049416739"
      ]
     },
     "metadata": {},
     "output_type": "display_data"
    }
   ],
   "source": [
    "function Dw(ϕ, ϕa, v0, w, ds, dsp)\n",
    "    if discriminant_f(ϕ, ϕa, v0, w, ds, dsp) ≥ 0\n",
    "        return (-(  u1dw(ϕ, ϕa, v0, w, ds, dsp)*cbrt(u1(ϕ, ϕa, v0, w, ds, dsp))^(-2)+  u2dw(ϕ, ϕa, v0, w, ds, dsp)*cbrt(u2(ϕ, ϕa, v0, w, ds, dsp))^(-2)    )/6 + shiftdw(ϕ, ϕa, v0, w, ds, dsp))/ϕ^2\n",
    "    else\n",
    "        vars = complex.([ϕ, ϕa, v0, w, ds, dsp])\n",
    "        return real( (-(  u1dw(vars...)*(u1(vars...))^(-2/3)+  u2dw(vars...)*(u2(vars...))^(-2/3)    )/6 + shiftdw(vars...))/ϕ^2 )\n",
    "    end\n",
    "end\n",
    "function Dw2(ϕ, ϕa, v0, w, ds, dsp)\n",
    "    if discriminant_f(ϕ, ϕa, v0, w, ds, dsp) ≥ 0\n",
    "        return (-(  u1dw(ϕ, ϕa, v0, w, ds, dsp)*cbrt(u1(ϕ, ϕa, v0, w, ds, dsp))^(-2)+  u2dw(ϕ, ϕa, v0, w, ds, dsp)*cbrt(u2(ϕ, ϕa, v0, w, ds, dsp))^(-2)    )/6 + shiftdw(ϕ, ϕa, v0, w, ds, dsp))/ϕ^2\n",
    "    else\n",
    "        vars = complex.([ϕ, ϕa, v0, w, ds, dsp])\n",
    "        z = (1-sqrt(3)*im)/2\n",
    "        return real( ( (  u1dw(vars...)*(u1(vars...))^(-2/3)+  u2dw(vars...)*(u2(vars...))^(-2/3)    )/3 + shiftdw(vars...))/ϕ^2 )\n",
    "    end\n",
    "end\n",
    "# function Dw3(ϕ, ϕa, v0, w, ds, dsp)\n",
    "#     if discriminant_f(ϕ, ϕa, v0, w, ds, dsp) ≥ 0\n",
    "#         return (-(  u1dw(ϕ, ϕa, v0, w, ds, dsp)*cbrt(u1(ϕ, ϕa, v0, w, ds, dsp))^(-2)+  u2dw(ϕ, ϕa, v0, w, ds, dsp)*cbrt(u2(ϕ, ϕa, v0, w, ds, dsp))^(-2)    )/6 + shiftdw(ϕ, ϕa, v0, w, ds, dsp))/ϕ^2\n",
    "#     else\n",
    "#         vars = complex.([ϕ, ϕa, v0, w, ds, dsp])\n",
    "#         z = (1-sqrt(3)*im)/2\n",
    "#         return real( (-(  u1dw(vars...)*(u1(vars...))^(-2/3)+  u2dw(vars...)*(u2(vars...))^(-2/3)    )/6 + shiftdw(vars...))/ϕ^2 )\n",
    "#     end\n",
    "# end\n",
    "ϕ, ϕa, v0, w = 0.7, 0.3, 7.5, 0.1\n",
    "Dw(ϕ, ϕa, v0, w, ds(ϕ), dsp(ϕ))\n",
    "# u1dw(ϕ, ϕa, v0, w, ds(ϕ), dsp(ϕ)),u2dw(ϕ, ϕa, v0, w, ds(ϕ), dsp(ϕ))"
   ]
  },
  {
   "cell_type": "code",
   "execution_count": 289,
   "metadata": {},
   "outputs": [
    {
     "data": {
      "text/plain": [
       "-0.4999999999999999 - 0.8660254037844387im"
      ]
     },
     "metadata": {},
     "output_type": "display_data"
    }
   ],
   "source": [
    "complex(-1)^(-2/3)"
   ]
  },
  {
   "cell_type": "code",
   "execution_count": 320,
   "metadata": {},
   "outputs": [
    {
     "data": {
      "image/png": "[encoded data removed]",
      "text/plain": [
       "Figure(PyObject <Figure size 1000x500 with 1 Axes>)"
      ]
     },
     "metadata": {},
     "output_type": "display_data"
    }
   ],
   "source": [
    "ϕ, ϕa, v0 = 0.7, 0.4, 7.5\n",
    "\n",
    "using PyPlot\n",
    "fig, ax = subplots(1,1,figsize=(10,5))\n",
    "ws = collect(0.00:0.01:1)\n",
    "\n",
    "\n",
    "λs = relambw.(ws; ϕa = ϕa, ϕ = ϕ, v = v0)\n",
    "ax.plot(ws,λs)\n",
    "\n",
    "f(x) = Dw(ϕ, ϕa, v0, x, ds(ϕ), dsp(ϕ))\n",
    "ws = find_zeros(f,(0,10))\n",
    "λs = relambw.(ws; ϕa = ϕa, ϕ = ϕ, v = v0)\n",
    "ax.scatter(ws,λs; marker = \"x\")\n",
    "\n",
    "f(x) = Dw2(ϕ, ϕa, v0, x, ds(ϕ), dsp(ϕ))\n",
    "ws = find_zeros(f,(0,10))\n",
    "λs = relambw.(ws; ϕa = ϕa, ϕ = ϕ, v = v0)\n",
    "ax.scatter(ws,λs; marker = \"x\")\n",
    "\n",
    "display(fig)"
   ]
  },
  {
   "cell_type": "code",
   "execution_count": 321,
   "metadata": {},
   "outputs": [
    {
     "data": {
      "text/plain": [
       "0.012775371639640248"
      ]
     },
     "metadata": {},
     "output_type": "display_data"
    }
   ],
   "source": [
    "is_stable_value(ϕa, ϕ -ϕa; Pe = v0)"
   ]
  }
 ],
 "metadata": {
  "kernelspec": {
   "display_name": "Julia 1.10.2",
   "language": "julia",
   "name": "julia-1.10"
  },
  "language_info": {
   "file_extension": ".jl",
   "mimetype": "application/julia",
   "name": "julia",
   "version": "1.10.2"
  },
  "orig_nbformat": 4
 },
 "nbformat": 4,
 "nbformat_minor": 2
}
