{
 "cells": [
  {
   "cell_type": "code",
   "execution_count": 1,
   "metadata": {},
   "outputs": [
    {
     "name": "stdout",
     "output_type": "stream",
     "text": [
      "v3.0\n"
     ]
    }
   ],
   "source": [
    "cd(\"/home/jm2386/Active_Lattice/\")\n",
    "using DrWatson\n",
    "@quickactivate \"Active_Lattice\"\n",
    "include(\"/home/jm2386/Active_Lattice/src/pm_pdes.jl\");\n",
    "include(\"/home/jm2386/Active_Lattice/src/pm_sims.jl\");\n",
    "include(\"/home/jm2386/Active_Lattice/src/pm_plot.jl\");\n",
    "include(\"/home/jm2386/Active_Lattice/src/Hetrocline.jl\");"
   ]
  },
  {
   "cell_type": "code",
   "execution_count": 106,
   "metadata": {},
   "outputs": [
    {
     "data": {
      "text/plain": [
       "(0.05, 800)"
      ]
     },
     "metadata": {},
     "output_type": "display_data"
    }
   ],
   "source": [
    "# fns\n",
    "    function get_stretch_param(Lx)\n",
    "        param = get_grid_param(21,11)\n",
    "        @unpack Nx = param\n",
    "        param[\"save_interval\"] = 100.0\n",
    "        param[\"name\"] = \"soliton_stretch\"\n",
    "        param[\"Lx\"] = Float64(Lx)\n",
    "        param[\"Δx\"] = Float64(Lx/Nx)\n",
    "        return param\n",
    "    end\n",
    "\n",
    "    function get_dense_param(Lx, ΔX; save_interval = 1.0)\n",
    "        param = get_stretch_param(Lx)\n",
    "        @pack! param = save_interval\n",
    "\n",
    "        while param[\"Δx\"] > ΔX\n",
    "            param = double_param(param)\n",
    "        end\n",
    "        return param\n",
    "    end\n",
    "\n",
    "    function double_param(param)\n",
    "        @unpack Nx, Lx, Δx = param\n",
    "        NNx = Int64(2*Nx)\n",
    "        Δx = Δx/2\n",
    "        Nx = NNx\n",
    "        @pack! param = Δx, Nx\n",
    "        return param\n",
    "    end\n",
    "#\n",
    "\n",
    "# Load initial wave\n",
    "param = get_dense_param(40, 0.05)\n",
    "    T = 10000.0\n",
    "    @pack! param = T\n",
    "    loaded, f, t = quiet_load_last_pde(param)\n",
    "#\n",
    "\n",
    "# centre f so ρ[end] ≈ ϕ\n",
    "    @unpack Nx, ϕa, ϕp = param\n",
    "    ϕ = ϕa + ϕp\n",
    "    i = argmin(sum(f;dims=2)[:,1]);\n",
    "    f = circshift(f,(-i,0));\n",
    "    i = argmin(  abs.(sum(f;dims=2)[:,1].-ϕ)  )\n",
    "    f = circshift(f,(-i,0));\n",
    "#\n",
    "\n",
    "param[\"Δx\"], param[\"Nx\"]"
   ]
  },
  {
   "cell_type": "code",
   "execution_count": 107,
   "metadata": {},
   "outputs": [
    {
     "data": {
      "text/plain": [
       "ff (generic function with 1 method)"
      ]
     },
     "metadata": {},
     "output_type": "display_data"
    }
   ],
   "source": [
    "# get neccessary paramters\n",
    "@unpack DT, v0, DR, Δx, Nx, Lx, ϕa, ϕp = param\n",
    "ps = DT, v0, DR, Δx, Nx, Lx, ϕa, ϕp\n",
    "ϕ = ϕa + ϕp\n",
    "\n",
    "# flatten initial guess\n",
    "ρ = sum(f;dims = 2)\n",
    "ρa = f[:,2] + f[:,1]\n",
    "m = f[:,2] - f[:,1]\n",
    "\n",
    "normf, c1, dc = f_dot(param, f)\n",
    "c = c1\n",
    "C = [c]\n",
    "\n",
    "u0 = vcat(ρ,ρa,m,C)\n",
    "\n",
    "# useful funcitons\n",
    "\n",
    "function DD(ρ;logtol = 1e-10)\n",
    "    α::Float64= π/2 -1;\n",
    "    if ρ ≤  0.\n",
    "        ρ = logtol\n",
    "    elseif ρ>1.\n",
    "        ρ = 1.\n",
    "    end\n",
    "    return -( α*(2*α-1)/(2*α+1)*ρ - α)+( α*(2*α-1)/(2*α+1)*ρ^2 - α*ρ +1)\n",
    "end\n",
    "\n",
    "function DDp(ρ;logtol = 1e-10)\n",
    "    α::Float64= π/2 -1;\n",
    "    if ρ ≤  0.\n",
    "        ρ = logtol\n",
    "    elseif ρ>1.\n",
    "        ρ = 1.\n",
    "    end\n",
    "    return -( α*(2*α-1)/(2*α+1) )+( 2*α*(2*α-1)/(2*α+1)*ρ - α)\n",
    "end\n",
    "\n",
    "function self_diff(ρ;logtol = 1e-10)\n",
    "    α= π/2 -1;\n",
    "    if ρ ≤  0.\n",
    "        ρ = logtol\n",
    "    elseif ρ>1.\n",
    "        ρ = 1.\n",
    "    end\n",
    "    return ( 1-ρ).*( α*(2*α-1)/(2*α+1)*ρ^2 - α*ρ +1)\n",
    "end\n",
    "\n",
    "# DD(x) = (1-self_diff(x))/x\n",
    "ss(x) = DD(x) -1\n",
    "ds(x) = self_diff(x)\n",
    "ip(f,i) = circshift(f,(-i,0))\n",
    "dsp(x) = self_diff_prime(x)\n",
    "# DDp(x) = -dsp(x)/x - (1-self_diff(x))/x/x\n",
    "ssp(x) = DDp(x)\n",
    "\n",
    "function rho_eq(ρ,ρa,m,c,i; param = p)\n",
    "    DT, v0, DR, Δx, Nx, Lx = param\n",
    "    iplus  = (i +Nx)%Nx +1\n",
    "    iminus = (i +Nx -2)%Nx +1\n",
    "    return -c*ρ[i] + (DT/2/Δx)*(ρ[iplus]-ρ[iminus]) - v0*(1-ρ[i])*m[i]\n",
    "end\n",
    "\n",
    "function act_eq(ρ,ρa,m,c,i; param = p)\n",
    "    DT, v0, DR, Δx, Nx, Lx = param\n",
    "    iplus  = (i +Nx)%Nx +1\n",
    "    iminus = (i +Nx -2)%Nx +1\n",
    "    return -c*ρa[i] + (DT/2/Δx)*( ds(ρ[i])*(ρa[iplus]-ρa[iminus]) + ρa[i]*DD(ρ[i])*(ρ[iplus]-ρ[iminus])  ) - v0*( ρa[i]*ss(ρ[i])*m[i] + ds(ρ[i])*m[i]  )\n",
    "end\n",
    "\n",
    "function mag_eq(ρ,ρa,m,c,i; param = p)\n",
    "    DT, v0, DR, Δx, Nx, Lx = param\n",
    "    iplus  = (i +Nx)%Nx +1\n",
    "    iminus = (i +Nx -2)%Nx +1\n",
    "    return -c*m[i] + (DT/2/Δx)*( ds(ρ[i])*(m[iplus]-m[iminus]) + m[i]*DD(ρ[i])*(ρ[iplus]-ρ[iminus])  ) - v0*( ss(ρ[i])*m[i]^2 + ds(ρ[i])*ρa[i]  ) -2*DR*Δx*sum(m[1:i])\n",
    "end\n",
    "\n",
    "F = zeros(3*Nx +1)\n",
    "function ff(F,u,p)\n",
    "    DT, v0, DR, Δx, Nx, Lx, ϕa, ϕp = p\n",
    "    ϕ = ϕa + ϕp\n",
    "    global ρ,ρa,m,c\n",
    "    ρ  = u[(0*Nx+1):1:(1*Nx)]\n",
    "    ρa = u[(1*Nx+1):1:(2*Nx)]\n",
    "    m  = u[(2*Nx+1):1:(3*Nx)]\n",
    "    c  = u[end]\n",
    "\n",
    "    for i in 1:(Nx-1)\n",
    "        F[i]        = rho_eq(ρ,ρa,m,c,i; param = p) - rho_eq(ρ,ρa,m,c,Nx; param = p)\n",
    "        F[Nx-1+i]   = act_eq(ρ,ρa,m,c,i; param = p) - act_eq(ρ,ρa,m,c,Nx; param = p)\n",
    "        F[2*Nx-2+i] = mag_eq(ρ,ρa,m,c,i; param = p) - mag_eq(ρ,ρa,m,c,Nx; param = p)\n",
    "    end\n",
    "\n",
    "    F[3*Nx-2] = sum(m)/Nx\n",
    "    F[3*Nx-1] = sum(ρ)/Nx - ϕ\n",
    "    F[3*Nx]   = sum(ρa)/Nx - ϕa\n",
    "    F[3*Nx+1] = ρ[end] - ϕ\n",
    "end"
   ]
  },
  {
   "cell_type": "code",
   "execution_count": 108,
   "metadata": {},
   "outputs": [
    {
     "data": {
      "text/plain": [
       "(0.012751420207747069, 0.03266274732351322)"
      ]
     },
     "metadata": {},
     "output_type": "display_data"
    }
   ],
   "source": [
    "ff(F,u0,ps);\n",
    "#\n",
    "maximum(abs.(F)), u0[end]\n",
    "    # k = 5\n",
    "    # j = 1\n",
    "    # offset = 20\n",
    "    # F[(j*(Nx-1)+Nx÷2-k-offset):(j*(Nx-1)+Nx÷2+k-offset)]\n",
    "    # # argmax(abs.(F)), j*(Nx-1)+Nx÷2 -offset"
   ]
  },
  {
   "cell_type": "code",
   "execution_count": 109,
   "metadata": {},
   "outputs": [
    {
     "data": {
      "image/png": "[encoded data removed]",
      "text/plain": [
       "Figure(PyObject <Figure size 500x500 with 1 Axes>)"
      ]
     },
     "metadata": {},
     "output_type": "display_data"
    }
   ],
   "source": [
    "# Dispaly Profile\n",
    "using PyPlot\n",
    "PyPlot.close(\"all\")\n",
    "        rc(\"text\", usetex=true)\n",
    "        fig, ax = subplots(1,1,figsize=(5,5))\n",
    "        @unpack Δx, Lx = param\n",
    "        ax.plot(Δx:Δx:Lx, f[:,2]+f[:,1]+f[:,3]; \n",
    "        color = \"black\", linestyle = \"-\", label = L\"\\rho\")\n",
    "        ax.plot(Δx:Δx:Lx, f[:,1]+f[:,2]; \n",
    "        color = \"red\", linestyle = \"--\", label = L\"\\rho^a\")\n",
    "        ax.plot(Δx:Δx:Lx, f[:,3]; \n",
    "        color = \"blue\", linestyle = \":\",label = L\"\\rho^p\")\n",
    "        ax.plot(Δx:Δx:Lx, f[:,2]-f[:,1]; \n",
    "        color = \"green\", linestyle = \"-.\", label = L\"m\")\n",
    "        ax.plot(Δx:Δx:Lx, ϕ*ones(Nx); \n",
    "        color = \"black\", linestyle = \"--\", label = \"_m\")\n",
    "        ax.plot(Δx:Δx:(Lx-Δx), abs.(F[1:(Nx-1)])+abs.(F[(Nx):1:(2*Nx-2)])+abs.(F[(2*Nx-1):(3*Nx-3)]);\n",
    "        color = \"black\", linestyle = \":\", label = \"_m\")\n",
    "\n",
    "        d2(x) = round(x; digits = 2)\n",
    "        d4(x) = round(x; digits = 4)\n",
    "        d6(x) = round(x; digits = 6)\n",
    "        normf, c1, dc = f_dot(param, f)\n",
    "        latex_string = latexstring(\"\\$ t = $(d2(t)), \\\\phi_a = $(param[\"ϕa\"]), \\\\phi_p = $(param[\"ϕp\"]), L_2 = $(d4(normf)), c = $(d4(c1)), {\\\\dot c} = $(d6(dc))\\$\")\n",
    "        ax.set_title(latex_string, fontsize = 12)\n",
    "        ax.get_xaxis().set_ticks(0:10.0:Lx)\n",
    "        ax.get_yaxis().set_ticks(-0.25:0.25:1.0)\n",
    "        # ax.set_xlabel(L\"x\", fontsize = 15)\n",
    "        #ax.set_ylabel(L\"m\",fontsize = font, rotation = 90)\n",
    "        ax.set_aspect((Lx/(1.25)))\n",
    "        ax.axis([0,Lx,-0.25,1.0])\n",
    "        ax.tick_params(direction = \"in\")\n",
    "        ax.legend(loc= \"upper right\", fontsize = 12)\n",
    "        ax.set_xlabel(L\"x\", fontsize = 15)\n",
    "display(fig)"
   ]
  },
  {
   "cell_type": "code",
   "execution_count": 110,
   "metadata": {},
   "outputs": [
    {
     "data": {
      "text/plain": [
       "(1.0035369183841736e-6, 0.03382425054080247)"
      ]
     },
     "metadata": {},
     "output_type": "display_data"
    }
   ],
   "source": [
    "using NonlinearSolve, DifferentialEquations\n",
    "# solve steady state\n",
    "prob = NonlinearProblem(ff, u0, ps; abstol = 1e-5, reltol =  1e-5)\n",
    "    sol  = solve(prob)\n",
    "    u = sol.u\n",
    "    ff(F,u,ps);\n",
    "#\n",
    "u = sol.u\n",
    "f = get_f(u)\n",
    "maximum(abs.(F)), u[end]"
   ]
  },
  {
   "cell_type": "code",
   "execution_count": 111,
   "metadata": {},
   "outputs": [
    {
     "data": {
      "text/plain": [
       "(8.74326756827859e-11, 0.033824358358296905)"
      ]
     },
     "metadata": {},
     "output_type": "display_data"
    }
   ],
   "source": [
    "using NonlinearSolve, DifferentialEquations\n",
    "# solve steady state\n",
    "prob = NonlinearProblem(ff, u0, ps; abstol = 1e-8, reltol =  1e-8)\n",
    "    sol  = solve(prob)\n",
    "    u = sol.u\n",
    "    ff(F,u,ps);\n",
    "#\n",
    "u = sol.u\n",
    "f = get_f(u)\n",
    "maximum(abs.(F)), u[end]"
   ]
  },
  {
   "cell_type": "code",
   "execution_count": 112,
   "metadata": {},
   "outputs": [
    {
     "data": {
      "text/plain": [
       "(800, 40.0, 0.05)"
      ]
     },
     "metadata": {},
     "output_type": "display_data"
    }
   ],
   "source": [
    "@unpack Nx, Lx, Δx = param\n",
    "Nx, Lx, Δx"
   ]
  },
  {
   "cell_type": "code",
   "execution_count": 113,
   "metadata": {},
   "outputs": [
    {
     "data": {
      "text/plain": [
       "get_u (generic function with 1 method)"
      ]
     },
     "metadata": {},
     "output_type": "display_data"
    }
   ],
   "source": [
    "function get_f(u)\n",
    "    Nx = (length(u)-1)÷3\n",
    "    ρ  = u[(0*Nx+1):1:(1*Nx)]\n",
    "    ρa = u[(1*Nx+1):1:(2*Nx)]\n",
    "    m  = u[(2*Nx+1):1:(3*Nx)]\n",
    "    c  = u[end]\n",
    "    f = zeros(Nx,3)\n",
    "    f[:,2] = ρa/2 + m/2\n",
    "    f[:,1] = ρa/2 - m/2\n",
    "    f[:,3] = ρ - ρa\n",
    "    return f\n",
    "end\n",
    "function get_u(f,c)\n",
    "    # flatten initial guess\n",
    "    ρ = sum(f;dims = 2)\n",
    "    ρa = f[:,2] + f[:,1]\n",
    "    m = f[:,2] - f[:,1]\n",
    "    C = [c]\n",
    "\n",
    "    return vcat(ρ,ρa,m,C)\n",
    "end"
   ]
  },
  {
   "cell_type": "code",
   "execution_count": null,
   "metadata": {},
   "outputs": [],
   "source": [
    "# get profile \n",
    "@unpack Nx, Δx, Lx = param\n",
    "# Dispaly Profile\n",
    "using PyPlot\n",
    "PyPlot.close(\"all\")\n",
    "        rc(\"text\", usetex=true)\n",
    "        fig, ax = subplots(1,1,figsize=(5,5))\n",
    "        @unpack Δx, Lx = param\n",
    "        ax.plot(Δx:Δx:Lx, f[:,2]+f[:,1]+f[:,3]; \n",
    "        color = \"black\", linestyle = \"-\", label = L\"\\rho\")\n",
    "        ax.plot(Δx:Δx:Lx, f[:,1]+f[:,2]; \n",
    "        color = \"red\", linestyle = \"--\", label = L\"\\rho^a\")\n",
    "        ax.plot(Δx:Δx:Lx, f[:,3]; \n",
    "        color = \"blue\", linestyle = \":\",label = L\"\\rho^p\")\n",
    "        ax.plot(Δx:Δx:Lx, f[:,2]-f[:,1]; \n",
    "        color = \"green\", linestyle = \"-.\", label = L\"m\")\n",
    "\n",
    "        d2(x) = round(x; digits = 2)\n",
    "        d4(x) = round(x; digits = 4)\n",
    "        d6(x) = round(x; digits = 6)\n",
    "        normf, c1, dc = f_dot(param, f)\n",
    "        latex_string = latexstring(\"\\$ t = $(d2(t)), \\\\phi_a = $(param[\"ϕa\"]), \\\\phi_p = $(param[\"ϕp\"]), L_2 = $(d4(normf)), c = $(d4(c1)), {\\\\dot c} = $(d6(dc))\\$\")\n",
    "        ax.set_title(latex_string, fontsize = 12)\n",
    "        ax.get_xaxis().set_ticks(0:10.0:Lx)\n",
    "        ax.get_yaxis().set_ticks(-0.25:0.25:1.0)\n",
    "        # ax.set_xlabel(L\"x\", fontsize = 15)\n",
    "        #ax.set_ylabel(L\"m\",fontsize = font, rotation = 90)\n",
    "        ax.set_aspect((Lx/(1.25)))\n",
    "        ax.axis([0,Lx,-0.25,1.0])\n",
    "        ax.tick_params(direction = \"in\")\n",
    "        ax.legend(loc= \"upper right\", fontsize = 12)\n",
    "        ax.set_xlabel(L\"x\", fontsize = 15)\n",
    "display(fig)"
   ]
  },
  {
   "cell_type": "code",
   "execution_count": 115,
   "metadata": {},
   "outputs": [],
   "source": [
    "I = 4\n",
    "function steady_save_name(param::Dict{String, Any})\n",
    "        @unpack DT, v0, DR, Δx, Lx, ϕa, ϕp, name, save_interval = param\n",
    "        return \"/store/DAMTP/jm2386/Active_Lattice/data/pm_pdes_pro/steady_state/$(name)/[DT,v0,DR,Δx,Lx,ϕa,ϕp]=$([DT,v0,DR,Δx,Lx,ϕa,ϕp]).jld2\"\n",
    "end\n",
    "for i in 1:I\n",
    "        f, param = double_sol(param,f)\n",
    "        c = u[end]\n",
    "\n",
    "        u0 = get_u(f,c)\n",
    "        @unpack DT, v0, DR, Δx, Nx, Lx, ϕa, ϕp = param\n",
    "        ps = (DT, v0, DR, Δx, Nx, Lx, ϕa, ϕp)\n",
    "        #\n",
    "        prob = NonlinearProblem(ff, u0, ps; abstol = max(Δx*1e-5,1e-8), reltol =  max(Δx*1e-5,1e-8) )\n",
    "        sol  = solve(prob)\n",
    "        #\n",
    "        u0 = sol.u\n",
    "        prob = NonlinearProblem(ff, u0, ps; abstol = 1e-8, reltol =  1e-8)\n",
    "        sol  = solve(prob)\n",
    "        #\n",
    "        u0 = sol.u\n",
    "        prob = NonlinearProblem(ff, u0, ps; abstol = 1e-10, reltol =  1e-10)\n",
    "        sol  = solve(prob)\n",
    "        #\n",
    "        u = sol.u\n",
    "        f = get_f(u)\n",
    "        c = u[end]\n",
    "        filename    = steady_save_name(param)\n",
    "        data        = Dict(\"f\" => f, \"c\" => c)\n",
    "        safesave(filename,data)\n",
    "        print(param[\"Δx\"])\n",
    "end"
   ]
  },
  {
   "cell_type": "code",
   "execution_count": 25,
   "metadata": {},
   "outputs": [
    {
     "data": {
      "text/plain": [
       "(2.5604518505417673e-15, 0.0344219517861316, 0.025)"
      ]
     },
     "metadata": {},
     "output_type": "display_data"
    }
   ],
   "source": [
    "#\n",
    "    @unpack DT, v0, DR, Δx, Nx, Lx, ϕa, ϕp = param\n",
    "    ps = (DT, v0, DR, Δx, Nx, Lx, ϕa, ϕp)\n",
    "    u = sol.u\n",
    "    F = zeros(3*Nx+1)\n",
    "    ff(F,u,ps);\n",
    "#\n",
    "maximum(abs.(F)), sol.u[end], param[\"Δx\"]"
   ]
  },
  {
   "cell_type": "code",
   "execution_count": 40,
   "metadata": {},
   "outputs": [
    {
     "data": {
      "text/plain": [
       "lengthen_f (generic function with 1 method)"
      ]
     },
     "metadata": {},
     "output_type": "display_data"
    }
   ],
   "source": [
    "# lengthen\n",
    "function lengthen_f(f,param, LLx, NNx)\n",
    "    @unpack Nx, Lx, Δx = param\n",
    "    ΔΔx = Lx/NNx\n",
    "    function fx(x,k)\n",
    "        i::Int64 = x÷Δx\n",
    "        j = i+1\n",
    "        if i == 0\n",
    "            i = Nx\n",
    "        end\n",
    "        return ( (Δx*(i+1)- x)*f[i,k] + (x-Δx*i)*f[j,k] )/(Δx)\n",
    "    end\n",
    "    g = zeros(NNx,3)\n",
    "    for i in 1:3\n",
    "        g[:,i] = fx.(ΔΔx:ΔΔx:Lx,i)\n",
    "    end\n",
    "\n",
    "    Δx = LLx/NNx\n",
    "    Lx = LLx\n",
    "    Nx = NNx\n",
    "    @pack! param = Nx, Lx, Δx\n",
    "\n",
    "    return param, g\n",
    "end"
   ]
  },
  {
   "cell_type": "code",
   "execution_count": 82,
   "metadata": {},
   "outputs": [
    {
     "data": {
      "text/plain": [
       "(800, 40.0, 0.05)"
      ]
     },
     "metadata": {},
     "output_type": "display_data"
    }
   ],
   "source": [
    "Nx = 800\n",
    "Lx = 40.0\n",
    "Δx = Lx/Nx\n",
    "@pack! param = Nx, Lx, Δx"
   ]
  },
  {
   "cell_type": "code",
   "execution_count": 102,
   "metadata": {},
   "outputs": [
    {
     "data": {
      "text/plain": [
       "(1.0, 7.5, 1.0, 0.047058823529411764, 850, 40.0, 0.5, 0.3)"
      ]
     },
     "metadata": {},
     "output_type": "display_data"
    }
   ],
   "source": [
    "u = sol.u\n",
    "f = get_f(u)\n",
    "sol = []\n",
    "param, f = lengthen_f(f,param, 40.0, 850)\n",
    "u = get_u(f,c)\n",
    "u0 = u\n",
    "@unpack DT, v0, DR, Δx, Nx, Lx, ϕa, ϕp = param\n",
    "ps = DT, v0, DR, Δx, Nx, Lx, ϕa, ϕp"
   ]
  },
  {
   "cell_type": "code",
   "execution_count": 27,
   "metadata": {},
   "outputs": [
    {
     "data": {
      "image/png": "[encoded data removed]",
      "text/plain": [
       "Figure(PyObject <Figure size 500x500 with 1 Axes>)"
      ]
     },
     "metadata": {},
     "output_type": "display_data"
    }
   ],
   "source": [
    "using LaTeXStrings\n",
    "function plot_phase(fig, ax, Pe; Lxs = [5,10,20])\n",
    "    Pes = [Pe]\n",
    "    axlims = [[0.0, 1.0, 0, 0.4]]\n",
    "    axs = [ax]\n",
    "    for (i,(ax, Pe, axlim)) in enumerate(zip(axs, Pes, axlims))\n",
    "        # load binodal\n",
    "            filename = \"/store/DAMTP/jm2386/Active_Lattice/data/binodal/Pe=$(Pe).jld2\"\n",
    "            data = wload(filename)\n",
    "            @unpack Pe, γs, ϕ1s, ϕ2s = data\n",
    "\n",
    "        # plot binodal\n",
    "            binod = ax.plot(gammas_converter_a(γs, ϕ1s), gammas_converter_p(γs, ϕ1s), color = \"red\", label = \"Binodal\")\n",
    "            ax.plot(gammas_converter_a(γs, ϕ2s), gammas_converter_p(γs, ϕ2s), color = \"red\", label = \"_Bindoal\")\n",
    "            #ax.plot(0.:0.1:1., 1.:-0.1:0., color = \"black\", label = \"_Full\")\n",
    "\n",
    "            rc(\"text\", usetex=true)\n",
    "            ax.xaxis.set_tick_params(labelsize=15)\n",
    "            ax.xaxis.tick_bottom()\n",
    "            ax.yaxis.set_tick_params(labelsize=15)\n",
    "            \n",
    "            #ax.set_title(L\"\\Re{ \\lambda_n^\\mathrm{max}} = 0\",fontsize=20)\n",
    "            ax.set_xlabel(L\"\\phi^a\",fontsize=20)\n",
    "            ax.set_ylabel(L\"\\phi^p\", fontsize=20)\n",
    "            # ax.legend(loc = \"upper right\", fontsize=20)\n",
    "            # ax.set_aspect(0.25*Δρ/ΔPe)\n",
    "            title = latexstring(\"\\$ \\\\mathrm{Pe} = $(Pe)\\$\")\n",
    "            ax.set_title(title,fontsize=20)\n",
    "            ax.tick_params(labelbottom = true, direction = \"in\")\n",
    "        #\n",
    "        # plot finite spin\n",
    "                for Lx in Lxs\n",
    "                    local ϕas_left, ϕas_right, ϕps\n",
    "                    ϕas_left, ϕas_right, ϕps = return_spin_finite(;Pe = Pe, Δϕ = 0.001,Lx=Lx)\n",
    "                    ax.plot(ϕas_left, ϕps, color = \"blue\", label = \"_Spindoal\", linestyle = \"--\", alpha = 0.5)\n",
    "                    ax.plot(ϕas_right, ϕps, color = \"blue\", label = \"_Spindoal\", linestyle = \"--\", alpha = 0.5)\n",
    "    \n",
    "                    # find final find gamma\n",
    "                    final_γ = 0.\n",
    "                    final_ϕ1 = 0.\n",
    "                    final_ϕ2 = 0.\n",
    "                    for (γ, ϕ1, ϕ2) in zip(γs, ϕ1s, ϕ2s)\n",
    "                        if (is_stable_value_finite(gamma_converter(γ, ϕ1)...; Pe = Pe, Lx=Lx)>0)|(is_stable_value_finite(gamma_converter(γ, ϕ2)...; Pe = Pe,Lx=Lx)>0)\n",
    "                            final_γ = γ\n",
    "                            final_ϕ1 = ϕ1\n",
    "                            final_ϕ2 = ϕ2\n",
    "                            break\n",
    "                        end\n",
    "                    end\n",
    "                    # tie line\n",
    "                    tie_line_x = -ϕps*final_γ/(final_γ-1).+1\n",
    "                    xs = []\n",
    "                    ys = []\n",
    "                    for (x,y) in zip(tie_line_x,ϕps)\n",
    "                        if (x+y ≤ final_ϕ2)&(x+y ≥ final_ϕ1)\n",
    "                            push!(xs,x)\n",
    "                            push!(ys,y)\n",
    "                        end\n",
    "                    end\n",
    "                    ax.plot(xs,ys,color = \"black\", linestyle = \"--\", alpha = 0.5)\n",
    "                end\n",
    "        #\n",
    "        # plot spinodal\n",
    "            ϕas_left, ϕas_right, ϕps = return_spin(;Pe = Pe, Δϕ = 0.0001)\n",
    "            ax.plot(ϕas_left, ϕps, color = \"blue\", label = \"_Spindoal\", linestyle = \"-\")\n",
    "            ax.plot(ϕas_right, ϕps, color = \"blue\", label = \"_Spindoal\", linestyle = \"-\")\n",
    "        #\n",
    "        # phase shading\n",
    "        if i ==2\n",
    "            ax.fill_betweenx(ϕps,ϕas_left,ϕas_right , color = \"red\", alpha = 0.3, linewidth = 0) \n",
    "            max_ϕa = maximum(ϕas_left)\n",
    "            max_ϕp = maximum(ϕps)\n",
    "            ϕas_left, ϕas_right, ϕps, γ_grid, ϕ1_grid, ϕ2_grid = return_spin_from_grid(;max_ϕa = max_ϕa, Pe = Pe, γ_grid = γs, ϕ1_grid = ϕ1s, ϕ2_grid = ϕ2s, ϕp_grid = gammas_converter_p(γs, ϕ1s).+0.00001)\n",
    "            ax.fill_betweenx(ϕps,gammas_converter_a(γ_grid, ϕ1_grid),ϕas_left,(gammas_converter_a(γ_grid, ϕ1_grid) .≤ ϕas_left), color = \"green\", alpha = 0.3, linewidth = 0)\n",
    "        \n",
    "            ax.fill_betweenx(ϕps,gammas_converter_a(γ_grid, ϕ1_grid),ϕas_right,(gammas_converter_a(γ_grid, ϕ1_grid) .≥ ϕas_right), color = \"green\", alpha = 0.3, linewidth = 0)\n",
    "        \n",
    "            #ax.plot(gammas_converter_a(γ_grid, ϕ2_grid), ϕps)\n",
    "            #ax.plot(ϕas_right, ϕps)\n",
    "            ϕas_left, ϕas_right, ϕps, γ_grid, ϕ1_grid, ϕ2_grid = return_spin_from_grid(;max_ϕa = max_ϕa, Pe = Pe, γ_grid = γs, ϕ1_grid = ϕ1s, ϕ2_grid = ϕ2s, ϕp_grid = gammas_converter_p(γs, ϕ2s).+0.00001)\n",
    "            ax.fill_betweenx(ϕps,ϕas_right,gammas_converter_a(γ_grid,ϕ2_grid ),gammas_converter_a(γ_grid, ϕ2_grid) .≥ ϕas_right, color = \"green\", alpha = 0.3, linewidth = 0) \n",
    "        else\n",
    "            # find final find gamma\n",
    "            final_γ = 0.\n",
    "            final_ϕ1 = 0.\n",
    "            final_ϕ2 = 0.\n",
    "            for (γ, ϕ1, ϕ2) in zip(γs, ϕ1s, ϕ2s)\n",
    "                if (is_stable_value(gamma_converter(γ, ϕ1)...; Pe = Pe)>0)|(is_stable_value(gamma_converter(γ, ϕ2)...; Pe = Pe)>0)\n",
    "                    final_γ = γ\n",
    "                    final_ϕ1 = ϕ1\n",
    "                    final_ϕ2 = ϕ2\n",
    "                    break\n",
    "                end\n",
    "            end\n",
    "            # shading\n",
    "            tie_line_x = -ϕps*final_γ/(final_γ-1).+1\n",
    "            ax.fill_betweenx(ϕps,max.(tie_line_x,ϕas_left),ϕas_right, max.(tie_line_x,ϕas_left) .≤ ϕas_right , color = \"blue\", alpha = 0.3, linewidth = 0) \n",
    "            ax.fill_betweenx(ϕps,ϕas_left,min.(tie_line_x,ϕas_right), ϕas_left .≤ min.(tie_line_x,ϕas_right) , color = \"red\", alpha = 0.3, linewidth = 0) \n",
    "            \n",
    "            xs = []\n",
    "            ys = []\n",
    "            for (x,y) in zip(tie_line_x,ϕps)\n",
    "                if (x+y ≤ final_ϕ2)&(x+y ≥ final_ϕ1)\n",
    "                    push!(xs,x)\n",
    "                    push!(ys,y)\n",
    "                end\n",
    "            end\n",
    "            ax.plot(xs,ys,color = \"black\")\n",
    "\n",
    "            max_ϕa = maximum(ϕas_left)\n",
    "            ϕas_left, ϕas_right, ϕps, γ_grid, ϕ1_grid, ϕ2_grid = return_spin_from_grid(;max_ϕa = max_ϕa, Pe = Pe, γ_grid = γs, ϕ1_grid = ϕ1s, ϕ2_grid = ϕ2s, ϕp_grid = gammas_converter_p(γs, ϕ1s))\n",
    "            ax.fill_betweenx(ϕps,gammas_converter_a(γ_grid, ϕ1_grid),ϕas_left,gammas_converter_a(γ_grid, ϕ1_grid) .≤ ϕas_left, color = \"green\", alpha = 0.3, linewidth = 0)\n",
    "        \n",
    "            ϕas_left, ϕas_right, ϕps, γ_grid, ϕ1_grid, ϕ2_grid = return_spin_from_grid(;max_ϕa = max_ϕa, Pe = Pe, γ_grid = γs, ϕ1_grid = ϕ1s, ϕ2_grid = ϕ2s, ϕp_grid = gammas_converter_p(γs, ϕ2s))\n",
    "            ax.fill_betweenx(ϕps,ϕas_right,gammas_converter_a(γ_grid,ϕ2_grid ),gammas_converter_a(γ_grid, ϕ2_grid) .≥ ϕas_right, color = \"green\", alpha = 0.3, linewidth = 0) \n",
    "            \n",
    "        end\n",
    "\n",
    "    end\n",
    "    fig.tight_layout()\n",
    "    #axs[2].legend(loc = \"upper right\", fontsize=20)\n",
    "    # for (i,(ax, params)) in enumerate(zip(axs, param_sets))\n",
    "    #     ϕas = []\n",
    "    #     ϕps = []\n",
    "    #     for param in params\n",
    "    #         local pde_ts, f_saves, f, t, ϕal, ϕag, ϕpl, ϕpg\n",
    "    #         #load saves\n",
    "    #         pde_ts, f_saves = load_compress_pde(param)\n",
    "    #         f = f_saves[end]\n",
    "    #         t = pde_ts[end]\n",
    "\n",
    "    #         if t > 500\n",
    "    #             rho = f[:,1] + f[:,2] + f[:,3]\n",
    "    #             min_pt = argmax(rho)\n",
    "    #             max_pt = argmin(rho)\n",
    "    #             if min_pt<max_pt\n",
    "    #                 global x,X\n",
    "    #                 x = min_pt:5:max_pt\n",
    "    #                 X = min_pt:(max_pt-min_pt):max_pt\n",
    "    #             else\n",
    "    #                 global x,X \n",
    "    #                 x = max_pt:5:min_pt\n",
    "    #                 X = max_pt:(min_pt-max_pt):min_pt\n",
    "    #             end\n",
    "\n",
    "\n",
    "    #             ax.plot(f[X,1] + f[X,2], f[X,3], color = \"black\",linestyle = \"-\", label = \"_gas phase\", alpha = 0.5)\n",
    "\n",
    "    #             ax.scatter(f[x,1] + f[x,2], f[x,3], color = \"black\", marker = \".\", edgecolor = \"black\", s = 5.0, alpha = 1, label = \"_gas phase\")\n",
    "                \n",
    "    #             ϕal = maximum( f[x,1] + f[x,2])\n",
    "    #             ϕag = minimum( f[x,1] + f[x,2])\n",
    "    #             ϕpl = minimum( f[x,3] )\n",
    "    #             ϕpg = maximum( f[x,3] )\n",
    "            \n",
    "    #             push!(ϕas, ϕal)\n",
    "    #             push!(ϕas, ϕag)\n",
    "    #             push!(ϕps, ϕpl)\n",
    "    #             push!(ϕps, ϕpg)\n",
    "    #         end\n",
    "    #     end\n",
    "    #     ax.scatter(ϕas, ϕps; color = \"black\", marker = \"^\", edgecolor = \"black\")\n",
    "    # end\n",
    "    ax.xaxis.set_ticks(0.:0.5:1.0)\n",
    "    ax.yaxis.set_ticks(0.:0.1:0.4)\n",
    "    ax.axis([0.0, 1.0, 0, 0.4])\n",
    "end\n",
    "using PyPlot\n",
    "fig, ax = subplots(1,1,figsize=(5,5))\n",
    "Pe= 7.5\n",
    "plot_phase(fig, ax, Pe; Lxs = [])\n",
    "ax.plot(f[:,1]+f[:,2],f[:,3]; color = \"black\")\n",
    "ax.plot(0:0.01:1,1:-0.01:0; color = \"black\")\n",
    "display(fig)\n",
    "fig_name = \"phase_plot\"\n",
    "     @unpack ϕa, ϕp, v0, Lx, Δx = param\n",
    "     pathname = \"/store/DAMTP/jm2386/Active_Lattice/plots/pm_stretch/$(fig_name)\";\n",
    "     mkpath(pathname)\n",
    "     filename = \"/store/DAMTP/jm2386/Active_Lattice/plots/pm_stretch/$(fig_name)/Lx=$(Lx)_Δx=$(Δx).pdf\";\n",
    "     PyPlot.savefig(filename,dpi = 100, format = \"pdf\") #bbox_extra_artists=( ldg,)\n"
   ]
  },
  {
   "cell_type": "code",
   "execution_count": 85,
   "metadata": {},
   "outputs": [
    {
     "data": {
      "text/plain": [
       "3001×1 Matrix{Float64}:\n",
       " 0.37651912746802907\n",
       " 0.8008478358785058\n",
       " 0.8012717880573214\n",
       " 0.8016957560637259\n",
       " 0.8021197346439294\n",
       " 0.802543716799095\n",
       " 0.8029676937342964\n",
       " 0.8033916601759576\n",
       " 0.8038156108485398\n",
       " 0.804239540474533\n",
       " ⋮\n",
       " 0.008076551822700923\n",
       " 0.00808532611874127\n",
       " 0.008094033911741794\n",
       " 0.008102651807083083\n",
       " 0.008111201362316717\n",
       " 0.008119681969479625\n",
       " 0.008128093022026411\n",
       " 0.00813643391481661\n",
       " 0.033824358358296905"
      ]
     },
     "metadata": {},
     "output_type": "display_data"
    }
   ],
   "source": []
  }
 ],
 "metadata": {
  "kernelspec": {
   "display_name": "Julia 1.8.1",
   "language": "julia",
   "name": "julia-1.8"
  },
  "language_info": {
   "file_extension": ".jl",
   "mimetype": "application/julia",
   "name": "julia",
   "version": "1.8.1"
  },
  "orig_nbformat": 4
 },
 "nbformat": 4,
 "nbformat_minor": 2
}
