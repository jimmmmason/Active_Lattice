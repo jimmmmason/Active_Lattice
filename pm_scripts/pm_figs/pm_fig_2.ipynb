{
 "cells": [
  {
   "cell_type": "code",
   "execution_count": 17,
   "metadata": {},
   "outputs": [
    {
     "name": "stdout",
     "output_type": "stream",
     "text": [
      "v3.0\n",
      "v3.0\n",
      "v1.0\n"
     ]
    }
   ],
   "source": [
    "cd(\"/home/jm2386/Active_Lattice/\")\n",
    "using DrWatson\n",
    "@quickactivate \"Active_Lattice\"\n",
    "include(\"/home/jm2386/Active_Lattice/src/pm_pdes.jl\");\n",
    "include(\"/home/jm2386/Active_Lattice/src/pm_sims.jl\");\n",
    "include(\"/home/jm2386/Active_Lattice/src/pm_plot.jl\");\n",
    "include(\"/home/jm2386/Active_Lattice/src/Hetrocline.jl\");"
   ]
  },
  {
   "cell_type": "code",
   "execution_count": 13,
   "metadata": {},
   "outputs": [
    {
     "data": {
      "text/plain": [
       "8-element Vector{Vector{Any}}:\n",
       " [Dict{String, Any}(\"T\" => 55.0, \"save_interval\" => 0.1, \"δ\" => 0.01, \"δt\" => 1.0e-5, \"name\" => \"fig_2\", \"save_on\" => true, \"DT\" => 1.0, \"Lx\" => 20.0, \"N\" => 100, \"DR\" => 1.0…), Dict{String, Any}(\"T\" => 55.0, \"save_interval\" => 0.1, \"δ\" => 0.01, \"δt\" => 1.0e-5, \"name\" => \"fig_2\", \"save_on\" => true, \"DT\" => 1.0, \"Lx\" => 20.0, \"N\" => 100, \"DR\" => 1.0…), Dict{String, Any}(\"T\" => 55.0, \"save_interval\" => 0.1, \"δ\" => 0.01, \"δt\" => 1.0e-5, \"name\" => \"fig_2\", \"save_on\" => true, \"DT\" => 1.0, \"Lx\" => 20.0, \"N\" => 100, \"DR\" => 1.0…), Dict{String, Any}(\"T\" => 55.0, \"save_interval\" => 0.1, \"δ\" => 0.01, \"δt\" => 1.0e-5, \"name\" => \"fig_2\", \"save_on\" => true, \"DT\" => 1.0, \"Lx\" => 20.0, \"N\" => 100, \"DR\" => 1.0…), Dict{String, Any}(\"T\" => 55.0, \"save_interval\" => 0.1, \"δ\" => 0.01, \"δt\" => 1.0e-5, \"name\" => \"fig_2\", \"save_on\" => true, \"DT\" => 1.0, \"Lx\" => 20.0, \"N\" => 100, \"DR\" => 1.0…), Dict{String, Any}(\"T\" => 55.0, \"save_interval\" => 0.1, \"δ\" => 0.01, \"δt\" => 1.0e-5, \"name\" => \"fig_2\", \"save_on\" => true, \"DT\" => 1.0, \"Lx\" => 20.0, \"N\" => 100, \"DR\" => 1.0…), Dict{String, Any}(\"T\" => 55.0, \"save_interval\" => 0.1, \"δ\" => 0.01, \"δt\" => 1.0e-5, \"name\" => \"fig_2\", \"save_on\" => true, \"DT\" => 1.0, \"Lx\" => 20.0, \"N\" => 100, \"DR\" => 1.0…), Dict{String, Any}(\"T\" => 55.0, \"save_interval\" => 0.1, \"δ\" => 0.01, \"δt\" => 1.0e-5, \"name\" => \"fig_2\", \"save_on\" => true, \"DT\" => 1.0, \"Lx\" => 20.0, \"N\" => 100, \"DR\" => 1.0…)]\n",
       " [Dict{String, Any}(\"T\" => 55.0, \"save_interval\" => 0.1, \"δ\" => 0.01, \"δt\" => 1.0e-5, \"name\" => \"fig_2\", \"save_on\" => true, \"DT\" => 1.0, \"Lx\" => 20.0, \"N\" => 100, \"DR\" => 1.0…), Dict{String, Any}(\"T\" => 55.0, \"save_interval\" => 0.1, \"δ\" => 0.01, \"δt\" => 1.0e-5, \"name\" => \"fig_2\", \"save_on\" => true, \"DT\" => 1.0, \"Lx\" => 20.0, \"N\" => 100, \"DR\" => 1.0…), Dict{String, Any}(\"T\" => 55.0, \"save_interval\" => 0.1, \"δ\" => 0.01, \"δt\" => 1.0e-5, \"name\" => \"fig_2\", \"save_on\" => true, \"DT\" => 1.0, \"Lx\" => 20.0, \"N\" => 100, \"DR\" => 1.0…), Dict{String, Any}(\"T\" => 55.0, \"save_interval\" => 0.1, \"δ\" => 0.01, \"δt\" => 1.0e-5, \"name\" => \"fig_2\", \"save_on\" => true, \"DT\" => 1.0, \"Lx\" => 20.0, \"N\" => 100, \"DR\" => 1.0…), Dict{String, Any}(\"T\" => 55.0, \"save_interval\" => 0.1, \"δ\" => 0.01, \"δt\" => 1.0e-5, \"name\" => \"fig_2\", \"save_on\" => true, \"DT\" => 1.0, \"Lx\" => 20.0, \"N\" => 100, \"DR\" => 1.0…), Dict{String, Any}(\"T\" => 55.0, \"save_interval\" => 0.1, \"δ\" => 0.01, \"δt\" => 1.0e-5, \"name\" => \"fig_2\", \"save_on\" => true, \"DT\" => 1.0, \"Lx\" => 20.0, \"N\" => 100, \"DR\" => 1.0…), Dict{String, Any}(\"T\" => 55.0, \"save_interval\" => 0.1, \"δ\" => 0.01, \"δt\" => 1.0e-5, \"name\" => \"fig_2\", \"save_on\" => true, \"DT\" => 1.0, \"Lx\" => 20.0, \"N\" => 100, \"DR\" => 1.0…), Dict{String, Any}(\"T\" => 55.0, \"save_interval\" => 0.1, \"δ\" => 0.01, \"δt\" => 1.0e-5, \"name\" => \"fig_2\", \"save_on\" => true, \"DT\" => 1.0, \"Lx\" => 20.0, \"N\" => 100, \"DR\" => 1.0…)]\n",
       " [Dict{String, Any}(\"T\" => 55.0, \"save_interval\" => 0.1, \"δ\" => 0.01, \"δt\" => 1.0e-5, \"name\" => \"fig_2\", \"save_on\" => true, \"DT\" => 1.0, \"Lx\" => 20.0, \"N\" => 100, \"DR\" => 1.0…), Dict{String, Any}(\"T\" => 55.0, \"save_interval\" => 0.1, \"δ\" => 0.01, \"δt\" => 1.0e-5, \"name\" => \"fig_2\", \"save_on\" => true, \"DT\" => 1.0, \"Lx\" => 20.0, \"N\" => 100, \"DR\" => 1.0…), Dict{String, Any}(\"T\" => 55.0, \"save_interval\" => 0.1, \"δ\" => 0.01, \"δt\" => 1.0e-5, \"name\" => \"fig_2\", \"save_on\" => true, \"DT\" => 1.0, \"Lx\" => 20.0, \"N\" => 100, \"DR\" => 1.0…), Dict{String, Any}(\"T\" => 55.0, \"save_interval\" => 0.1, \"δ\" => 0.01, \"δt\" => 1.0e-5, \"name\" => \"fig_2\", \"save_on\" => true, \"DT\" => 1.0, \"Lx\" => 20.0, \"N\" => 100, \"DR\" => 1.0…), Dict{String, Any}(\"T\" => 55.0, \"save_interval\" => 0.1, \"δ\" => 0.01, \"δt\" => 1.0e-5, \"name\" => \"fig_2\", \"save_on\" => true, \"DT\" => 1.0, \"Lx\" => 20.0, \"N\" => 100, \"DR\" => 1.0…), Dict{String, Any}(\"T\" => 55.0, \"save_interval\" => 0.1, \"δ\" => 0.01, \"δt\" => 1.0e-5, \"name\" => \"fig_2\", \"save_on\" => true, \"DT\" => 1.0, \"Lx\" => 20.0, \"N\" => 100, \"DR\" => 1.0…), Dict{String, Any}(\"T\" => 55.0, \"save_interval\" => 0.1, \"δ\" => 0.01, \"δt\" => 1.0e-5, \"name\" => \"fig_2\", \"save_on\" => true, \"DT\" => 1.0, \"Lx\" => 20.0, \"N\" => 100, \"DR\" => 1.0…), Dict{String, Any}(\"T\" => 55.0, \"save_interval\" => 0.1, \"δ\" => 0.01, \"δt\" => 1.0e-5, \"name\" => \"fig_2\", \"save_on\" => true, \"DT\" => 1.0, \"Lx\" => 20.0, \"N\" => 100, \"DR\" => 1.0…)]\n",
       " [Dict{String, Any}(\"T\" => 55.0, \"save_interval\" => 0.1, \"δ\" => 0.01, \"δt\" => 1.0e-5, \"name\" => \"fig_2\", \"save_on\" => true, \"DT\" => 1.0, \"Lx\" => 20.0, \"N\" => 100, \"DR\" => 1.0…), Dict{String, Any}(\"T\" => 55.0, \"save_interval\" => 0.1, \"δ\" => 0.01, \"δt\" => 1.0e-5, \"name\" => \"fig_2\", \"save_on\" => true, \"DT\" => 1.0, \"Lx\" => 20.0, \"N\" => 100, \"DR\" => 1.0…), Dict{String, Any}(\"T\" => 55.0, \"save_interval\" => 0.1, \"δ\" => 0.01, \"δt\" => 1.0e-5, \"name\" => \"fig_2\", \"save_on\" => true, \"DT\" => 1.0, \"Lx\" => 20.0, \"N\" => 100, \"DR\" => 1.0…), Dict{String, Any}(\"T\" => 55.0, \"save_interval\" => 0.1, \"δ\" => 0.01, \"δt\" => 1.0e-5, \"name\" => \"fig_2\", \"save_on\" => true, \"DT\" => 1.0, \"Lx\" => 20.0, \"N\" => 100, \"DR\" => 1.0…), Dict{String, Any}(\"T\" => 55.0, \"save_interval\" => 0.1, \"δ\" => 0.01, \"δt\" => 1.0e-5, \"name\" => \"fig_2\", \"save_on\" => true, \"DT\" => 1.0, \"Lx\" => 20.0, \"N\" => 100, \"DR\" => 1.0…), Dict{String, Any}(\"T\" => 55.0, \"save_interval\" => 0.1, \"δ\" => 0.01, \"δt\" => 1.0e-5, \"name\" => \"fig_2\", \"save_on\" => true, \"DT\" => 1.0, \"Lx\" => 20.0, \"N\" => 100, \"DR\" => 1.0…), Dict{String, Any}(\"T\" => 55.0, \"save_interval\" => 0.1, \"δ\" => 0.01, \"δt\" => 1.0e-5, \"name\" => \"fig_2\", \"save_on\" => true, \"DT\" => 1.0, \"Lx\" => 20.0, \"N\" => 100, \"DR\" => 1.0…), Dict{String, Any}(\"T\" => 55.0, \"save_interval\" => 0.1, \"δ\" => 0.01, \"δt\" => 1.0e-5, \"name\" => \"fig_2\", \"save_on\" => true, \"DT\" => 1.0, \"Lx\" => 20.0, \"N\" => 100, \"DR\" => 1.0…)]\n",
       " [Dict{String, Any}(\"T\" => 55.0, \"save_interval\" => 0.1, \"δ\" => 0.01, \"δt\" => 1.0e-5, \"name\" => \"fig_2\", \"save_on\" => true, \"DT\" => 1.0, \"Lx\" => 20.0, \"N\" => 100, \"DR\" => 1.0…), Dict{String, Any}(\"T\" => 55.0, \"save_interval\" => 0.1, \"δ\" => 0.01, \"δt\" => 1.0e-5, \"name\" => \"fig_2\", \"save_on\" => true, \"DT\" => 1.0, \"Lx\" => 20.0, \"N\" => 100, \"DR\" => 1.0…), Dict{String, Any}(\"T\" => 55.0, \"save_interval\" => 0.1, \"δ\" => 0.01, \"δt\" => 1.0e-5, \"name\" => \"fig_2\", \"save_on\" => true, \"DT\" => 1.0, \"Lx\" => 20.0, \"N\" => 100, \"DR\" => 1.0…), Dict{String, Any}(\"T\" => 55.0, \"save_interval\" => 0.1, \"δ\" => 0.01, \"δt\" => 1.0e-5, \"name\" => \"fig_2\", \"save_on\" => true, \"DT\" => 1.0, \"Lx\" => 20.0, \"N\" => 100, \"DR\" => 1.0…), Dict{String, Any}(\"T\" => 55.0, \"save_interval\" => 0.1, \"δ\" => 0.01, \"δt\" => 1.0e-5, \"name\" => \"fig_2\", \"save_on\" => true, \"DT\" => 1.0, \"Lx\" => 20.0, \"N\" => 100, \"DR\" => 1.0…), Dict{String, Any}(\"T\" => 55.0, \"save_interval\" => 0.1, \"δ\" => 0.01, \"δt\" => 1.0e-5, \"name\" => \"fig_2\", \"save_on\" => true, \"DT\" => 1.0, \"Lx\" => 20.0, \"N\" => 100, \"DR\" => 1.0…), Dict{String, Any}(\"T\" => 55.0, \"save_interval\" => 0.1, \"δ\" => 0.01, \"δt\" => 1.0e-5, \"name\" => \"fig_2\", \"save_on\" => true, \"DT\" => 1.0, \"Lx\" => 20.0, \"N\" => 100, \"DR\" => 1.0…), Dict{String, Any}(\"T\" => 55.0, \"save_interval\" => 0.1, \"δ\" => 0.01, \"δt\" => 1.0e-5, \"name\" => \"fig_2\", \"save_on\" => true, \"DT\" => 1.0, \"Lx\" => 20.0, \"N\" => 100, \"DR\" => 1.0…)]\n",
       " [Dict{String, Any}(\"T\" => 55.0, \"save_interval\" => 0.1, \"δ\" => 0.01, \"δt\" => 1.0e-5, \"name\" => \"fig_2\", \"save_on\" => true, \"DT\" => 1.0, \"Lx\" => 20.0, \"N\" => 100, \"DR\" => 1.0…), Dict{String, Any}(\"T\" => 55.0, \"save_interval\" => 0.1, \"δ\" => 0.01, \"δt\" => 1.0e-5, \"name\" => \"fig_2\", \"save_on\" => true, \"DT\" => 1.0, \"Lx\" => 20.0, \"N\" => 100, \"DR\" => 1.0…), Dict{String, Any}(\"T\" => 55.0, \"save_interval\" => 0.1, \"δ\" => 0.01, \"δt\" => 1.0e-5, \"name\" => \"fig_2\", \"save_on\" => true, \"DT\" => 1.0, \"Lx\" => 20.0, \"N\" => 100, \"DR\" => 1.0…), Dict{String, Any}(\"T\" => 55.0, \"save_interval\" => 0.1, \"δ\" => 0.01, \"δt\" => 1.0e-5, \"name\" => \"fig_2\", \"save_on\" => true, \"DT\" => 1.0, \"Lx\" => 20.0, \"N\" => 100, \"DR\" => 1.0…), Dict{String, Any}(\"T\" => 55.0, \"save_interval\" => 0.1, \"δ\" => 0.01, \"δt\" => 1.0e-5, \"name\" => \"fig_2\", \"save_on\" => true, \"DT\" => 1.0, \"Lx\" => 20.0, \"N\" => 100, \"DR\" => 1.0…), Dict{String, Any}(\"T\" => 55.0, \"save_interval\" => 0.1, \"δ\" => 0.01, \"δt\" => 1.0e-5, \"name\" => \"fig_2\", \"save_on\" => true, \"DT\" => 1.0, \"Lx\" => 20.0, \"N\" => 100, \"DR\" => 1.0…), Dict{String, Any}(\"T\" => 55.0, \"save_interval\" => 0.1, \"δ\" => 0.01, \"δt\" => 1.0e-5, \"name\" => \"fig_2\", \"save_on\" => true, \"DT\" => 1.0, \"Lx\" => 20.0, \"N\" => 100, \"DR\" => 1.0…), Dict{String, Any}(\"T\" => 55.0, \"save_interval\" => 0.1, \"δ\" => 0.01, \"δt\" => 1.0e-5, \"name\" => \"fig_2\", \"save_on\" => true, \"DT\" => 1.0, \"Lx\" => 20.0, \"N\" => 100, \"DR\" => 1.0…)]\n",
       " [Dict{String, Any}(\"T\" => 55.0, \"save_interval\" => 0.1, \"δ\" => 0.01, \"δt\" => 1.0e-5, \"name\" => \"fig_2\", \"save_on\" => true, \"DT\" => 1.0, \"Lx\" => 20.0, \"N\" => 100, \"DR\" => 1.0…), Dict{String, Any}(\"T\" => 55.0, \"save_interval\" => 0.1, \"δ\" => 0.01, \"δt\" => 1.0e-5, \"name\" => \"fig_2\", \"save_on\" => true, \"DT\" => 1.0, \"Lx\" => 20.0, \"N\" => 100, \"DR\" => 1.0…), Dict{String, Any}(\"T\" => 55.0, \"save_interval\" => 0.1, \"δ\" => 0.01, \"δt\" => 1.0e-5, \"name\" => \"fig_2\", \"save_on\" => true, \"DT\" => 1.0, \"Lx\" => 20.0, \"N\" => 100, \"DR\" => 1.0…), Dict{String, Any}(\"T\" => 55.0, \"save_interval\" => 0.1, \"δ\" => 0.01, \"δt\" => 1.0e-5, \"name\" => \"fig_2\", \"save_on\" => true, \"DT\" => 1.0, \"Lx\" => 20.0, \"N\" => 100, \"DR\" => 1.0…), Dict{String, Any}(\"T\" => 55.0, \"save_interval\" => 0.1, \"δ\" => 0.01, \"δt\" => 1.0e-5, \"name\" => \"fig_2\", \"save_on\" => true, \"DT\" => 1.0, \"Lx\" => 20.0, \"N\" => 100, \"DR\" => 1.0…), Dict{String, Any}(\"T\" => 55.0, \"save_interval\" => 0.1, \"δ\" => 0.01, \"δt\" => 1.0e-5, \"name\" => \"fig_2\", \"save_on\" => true, \"DT\" => 1.0, \"Lx\" => 20.0, \"N\" => 100, \"DR\" => 1.0…), Dict{String, Any}(\"T\" => 55.0, \"save_interval\" => 0.1, \"δ\" => 0.01, \"δt\" => 1.0e-5, \"name\" => \"fig_2\", \"save_on\" => true, \"DT\" => 1.0, \"Lx\" => 20.0, \"N\" => 100, \"DR\" => 1.0…), Dict{String, Any}(\"T\" => 55.0, \"save_interval\" => 0.1, \"δ\" => 0.01, \"δt\" => 1.0e-5, \"name\" => \"fig_2\", \"save_on\" => true, \"DT\" => 1.0, \"Lx\" => 20.0, \"N\" => 100, \"DR\" => 1.0…)]\n",
       " [Dict{String, Any}(\"T\" => 55.0, \"save_interval\" => 0.1, \"δ\" => 0.01, \"δt\" => 1.0e-5, \"name\" => \"fig_2\", \"save_on\" => true, \"DT\" => 1.0, \"Lx\" => 20.0, \"N\" => 100, \"DR\" => 1.0…), Dict{String, Any}(\"T\" => 55.0, \"save_interval\" => 0.1, \"δ\" => 0.01, \"δt\" => 1.0e-5, \"name\" => \"fig_2\", \"save_on\" => true, \"DT\" => 1.0, \"Lx\" => 20.0, \"N\" => 100, \"DR\" => 1.0…), Dict{String, Any}(\"T\" => 55.0, \"save_interval\" => 0.1, \"δ\" => 0.01, \"δt\" => 1.0e-5, \"name\" => \"fig_2\", \"save_on\" => true, \"DT\" => 1.0, \"Lx\" => 20.0, \"N\" => 100, \"DR\" => 1.0…), Dict{String, Any}(\"T\" => 55.0, \"save_interval\" => 0.1, \"δ\" => 0.01, \"δt\" => 1.0e-5, \"name\" => \"fig_2\", \"save_on\" => true, \"DT\" => 1.0, \"Lx\" => 20.0, \"N\" => 100, \"DR\" => 1.0…), Dict{String, Any}(\"T\" => 55.0, \"save_interval\" => 0.1, \"δ\" => 0.01, \"δt\" => 1.0e-5, \"name\" => \"fig_2\", \"save_on\" => true, \"DT\" => 1.0, \"Lx\" => 20.0, \"N\" => 100, \"DR\" => 1.0…), Dict{String, Any}(\"T\" => 55.0, \"save_interval\" => 0.1, \"δ\" => 0.01, \"δt\" => 1.0e-5, \"name\" => \"fig_2\", \"save_on\" => true, \"DT\" => 1.0, \"Lx\" => 20.0, \"N\" => 100, \"DR\" => 1.0…), Dict{String, Any}(\"T\" => 55.0, \"save_interval\" => 0.1, \"δ\" => 0.01, \"δt\" => 1.0e-5, \"name\" => \"fig_2\", \"save_on\" => true, \"DT\" => 1.0, \"Lx\" => 20.0, \"N\" => 100, \"DR\" => 1.0…), Dict{String, Any}(\"T\" => 55.0, \"save_interval\" => 0.1, \"δ\" => 0.01, \"δt\" => 1.0e-5, \"name\" => \"fig_2\", \"save_on\" => true, \"DT\" => 1.0, \"Lx\" => 20.0, \"N\" => 100, \"DR\" => 1.0…)]"
      ]
     },
     "metadata": {},
     "output_type": "display_data"
    }
   ],
   "source": [
    "#create parameters\n",
    "params = []\n",
    "ϕas = fill(0.5,8)\n",
    "ϕps = collect(0.025:0.025:0.2)\n",
    "DT, v0, DR, N, Δx, Lx, Ly, δt, δ = (1.0, 7.5, 1.0, 100, 0.005, 20.0, 0.5, 1e-5, 0.01);\n",
    "T, save_interval, param_name = (55.0, 0.1, \"fig_2\")\n",
    "map(ϕas, ϕps) do ϕa, ϕp\n",
    "    param = new_param(DT, v0, DR, N, Δx, Lx, Ly, ϕa, ϕp, δt, δ; T = T, name = param_name, save_interval = save_interval, save_on = true)\n",
    "    push!(params,param)\n",
    "end"
   ]
  },
  {
   "cell_type": "code",
   "execution_count": 14,
   "metadata": {},
   "outputs": [],
   "source": [
    "#load binodal\n",
    "Pe = v0 \n",
    "filename = \"/store/DAMTP/jm2386/Active_Lattice/data/binodal/Pe=$(Pe).jld2\"\n",
    "data = wload(filename)\n",
    "@unpack Pe, γs, ϕ1s, ϕ2s, average_ϕs, χs = data\n",
    "\n",
    "#plot binodal\n",
    "using PyPlot\n",
    "PyPlot.close(\"all\")\n",
    "rc(\"text\", usetex=true)\n",
    "fig, ax = plt.subplots(1, 1, figsize=(10,10))\n",
    "binod = ax.plot(gammas_converter_a(γs, ϕ1s), gammas_converter_p(γs, ϕ1s), color = \"red\", label = \"Binodal\")\n",
    "ax.plot(gammas_converter_a(γs, ϕ2s), gammas_converter_p(γs, ϕ2s), color = \"red\", label = \"_Bindoal\")\n",
    "#ax.plot(0.:0.1:1., 1.:-0.1:0., color = \"black\", label = \"_Full\")\n",
    "\n",
    "rc(\"text\", usetex=true)\n",
    "    #ax.yaxis.set_ticks(ytic)\n",
    "    axlim = [0, 1, 0, 0.3]\n",
    "    #axlim = [0.4, 0.45, 0, 0.1]\n",
    "    ax.xaxis.set_tick_params(labelsize=15)\n",
    "    ax.xaxis.tick_bottom()\n",
    "    ax.yaxis.set_tick_params(labelsize=15)\n",
    "    ax.axis(axlim)\n",
    "    #ax.set_title(L\"\\Re{ \\lambda_n^\\mathrm{max}} = 0\",fontsize=20)\n",
    "    ax.set_xlabel(L\"\\phi^a\",fontsize=20)\n",
    "    ax.set_ylabel(L\"\\phi^p\", fontsize=20)\n",
    "    ax.legend(loc = \"upper right\", fontsize=20)\n",
    "    #ax.set_aspect(0.25*Δρ/ΔPe)\n",
    "    title = latexstring(\"\\$ \\\\mathrm{Pe} = $(Pe)\\$\")\n",
    "    ax.set_title(title,fontsize=20)\n",
    "    fig.tight_layout()"
   ]
  },
  {
   "cell_type": "code",
   "execution_count": 15,
   "metadata": {},
   "outputs": [
    {
     "name": "stdout",
     "output_type": "stream",
     "text": [
      "full load\n"
     ]
    },
    {
     "name": "stdout",
     "output_type": "stream",
     "text": [
      "saved\n",
      "full load\n"
     ]
    },
    {
     "name": "stdout",
     "output_type": "stream",
     "text": [
      "saved\n",
      "full load\n"
     ]
    },
    {
     "name": "stdout",
     "output_type": "stream",
     "text": [
      "saved\n",
      "full load\n"
     ]
    },
    {
     "name": "stdout",
     "output_type": "stream",
     "text": [
      "saved\n",
      "full load\n"
     ]
    },
    {
     "name": "stdout",
     "output_type": "stream",
     "text": [
      "saved\n",
      "full load\n"
     ]
    },
    {
     "name": "stdout",
     "output_type": "stream",
     "text": [
      "saved\n",
      "full load\n"
     ]
    },
    {
     "name": "stdout",
     "output_type": "stream",
     "text": [
      "saved\n",
      "full load\n"
     ]
    },
    {
     "name": "stdout",
     "output_type": "stream",
     "text": [
      "saved\n"
     ]
    },
    {
     "data": {
      "text/plain": [
       "PyObject <matplotlib.collections.PathCollection object at 0x7f73f33a9a00>"
      ]
     },
     "metadata": {},
     "output_type": "display_data"
    }
   ],
   "source": [
    "ϕas = []\n",
    "ϕps = []\n",
    "for param in params\n",
    "    local pde_ts, f_saves\n",
    "    #load saves\n",
    "    pde_ts, f_saves = load_compress_pde(param)\n",
    "    f = f_saves[end]\n",
    "\n",
    "    ax.plot(f[:,1] + f[:,2], f[:,3], color = \"black\",linestyle = \"--\", label = \"_gas phase\")\n",
    "           \n",
    "    ϕal = maximum( f[:,1] + f[:,2])\n",
    "    ϕag = minimum( f[:,1] + f[:,2])\n",
    "    ϕpl = minimum( f[:,3] )\n",
    "    ϕpg = maximum( f[:,3] )\n",
    " \n",
    "    push!(ϕas, ϕal)\n",
    "    push!(ϕas, ϕag)\n",
    "    push!(ϕps, ϕpl)\n",
    "    push!(ϕps, ϕpg)\n",
    "end\n",
    "\n",
    "ax.scatter(ϕas, ϕps; color = \"black\", marker = \"^\", edgecolor = \"black\")"
   ]
  },
  {
   "cell_type": "code",
   "execution_count": 55,
   "metadata": {},
   "outputs": [
    {
     "data": {
      "text/plain": [
       "(2.0, 0.7850167402512583, 0.6149832597487416)"
      ]
     },
     "metadata": {},
     "output_type": "display_data"
    }
   ],
   "source": [
    "ϕa, ϕp = 0.5, 0.2\n",
    "DT, v0, DR, N, Δx, Lx, Ly, δt, δ = (1.0, 7.5, 1.0, 100, 0.02, 20.0, 0.5, 1e-5, 0.01);\n",
    "T, save_interval, param_name = (55.0, 0.1, \"fig_2\")\n",
    "δ = 2.0\n",
    "param = new_param(DT, v0, DR, N, Δx, Lx, Ly, ϕa, ϕp, δt, δ; T = T, name = param_name, save_interval = save_interval, save_on = true)\n",
    "@unpack DT, v0, DR, Δx, Lx, ϕa, ϕp, T , name, Nx, save_interval, save_on, δt = param\n",
    "f = initiate_uniform_pde(ϕa, ϕp, Nx);\n",
    "f = perturb_pde!(f,param)\n",
    "dist_from_unif(f, param), maximum(sum(f; dims =2)[:,1]), minimum(sum(f; dims =2)[:,1])\n"
   ]
  }
 ],
 "metadata": {
  "kernelspec": {
   "display_name": "Julia 1.8.1",
   "language": "julia",
   "name": "julia-1.8"
  },
  "language_info": {
   "file_extension": ".jl",
   "mimetype": "application/julia",
   "name": "julia",
   "version": "1.8.1"
  },
  "orig_nbformat": 4
 },
 "nbformat": 4,
 "nbformat_minor": 2
}
