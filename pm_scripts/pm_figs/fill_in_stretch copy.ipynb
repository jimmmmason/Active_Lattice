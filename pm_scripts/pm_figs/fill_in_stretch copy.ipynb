{
 "cells": [
  {
   "cell_type": "code",
   "execution_count": 1,
   "metadata": {},
   "outputs": [
    {
     "name": "stdout",
     "output_type": "stream",
     "text": [
      "v3.0\n"
     ]
    }
   ],
   "source": [
    "cd(\"/home/jm2386/Active_Lattice/\")\n",
    "using DrWatson\n",
    "@quickactivate \"Active_Lattice\"\n",
    "include(\"/home/jm2386/Active_Lattice/src/pm_pdes.jl\");\n",
    "include(\"/home/jm2386/Active_Lattice/src/pm_sims.jl\");\n",
    "include(\"/home/jm2386/Active_Lattice/src/pm_plot.jl\");\n",
    "include(\"/home/jm2386/Active_Lattice/src/Hetrocline.jl\");"
   ]
  },
  {
   "cell_type": "code",
   "execution_count": 19,
   "metadata": {},
   "outputs": [],
   "source": [
    "# Load initial wave\n",
    "function get_stretch_param(Lx)\n",
    "    param = get_grid_param(21,11)\n",
    "    @unpack Nx = param\n",
    "    param[\"save_interval\"] = 100.0\n",
    "    param[\"name\"] = \"soliton_stretch\"\n",
    "    param[\"Lx\"] = Float64(Lx)\n",
    "    param[\"Δx\"] = Float64(Lx/Nx)\n",
    "    return param\n",
    "end\n",
    "Lx = 80\n",
    "param = get_stretch_param(Lx)\n",
    "loaded, f, t = quiet_load_last_pde(param)\n",
    "i = argmax(sum(f;dims=3)[:,1])\n",
    "@unpack Nx = param\n",
    "f = circshift(f,((Nx÷2)-i,0));"
   ]
  },
  {
   "cell_type": "code",
   "execution_count": 20,
   "metadata": {},
   "outputs": [],
   "source": [
    "# Dispaly Profile\n",
    "using PyPlot\n",
    "PyPlot.close(\"all\")\n",
    "        rc(\"text\", usetex=true)\n",
    "        fig, ax = subplots(1,1,figsize=(5,5))\n",
    "        @unpack Δx, Lx = param\n",
    "        ax.plot(Δx:Δx:Lx, f[:,2]+f[:,1]+f[:,3]; \n",
    "        color = \"black\", linestyle = \"-\", label = L\"\\rho\")\n",
    "        ax.plot(Δx:Δx:Lx, f[:,1]+f[:,2]; \n",
    "        color = \"red\", linestyle = \"--\", label = L\"\\rho^a\")\n",
    "        ax.plot(Δx:Δx:Lx, f[:,3]; \n",
    "        color = \"blue\", linestyle = \":\",label = L\"\\rho^p\")\n",
    "        ax.plot(Δx:Δx:Lx, f[:,2]-f[:,1]; \n",
    "        color = \"green\", linestyle = \"-.\", label = L\"m\")\n",
    "\n",
    "        d2(x) = round(x; digits = 2)\n",
    "        d4(x) = round(x; digits = 4)\n",
    "        d6(x) = round(x; digits = 6)\n",
    "        normf, c1, dc = f_dot(param, f)\n",
    "        latex_string = latexstring(\"\\$ t = $(d2(t)), \\\\phi_a = $(param[\"ϕa\"]), \\\\phi_p = $(param[\"ϕp\"]), L_2 = $(d4(normf)), c = $(d4(c1)), {\\\\dot c} = $(d6(dc))\\$\")\n",
    "        ax.set_title(latex_string, fontsize = 12)\n",
    "        ax.get_xaxis().set_ticks(0:10.0:Lx)\n",
    "        ax.get_yaxis().set_ticks(-0.25:0.25:1.0)\n",
    "        # ax.set_xlabel(L\"x\", fontsize = 15)\n",
    "        #ax.set_ylabel(L\"m\",fontsize = font, rotation = 90)\n",
    "        ax.set_aspect((Lx/(1.25)))\n",
    "        ax.axis([0,Lx,-0.25,1.0])\n",
    "        ax.tick_params(direction = \"in\")\n",
    "        ax.legend(loc= \"upper right\", fontsize = 12)\n",
    "        ax.set_xlabel(L\"x\", fontsize = 15)\n",
    "display(fig)"
   ]
  },
  {
   "cell_type": "code",
   "execution_count": null,
   "metadata": {},
   "outputs": [],
   "source": [
    "function double_sol(f,param)\n",
    "    @unpack Nx, Lx, Δx = param\n",
    "    NNx = Int64(2*Nx)\n",
    "    g = zeros(NNx,3)\n",
    "    g[2:2:NNx,:] = f\n",
    "    g[1:2:NNx,:] = (  f + circshift(f,(1,0))  ) /2\n",
    "    Δx = Δx/2\n",
    "    Nx = NNx\n",
    "    @pack! param = Δx, Nx\n",
    "    return g,param\n",
    "end"
   ]
  },
  {
   "cell_type": "code",
   "execution_count": null,
   "metadata": {},
   "outputs": [],
   "source": [
    "# Dispaly Profile\n",
    "using PyPlot\n",
    "PyPlot.close(\"all\")\n",
    "        rc(\"text\", usetex=true)\n",
    "        fig, ax = subplots(1,1,figsize=(5,5))\n",
    "        @unpack Δx, Lx = param\n",
    "        ax.plot(Δx:Δx:Lx, f[:,2]+f[:,1]+f[:,3]; \n",
    "        color = \"black\", linestyle = \"-\", label = L\"\\rho\")\n",
    "        ax.plot(Δx:Δx:Lx, f[:,1]+f[:,2]; \n",
    "        color = \"red\", linestyle = \"--\", label = L\"\\rho^a\")\n",
    "        ax.plot(Δx:Δx:Lx, f[:,3]; \n",
    "        color = \"blue\", linestyle = \":\",label = L\"\\rho^p\")\n",
    "        ax.plot(Δx:Δx:Lx, f[:,2]-f[:,1]; \n",
    "        color = \"green\", linestyle = \"-.\", label = L\"m\")\n",
    "\n",
    "        d2(x) = round(x; digits = 2)\n",
    "        d4(x) = round(x; digits = 4)\n",
    "        d6(x) = round(x; digits = 6)\n",
    "        normf, c1, dc = f_dot(param, f)\n",
    "        latex_string = latexstring(\"\\$ t = $(d2(t)), \\\\phi_a = $(param[\"ϕa\"]), \\\\phi_p = $(param[\"ϕp\"]), L_2 = $(d4(normf)), c = $(d4(c1)), {\\\\dot c} = $(d6(dc))\\$\")\n",
    "        ax.set_title(latex_string, fontsize = 12)\n",
    "        ax.get_xaxis().set_ticks(0:10.0:Lx)\n",
    "        ax.get_yaxis().set_ticks(-0.25:0.25:1.0)\n",
    "        # ax.set_xlabel(L\"x\", fontsize = 15)\n",
    "        #ax.set_ylabel(L\"m\",fontsize = font, rotation = 90)\n",
    "        ax.set_aspect((Lx/(1.25)))\n",
    "        ax.axis([0,Lx,-0.25,1.0])\n",
    "        ax.tick_params(direction = \"in\")\n",
    "        ax.legend(loc= \"upper right\", fontsize = 12)\n",
    "        ax.set_xlabel(L\"x\", fontsize = 15)\n",
    "display(fig)"
   ]
  },
  {
   "cell_type": "code",
   "execution_count": null,
   "metadata": {},
   "outputs": [],
   "source": [
    "size(f), param[\"Δx\"]"
   ]
  },
  {
   "cell_type": "code",
   "execution_count": null,
   "metadata": {},
   "outputs": [],
   "source": [
    "f, param = double_sol(f,param)\n",
    "save_interval = 0.2\n",
    "@pack! param = save_interval\n",
    "t,f = run_current_pde(param,save_interval, f,t)"
   ]
  },
  {
   "cell_type": "code",
   "execution_count": null,
   "metadata": {},
   "outputs": [],
   "source": [
    "# Dispaly Profile\n",
    "using PyPlot\n",
    "PyPlot.close(\"all\")\n",
    "        rc(\"text\", usetex=true)\n",
    "        fig, ax = subplots(1,1,figsize=(5,5))\n",
    "        @unpack Δx, Lx = param\n",
    "        ax.plot(Δx:Δx:Lx, f[:,2]+f[:,1]+f[:,3]; \n",
    "        color = \"black\", linestyle = \"-\", label = L\"\\rho\")\n",
    "        ax.plot(Δx:Δx:Lx, f[:,1]+f[:,2]; \n",
    "        color = \"red\", linestyle = \"--\", label = L\"\\rho^a\")\n",
    "        ax.plot(Δx:Δx:Lx, f[:,3]; \n",
    "        color = \"blue\", linestyle = \":\",label = L\"\\rho^p\")\n",
    "        ax.plot(Δx:Δx:Lx, f[:,2]-f[:,1]; \n",
    "        color = \"green\", linestyle = \"-.\", label = L\"m\")\n",
    "\n",
    "        d2(x) = round(x; digits = 2)\n",
    "        d4(x) = round(x; digits = 4)\n",
    "        d6(x) = round(x; digits = 6)\n",
    "        normf, c1, dc = f_dot(param, f)\n",
    "        latex_string = latexstring(\"\\$ t = $(d2(t)), \\\\phi_a = $(param[\"ϕa\"]), \\\\phi_p = $(param[\"ϕp\"]), L_2 = $(d4(normf)), c = $(d4(c1)), {\\\\dot c} = $(d6(dc))\\$\")\n",
    "        ax.set_title(latex_string, fontsize = 12)\n",
    "        ax.get_xaxis().set_ticks(0:10.0:Lx)\n",
    "        ax.get_yaxis().set_ticks(-0.25:0.25:1.0)\n",
    "        # ax.set_xlabel(L\"x\", fontsize = 15)\n",
    "        #ax.set_ylabel(L\"m\",fontsize = font, rotation = 90)\n",
    "        ax.set_aspect((Lx/(1.25)))\n",
    "        ax.axis([0,Lx,-0.25,1.0])\n",
    "        ax.tick_params(direction = \"in\")\n",
    "        ax.legend(loc= \"upper right\", fontsize = 12)\n",
    "        ax.set_xlabel(L\"x\", fontsize = 15)\n",
    "display(fig)"
   ]
  },
  {
   "cell_type": "code",
   "execution_count": null,
   "metadata": {},
   "outputs": [],
   "source": [
    "save_interval = 10.0\n",
    "@pack! param = save_interval\n",
    "t,f = run_current_pde(param,save_interval, f,t)"
   ]
  },
  {
   "cell_type": "code",
   "execution_count": null,
   "metadata": {},
   "outputs": [],
   "source": [
    "# Dispaly Profile\n",
    "using PyPlot\n",
    "PyPlot.close(\"all\")\n",
    "        rc(\"text\", usetex=true)\n",
    "        fig, ax = subplots(1,1,figsize=(5,5))\n",
    "        @unpack Δx, Lx = param\n",
    "        ax.plot(Δx:Δx:Lx, f[:,2]+f[:,1]+f[:,3]; \n",
    "        color = \"black\", linestyle = \"-\", label = L\"\\rho\")\n",
    "        ax.plot(Δx:Δx:Lx, f[:,1]+f[:,2]; \n",
    "        color = \"red\", linestyle = \"--\", label = L\"\\rho^a\")\n",
    "        ax.plot(Δx:Δx:Lx, f[:,3]; \n",
    "        color = \"blue\", linestyle = \":\",label = L\"\\rho^p\")\n",
    "        ax.plot(Δx:Δx:Lx, f[:,2]-f[:,1]; \n",
    "        color = \"green\", linestyle = \"-.\", label = L\"m\")\n",
    "\n",
    "        d2(x) = round(x; digits = 2)\n",
    "        d4(x) = round(x; digits = 4)\n",
    "        d6(x) = round(x; digits = 6)\n",
    "        normf, c1, dc = f_dot(param, f)\n",
    "        latex_string = latexstring(\"\\$ t = $(d2(t)), \\\\phi_a = $(param[\"ϕa\"]), \\\\phi_p = $(param[\"ϕp\"]), L_2 = $(d4(normf)), c = $(d4(c1)), {\\\\dot c} = $(d6(dc))\\$\")\n",
    "        ax.set_title(latex_string, fontsize = 12)\n",
    "        ax.get_xaxis().set_ticks(0:10.0:Lx)\n",
    "        ax.get_yaxis().set_ticks(-0.25:0.25:1.0)\n",
    "        # ax.set_xlabel(L\"x\", fontsize = 15)\n",
    "        #ax.set_ylabel(L\"m\",fontsize = font, rotation = 90)\n",
    "        ax.set_aspect((Lx/(1.25)))\n",
    "        ax.axis([0,Lx,-0.25,1.0])\n",
    "        ax.tick_params(direction = \"in\")\n",
    "        ax.legend(loc= \"upper right\", fontsize = 12)\n",
    "        ax.set_xlabel(L\"x\", fontsize = 15)\n",
    "display(fig)"
   ]
  },
  {
   "cell_type": "code",
   "execution_count": 2,
   "metadata": {},
   "outputs": [
    {
     "data": {
      "text/plain": [
       "densify (generic function with 1 method)"
      ]
     },
     "metadata": {},
     "output_type": "display_data"
    }
   ],
   "source": [
    "function double_sol(param, f)\n",
    "    @unpack Nx, Lx, Δx = param\n",
    "    NNx = Int64(2*Nx)\n",
    "    g = zeros(NNx,3)\n",
    "    g[2:2:NNx,:] = f\n",
    "    g[1:2:NNx,:] = (  f + circshift(f,(1,0))  ) /2\n",
    "    Δx = Δx/2\n",
    "    Nx = NNx\n",
    "    @pack! param = Δx, Nx\n",
    "    return g,param\n",
    "end\n",
    "\n",
    "function relax_sol(param,f,t; threshold = 1e-4)\n",
    "    @unpack Lx,save_interval = param\n",
    "    dc = threshold/Lx + 1\n",
    "    while dc > threshold/Lx\n",
    "        t,f = run_current_pde(param,save_interval, f,t)\n",
    "        _,_,dc = f_dot(param, f)\n",
    "    end\n",
    "    return f, t\n",
    "end\n",
    "\n",
    "function get_stretch_param(Lx)\n",
    "    param = get_grid_param(21,11)\n",
    "    @unpack Nx = param\n",
    "    param[\"save_interval\"] = 100.0\n",
    "    param[\"name\"] = \"soliton_stretch\"\n",
    "    param[\"Lx\"] = Float64(Lx)\n",
    "    param[\"Δx\"] = Float64(Lx/Nx)\n",
    "    return param\n",
    "end\n",
    "\n",
    "function densify(Lx, ΔX; save_interval = 1.0)\n",
    "   \n",
    "    param = get_stretch_param(Lx)\n",
    "    @pack! param = save_interval\n",
    "\n",
    "    loaded, f, t = quiet_load_last_pde(param)\n",
    "\n",
    "    while param[\"Δx\"] > ΔX\n",
    "        f, param = double_sol(param, f)\n",
    "        println(\"relaxing Δx = $(param[\"Δx\"])\")\n",
    "        f, t = relax_sol(param,f,t)\n",
    "    end\n",
    "\n",
    "    return f,t\n",
    "end\n"
   ]
  },
  {
   "cell_type": "code",
   "execution_count": 3,
   "metadata": {},
   "outputs": [
    {
     "data": {
      "text/plain": [
       "(true, [0.177683534282542 0.18590079160734463 0.29579134773697036; 0.1776406335360416 0.18599599026313623 0.2961774750590353; … ; 0.17784442245979418 0.18572360598680532 0.2949870740100643; 0.17775007640868756 0.18580986733515015 0.2953952035886185], 800.0000086965904)"
      ]
     },
     "metadata": {},
     "output_type": "display_data"
    }
   ],
   "source": [
    "param = get_stretch_param(19)\n",
    "save_interval = 1.0 \n",
    "@pack! param = save_interval\n",
    "loaded, f, t = quiet_load_last_pde(param)"
   ]
  },
  {
   "cell_type": "code",
   "execution_count": 6,
   "metadata": {},
   "outputs": [
    {
     "data": {
      "text/plain": [
       "3-element Vector{Float64}:\n",
       " 0.09862756186475617\n",
       " 0.06502017034925411\n",
       " 0.0007187603176875279"
      ]
     },
     "metadata": {},
     "output_type": "display_data"
    }
   ],
   "source": [
    "t,f = run_current_pde(param,save_interval, f,t)\n",
    "_,_,dc = f_dot(param, f)"
   ]
  },
  {
   "cell_type": "code",
   "execution_count": 5,
   "metadata": {},
   "outputs": [
    {
     "data": {
      "text/plain": [
       "([0.17765029586315273 0.1859878748940431 0.2961325908536492; 0.17763281538139467 0.1860362260405518 0.296324005405854; … ; 0.17769638510153035 0.18589324538063723 0.295745080577132; 0.1776677763449108 0.18593952374753436 0.2959411763014443], Dict{String, Any}(\"T\" => 2000.0, \"save_interval\" => 1.0, \"δ\" => 0.01, \"δt\" => 1.0e-5, \"name\" => \"soliton_stretch\", \"save_on\" => true, \"DT\" => 1.0, \"Lx\" => 19.0, \"N\" => 100, \"DR\" => 1.0…))"
      ]
     },
     "metadata": {},
     "output_type": "display_data"
    }
   ],
   "source": [
    "f, param = double_sol(param, f)"
   ]
  },
  {
   "cell_type": "code",
   "execution_count": null,
   "metadata": {},
   "outputs": [],
   "source": [
    "densify(19, 0.01; save_interval = 1.0)"
   ]
  },
  {
   "cell_type": "code",
   "execution_count": 7,
   "metadata": {},
   "outputs": [
    {
     "data": {
      "text/plain": [
       "71-element Vector{Int64}:\n",
       " 10\n",
       " 11\n",
       " 12\n",
       " 13\n",
       " 14\n",
       " 15\n",
       " 16\n",
       " 17\n",
       " 18\n",
       " 19\n",
       "  ⋮\n",
       " 72\n",
       " 73\n",
       " 74\n",
       " 75\n",
       " 76\n",
       " 77\n",
       " 78\n",
       " 79\n",
       " 80"
      ]
     },
     "metadata": {},
     "output_type": "display_data"
    }
   ],
   "source": [
    "collect(10:1:80)"
   ]
  }
 ],
 "metadata": {
  "kernelspec": {
   "display_name": "Julia 1.8.1",
   "language": "julia",
   "name": "julia-1.8"
  },
  "language_info": {
   "file_extension": ".jl",
   "mimetype": "application/julia",
   "name": "julia",
   "version": "1.8.1"
  },
  "orig_nbformat": 4
 },
 "nbformat": 4,
 "nbformat_minor": 2
}
