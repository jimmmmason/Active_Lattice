{
 "cells": [
  {
   "cell_type": "code",
   "execution_count": 1,
   "metadata": {},
   "outputs": [
    {
     "name": "stdout",
     "output_type": "stream",
     "text": [
      "v3.0\n",
      "v4.0\n"
     ]
    },
    {
     "name": "stderr",
     "output_type": "stream",
     "text": [
      "WARNING: method definition for #h0#128 at /home/jm2386/Active_Lattice/src/Hetrocline.jl:57 declares type variable N but does not use it.\n",
      "WARNING: method definition for #h0#128 at /home/jm2386/Active_Lattice/src/Hetrocline.jl:57 declares type variable V but does not use it.\n",
      "WARNING: method definition for #h0#128 at /home/jm2386/Active_Lattice/src/Hetrocline.jl:57 declares type variable T but does not use it.\n"
     ]
    }
   ],
   "source": [
    "cd(\"/home/jm2386/Active_Lattice/\")\n",
    "using DrWatson\n",
    "@quickactivate \"Active_Lattice\"\n",
    "include(\"/home/jm2386/Active_Lattice/src/pm_pdes.jl\");\n",
    "include(\"/home/jm2386/Active_Lattice/src/pm_sims.jl\");\n",
    "include(\"/home/jm2386/Active_Lattice/src/pm_plot.jl\");\n",
    "include(\"/home/jm2386/Active_Lattice/src/Hetrocline.jl\");\n"
   ]
  },
  {
   "cell_type": "code",
   "execution_count": 7,
   "metadata": {},
   "outputs": [
    {
     "data": {
      "text/plain": [
       "([0.45491486621961336, 0.4551456127295905, 0.45537739568691954, 0.4556102418670632, 0.4558441544020089, 0.4560791432830329, 0.4563152183521896, 0.45655239011827947, 0.456790664145801, 0.4570300549025119  …  0.39360218703747996, 0.39468225959813813, 0.3958704934809885, 0.39718926204955013, 0.3986697827873908, 0.4003581981851106, 0.40232813701827, 0.4047102384883977, 0.4077853385216248, 0.4124715269812998], [0.9220502168944901, 0.9208702878611552, 0.9196893686051384, 0.9185074648469853, 0.9173245651194006, 0.9161406632952254, 0.9149557456034344, 0.9137697993135232, 0.9125828303062447, 0.9113948119610515  …  0.46086163196071034, 0.45831417592469653, 0.4556593108987803, 0.45287379774049136, 0.4499268063419979, 0.4467722702119147, 0.44333556156709975, 0.4394878318938576, 0.4349466631804559, 0.42879381431281677], [0.001, 0.002, 0.003, 0.004, 0.005, 0.006, 0.007, 0.008, 0.009, 0.01  …  0.36, 0.361, 0.362, 0.363, 0.364, 0.365, 0.366, 0.367, 0.368, 0.369])"
      ]
     },
     "metadata": {},
     "output_type": "display_data"
    }
   ],
   "source": [
    "# load spinodal\n",
    "Δϕ = 0.001\n",
    "Pe = 7.5\n",
    "file_name = \"/store/DAMTP/jm2386/Active_Lattice/data/pm_pdes_pro/spinodal/Δϕ=$(Δϕ)_Pe=$(Pe).jld2\"\n",
    "            data = load(file_name)\n",
    "            @unpack ϕas_left, ϕas_right, ϕps = data\n",
    "            nϕps = [z for (x,y,z) in zip(ϕas_left,ϕas_right,ϕps) if (y>0.5)|(z > 0.2) ]\n",
    "            nϕas_right = [y for (x,y,z) in zip(ϕas_left,ϕas_right,ϕps) if (y>0.5)|(z > 0.2) ]\n",
    "            nϕas_left = [x for (x,y,z) in zip(ϕas_left,ϕas_right,ϕps) if (y>0.5)|(z > 0.2) ]\n",
    "ϕas_left, ϕas_right, ϕps = nϕas_left, nϕas_right, nϕps"
   ]
  },
  {
   "cell_type": "code",
   "execution_count": 13,
   "metadata": {},
   "outputs": [
    {
     "data": {
      "text/plain": [
       "Float64[]"
      ]
     },
     "metadata": {},
     "output_type": "display_data"
    }
   ],
   "source": [
    "ϕa_grid = collect((ϕas_left[end]+Δϕ):Δϕ:(ϕas_right[end]-Δϕ))"
   ]
  },
  {
   "cell_type": "code",
   "execution_count": 78,
   "metadata": {},
   "outputs": [
    {
     "data": {
      "image/png": "[encoded data removed]",
      "text/plain": [
       "Figure(PyObject <Figure size 500x500 with 1 Axes>)"
      ]
     },
     "metadata": {},
     "output_type": "display_data"
    }
   ],
   "source": [
    "using PyPlot\n",
    "fig, ax = subplots(1,1,figsize=(5,5))\n",
    "ax.plot(ϕas_left, ϕps, color = \"blue\", label = \"Spindoal\", linestyle = \"-\")\n",
    "                ax.plot(ϕas_right, ϕps, color = \"blue\", label = \"_Spindoal\", linestyle = \"-\")\n",
    "                # ax.plot([ϕas_left[end],ϕas_right[end]], [ϕps[end],ϕps[end]], color = \"blue\", label = \"_Spindoal\", linestyle = \"-\")\n",
    "display(fig)"
   ]
  },
  {
   "cell_type": "code",
   "execution_count": 20,
   "metadata": {},
   "outputs": [
    {
     "name": "stdout",
     "output_type": "stream",
     "text": [
      "saved: Δϕ=0.001_Pe=7.5\n"
     ]
    },
    {
     "data": {
      "text/plain": [
       "([0.45491486621961336, 0.4551456127295905, 0.45537739568691954, 0.4556102418670632, 0.4558441544020089, 0.4560791432830329, 0.4563152183521896, 0.45655239011827947, 0.456790664145801, 0.4570300549025119  …  0.39468225959813813, 0.3958704934809885, 0.39718926204955013, 0.3986697827873908, 0.4003581981851106, 0.40232813701827, 0.4047102384883977, 0.4077853385216248, 0.4124715269812998, 0.41347156548005776], [0.9220502168944901, 0.9208702878611552, 0.9196893686051384, 0.9185074648469853, 0.9173245651194006, 0.9161406632952254, 0.9149557456034344, 0.9137697993135232, 0.9125828303062447, 0.9113948119610515  …  0.45831417592469653, 0.4556593108987803, 0.45287379774049136, 0.4499268063419979, 0.4467722702119147, 0.44333556156709975, 0.4394878318938576, 0.4349466631804559, 0.42879381431281677, 0.41347301091337785], [0.001, 0.002, 0.003, 0.004, 0.005, 0.006, 0.007, 0.008, 0.009, 0.01  …  0.361, 0.362, 0.363, 0.364, 0.365, 0.366, 0.367, 0.368, 0.369, 0.3691427516532135])"
      ]
     },
     "metadata": {},
     "output_type": "display_data"
    }
   ],
   "source": [
    "file_name = \"/store/DAMTP/jm2386/Active_Lattice/data/pm_pdes_pro/spinodal/Δϕ=$(Δϕ)_Pe=$(Pe).jld2\"\n",
    "            data = Dict{String,Any}()\n",
    "            @pack! data = ϕas_left, ϕas_right, ϕps\n",
    "            safesave(file_name,data)\n",
    "            println(\"saved: \",\"Δϕ=$(Δϕ)_Pe=$(Pe)\")\n",
    "            return ϕas_left, ϕas_right, ϕps"
   ]
  },
  {
   "cell_type": "code",
   "execution_count": 75,
   "metadata": {},
   "outputs": [
    {
     "data": {
      "text/plain": [
       "is_complex_value (generic function with 1 method)"
      ]
     },
     "metadata": {},
     "output_type": "display_data"
    }
   ],
   "source": [
    "function is_complex_value(ϕa, ϕp; Pe = 10.) # positive implies complex\n",
    "    ϕ  = ϕa + ϕp\n",
    "    # get extreme values \n",
    "    f(x) = Dw(ϕ, ϕa, Pe, x, ds(ϕ), dsp(ϕ))*Dw2(ϕ, ϕa, Pe, x, ds(ϕ), dsp(ϕ))*Dw3(ϕ, ϕa, Pe, x, ds(ϕ), dsp(ϕ))\n",
    "    ws = find_zeros(f,(1e-10,10))\n",
    "    try\n",
    "        if ws == [1e-10]\n",
    "            expr2 = (β(ϕa, ϕp) + α(ϕa, ϕp)*Pe^2)\n",
    "            return -(expr2^2 - 4*ϕp*β(ϕa, ϕp)*ds(ϕ)^2*Pe^2)\n",
    "        else\n",
    "            ind = argmax(relambw.(ws; ϕa = ϕa, ϕ = ϕ, v = Pe) )\n",
    "            return discriminant_f(ϕ, ϕa, Pe, ws[ind], ds(ϕ), dsp(ϕ))/ws[ind]^2 - 1e-22\n",
    "        end\n",
    "    catch\n",
    "        # expr2 = (β(ϕa, ϕp) + α(ϕa, ϕp)*Pe^2)\n",
    "        return -1e-22 #-(expr2^2 - 4*ϕp*β(ϕa, ϕp)*ds(ϕ)^2*Pe^2)\n",
    "    end\n",
    "end"
   ]
  },
  {
   "cell_type": "code",
   "execution_count": 76,
   "metadata": {},
   "outputs": [
    {
     "data": {
      "text/plain": [
       "21-element Vector{Float64}:\n",
       " -1.0e-22\n",
       " -1.0e-22\n",
       " -1.0e-22\n",
       " -0.0377987016501416\n",
       " -0.03276508351203539\n",
       " -0.028104364136375237\n",
       " -1.0e-22\n",
       " -0.019878235013113366\n",
       " -0.01631018321044414\n",
       " -0.013102404839459847\n",
       "  ⋮\n",
       " -0.005616833297569956\n",
       " -0.003826027942909316\n",
       " -0.002383193395062211\n",
       " -1.0e-22\n",
       " -1.0e-22\n",
       " -0.000116235025303002\n",
       "  0.04308253497212278\n",
       "  0.062022480515976475\n",
       " -1.0e-22"
      ]
     },
     "metadata": {},
     "output_type": "display_data"
    }
   ],
   "source": [
    "is_complex_value.(ϕas_left[10:1:30], ϕps[10:1:30]; Pe = Pe)"
   ]
  },
  {
   "cell_type": "code",
   "execution_count": 77,
   "metadata": {},
   "outputs": [
    {
     "data": {
      "text/plain": [
       "28"
      ]
     },
     "metadata": {},
     "output_type": "display_data"
    }
   ],
   "source": [
    "indl = argmax(sign.(is_complex_value.(ϕas_left, ϕps; Pe = Pe)))\n",
    "indr = argmax(sign.(is_complex_value.(ϕas_left, ϕps; Pe = Pe)))"
   ]
  },
  {
   "cell_type": "code",
   "execution_count": 71,
   "metadata": {},
   "outputs": [
    {
     "data": {
      "text/plain": [
       "1-element Vector{Float64}:\n",
       " 1.0e-10"
      ]
     },
     "metadata": {},
     "output_type": "display_data"
    }
   ],
   "source": [
    "ϕa, ϕp = ϕas_left[indl], ϕps[indl]\n",
    "ϕ  = ϕa + ϕp\n",
    "max_val = relambw(0.01; ϕa = ϕa, ϕ = ϕ, v = Pe)\n",
    "\n",
    "# get extreme values \n",
    "f(x) = Dw(ϕ, ϕa, Pe, x, ds(ϕ), dsp(ϕ))*Dw2(ϕ, ϕa, Pe, x, ds(ϕ), dsp(ϕ))*Dw3(ϕ, ϕa, Pe, x, ds(ϕ), dsp(ϕ))\n",
    "ws = find_zeros(f,(1e-10,10))"
   ]
  },
  {
   "cell_type": "code",
   "execution_count": 74,
   "metadata": {},
   "outputs": [
    {
     "data": {
      "text/plain": [
       "-0.03276508351203539"
      ]
     },
     "metadata": {},
     "output_type": "display_data"
    }
   ],
   "source": [
    "is_complex_value(ϕas_left[indl], ϕps[indl]; Pe = 7.5)"
   ]
  },
  {
   "cell_type": "code",
   "execution_count": 79,
   "metadata": {},
   "outputs": [
    {
     "data": {
      "image/png": "[encoded data removed]",
      "text/plain": [
       "Figure(PyObject <Figure size 500x500 with 1 Axes>)"
      ]
     },
     "metadata": {},
     "output_type": "display_data"
    }
   ],
   "source": [
    "ax.scatter(ϕas_left[indl], ϕps[indl]; color = \"black\", marker = \"x\")\n",
    "ax.scatter(ϕas_right[indr], ϕps[indr]; color = \"black\", marker = \"x\")\n",
    "display(fig)"
   ]
  },
  {
   "cell_type": "code",
   "execution_count": 80,
   "metadata": {},
   "outputs": [
    {
     "name": "stdout",
     "output_type": "stream",
     "text": [
      "saved: Δϕ=0.001_Pe=7.5\n"
     ]
    }
   ],
   "source": [
    "file_name = \"/store/DAMTP/jm2386/Active_Lattice/data/pm_pdes_pro/spinodal/Δϕ=$(Δϕ)_Pe=$(Pe).jld2\"\n",
    "            data = Dict{String,Any}()\n",
    "            @pack! data = ϕas_left, ϕas_right, ϕps, indl, indr\n",
    "            safesave(file_name,data)\n",
    "            println(\"saved: \",\"Δϕ=$(Δϕ)_Pe=$(Pe)\")"
   ]
  }
 ],
 "metadata": {
  "kernelspec": {
   "display_name": "Julia 1.10.2",
   "language": "julia",
   "name": "julia-1.10"
  },
  "language_info": {
   "file_extension": ".jl",
   "mimetype": "application/julia",
   "name": "julia",
   "version": "1.10.2"
  },
  "orig_nbformat": 4
 },
 "nbformat": 4,
 "nbformat_minor": 2
}
