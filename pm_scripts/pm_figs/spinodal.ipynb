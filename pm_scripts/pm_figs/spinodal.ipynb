{
 "cells": [
  {
   "cell_type": "code",
   "execution_count": 1,
   "metadata": {},
   "outputs": [
    {
     "name": "stdout",
     "output_type": "stream",
     "text": [
      "v3.0\n",
      "v4.0\n"
     ]
    },
    {
     "name": "stderr",
     "output_type": "stream",
     "text": [
      "WARNING: method definition for #h0#128 at /home/jm2386/Active_Lattice/src/Hetrocline.jl:57 declares type variable N but does not use it.\n",
      "WARNING: method definition for #h0#128 at /home/jm2386/Active_Lattice/src/Hetrocline.jl:57 declares type variable V but does not use it.\n",
      "WARNING: method definition for #h0#128 at /home/jm2386/Active_Lattice/src/Hetrocline.jl:57 declares type variable T but does not use it.\n"
     ]
    }
   ],
   "source": [
    "cd(\"/home/jm2386/Active_Lattice/\")\n",
    "using DrWatson\n",
    "@quickactivate \"Active_Lattice\"\n",
    "include(\"/home/jm2386/Active_Lattice/src/pm_pdes.jl\");\n",
    "include(\"/home/jm2386/Active_Lattice/src/pm_sims.jl\");\n",
    "include(\"/home/jm2386/Active_Lattice/src/pm_plot.jl\");\n",
    "include(\"/home/jm2386/Active_Lattice/src/Hetrocline.jl\");"
   ]
  },
  {
   "cell_type": "code",
   "execution_count": null,
   "metadata": {},
   "outputs": [],
   "source": [
    "# load binodal\n",
    "filename = \"/store/DAMTP/jm2386/Active_Lattice/data/binodal/Pe=$(Pe).jld2\"\n",
    "data = wload(filename)\n",
    "@unpack Pe, γs, ϕ1s, ϕ2s = data\n",
    "# compute spindodals\n",
    "Δϕ = 0.001\n",
    "ϕas_left, ϕas_right, ϕps = return_spin(;Pe = Pe, Δϕ = Δϕ)\n",
    "ϕas_left, ϕas_right, ϕps, γ_grid, ϕ1_grid, ϕ2_grid = return_spin_from_grid(\"binodal_1_$(Δϕ)_$(Pe)\";max_ϕa = max_ϕa, Pe = Pe, γ_grid = γs, ϕ1_grid = ϕ1s, ϕ2_grid = ϕ2s, ϕp_grid = gammas_converter_p(γs, ϕ1s).+0.00001)\n",
    "ϕas_left, ϕas_right, ϕps, γ_grid, ϕ1_grid, ϕ2_grid = return_spin_from_grid(\"binodal_2_$(Δϕ)_$(Pe)\";max_ϕa = max_ϕa, Pe = Pe, γ_grid = γs, ϕ1_grid = ϕ1s, ϕ2_grid = ϕ2s, ϕp_grid = gammas_converter_p(γs, ϕ2s).+0.00001)"
   ]
  }
 ],
 "metadata": {
  "kernelspec": {
   "display_name": "Julia 1.10.2",
   "language": "julia",
   "name": "julia-1.10"
  },
  "language_info": {
   "file_extension": ".jl",
   "mimetype": "application/julia",
   "name": "julia",
   "version": "1.10.2"
  }
 },
 "nbformat": 4,
 "nbformat_minor": 2
}
