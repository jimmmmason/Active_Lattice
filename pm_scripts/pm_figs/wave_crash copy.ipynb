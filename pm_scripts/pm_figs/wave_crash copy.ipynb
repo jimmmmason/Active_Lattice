{
 "cells": [
  {
   "cell_type": "code",
   "execution_count": null,
   "metadata": {},
   "outputs": [],
   "source": [
    "cd(\"/home/jm2386/Active_Lattice/\")\n",
    "using DrWatson\n",
    "@quickactivate \"Active_Lattice\"\n",
    "include(\"/home/jm2386/Active_Lattice/src/pm_pdes.jl\");\n",
    "include(\"/home/jm2386/Active_Lattice/src/pm_sims.jl\");\n",
    "include(\"/home/jm2386/Active_Lattice/src/pm_plot.jl\");\n",
    "include(\"/home/jm2386/Active_Lattice/src/Hetrocline.jl\");\n"
   ]
  },
  {
   "cell_type": "code",
   "execution_count": null,
   "metadata": {},
   "outputs": [],
   "source": [
    "# Load initial wave\n",
    "param = get_dense_param(20, 0.05)\n",
    "    T = 10000.0\n",
    "    @pack! param = T\n",
    "    loaded, f, t = quiet_load_last_pde(param)\n",
    "#"
   ]
  }
 ],
 "metadata": {
  "kernelspec": {
   "display_name": "Julia 1.8.1",
   "language": "julia",
   "name": "julia-1.8"
  },
  "language_info": {
   "file_extension": ".jl",
   "mimetype": "application/julia",
   "name": "julia",
   "version": "1.8.1"
  },
  "orig_nbformat": 4
 },
 "nbformat": 4,
 "nbformat_minor": 2
}
