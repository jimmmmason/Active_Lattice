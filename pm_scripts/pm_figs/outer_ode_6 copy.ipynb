{
 "cells": [
  {
   "cell_type": "code",
   "execution_count": 1,
   "metadata": {},
   "outputs": [
    {
     "name": "stdout",
     "output_type": "stream",
     "text": [
      "v3.0\n",
      "v4.0\n"
     ]
    },
    {
     "name": "stderr",
     "output_type": "stream",
     "text": [
      "WARNING: method definition for #h0#128 at /home/jm2386/Active_Lattice/src/Hetrocline.jl:57 declares type variable N but does not use it.\n",
      "WARNING: method definition for #h0#128 at /home/jm2386/Active_Lattice/src/Hetrocline.jl:57 declares type variable V but does not use it.\n",
      "WARNING: method definition for #h0#128 at /home/jm2386/Active_Lattice/src/Hetrocline.jl:57 declares type variable T but does not use it.\n"
     ]
    }
   ],
   "source": [
    "cd(\"/home/jm2386/Active_Lattice/\")\n",
    "using DrWatson\n",
    "@quickactivate \"Active_Lattice\"\n",
    "include(\"/home/jm2386/Active_Lattice/src/pm_pdes.jl\");\n",
    "include(\"/home/jm2386/Active_Lattice/src/pm_sims.jl\");\n",
    "include(\"/home/jm2386/Active_Lattice/src/pm_plot.jl\");\n",
    "include(\"/home/jm2386/Active_Lattice/src/Hetrocline.jl\");\n"
   ]
  },
  {
   "cell_type": "code",
   "execution_count": 3,
   "metadata": {},
   "outputs": [
    {
     "data": {
      "text/plain": [
       "decrease_inds (generic function with 1 method)"
      ]
     },
     "metadata": {},
     "output_type": "display_data"
    }
   ],
   "source": [
    "## outer 6 \n",
    "function ff_out_7(F,u,p; atol = 1e-12)\n",
    "    DT, v0, DR, Δx, Nx, Lx, ϕa, ϕp, ind, γ, ϕaL, ϕaR, ϕL, ϕR = p\n",
    "        global ρ,ρa,m,ep\n",
    "        local c\n",
    "        ρ  = u[(0*Nx+1):1:(1*Nx)]\n",
    "        ρa = u[(1*Nx+1):1:(2*Nx)]\n",
    "        c  = u[end]\n",
    "\n",
    "        for i in 2:(ind-1)\n",
    "            F[i-1]      = rho_out_eq_2(ρ,ρa,c,i; p = p) - rho_out_eq_2(ρ,ρa,c,1; p = p)\n",
    "            F[Nx-3+i]   = act_out_eq_2(ρ,ρa,c,i; p = p) - act_out_eq_2(ρ,ρa,c,1; p = p)\n",
    "        end\n",
    "\n",
    "        for i in (ind+1):1:(Nx-1)\n",
    "            F[i-1]      = rho_out_eq_2(ρ,ρa,c,i; p = p) - rho_out_eq_2(ρ,ρa,c,1; p = p)\n",
    "            F[Nx-3+i]   = act_out_eq_2(ρ,ρa,c,i; p = p) - act_out_eq_2(ρ,ρa,c,1; p = p)\n",
    "        end\n",
    "\n",
    "        ind1 = 1\n",
    "        γ_end = (-ρa[end].+1)./(-ρ[end].+1)\n",
    "        γ_srt = (-ρa[ind1].+1)./(-ρ[ind1].+1)\n",
    "        F[ind-1]    = gg0.(ρ[end], γ_end; Pe = v0) - gg0.(ρ[ind1], γ_srt; Pe = v0)\n",
    "        F[Nx-3+ind] = (hhh0.(ρ[end], γ_end; Pe = v0, atol = atol) - hhh0.(ρ[ind1], γ_srt; Pe = v0, atol = atol))./10\n",
    "        F[2*Nx+1]   = γ_end .- γ_srt\n",
    "\n",
    "        ind1 = ind +1 \n",
    "        F[2*Nx-3] = ρa[ind] - ϕaL\n",
    "        F[2*Nx-2] = ρa[ind1] - ϕaR\n",
    "        F[2*Nx-1] = ρ[ind] - ϕL\n",
    "        F[2*Nx]   = ρ[ind1] - ϕR \n",
    "end\n",
    "\n",
    "function load_out_7(Lx,Nx,ϕa,ϕp,v0,ind,γ)\n",
    "    param, ps = get_outer_param_7(Lx,Nx,ϕa,ϕp,v0,ind,γ)\n",
    "    filename = outer_save_name_7(param,ind,γ)\n",
    "    data = load(filename)\n",
    "    @unpack f, c = data\n",
    "    u = get_out_u(f,c,Lx)\n",
    "    return f, u, c\n",
    "end\n",
    "\n",
    "using NonlinearSolve, DifferentialEquations\n",
    "function solve_out_7(Lx,Nx,ϕa,ϕp,v0,ind,γ,u0; tol = 1e-8, maxiters = 100)\n",
    "    param, p = get_outer_param_7(Lx,Nx,ϕa,ϕp,v0,ind,γ)\n",
    "    # Set problem\n",
    "    prob = NonlinearProblem(ff_out_7,u0, p; abstol = tol, reltol =  tol, maxiters = maxiters);\n",
    "    sol  = solve(prob)\n",
    "    #\n",
    "    # Save\n",
    "        u = sol.u\n",
    "        f = get_out_f(u,param)\n",
    "        c = u[end]/Lx\n",
    "        filename    = outer_save_name_7(param,ind,γ)\n",
    "        data        = Dict(\"f\" => f, \"c\" => c)\n",
    "        safesave(filename,data)\n",
    "    #\n",
    "    return f, u, c\n",
    "end\n",
    "\n",
    "function get_outer_param_7(Lx,Nx,ϕa,ϕp,v0,ind,γ)\n",
    "    param = get_stretch_param(Lx)\n",
    "    name = \"outer_sol_7\"\n",
    "    Δx = Lx/Nx\n",
    "    DT = DR = 1.0\n",
    "    ϕaL, ϕaR, ϕL, ϕR = get_BC(γ,v0;initial_Δ = 1e-6, tol = 1e-8 )\n",
    "    @pack! param = Lx,Nx,ϕa,ϕp,v0,name,Δx\n",
    "    ps = DT, v0, DR, Δx, Nx, Lx, ϕa, ϕp, ind, γ, ϕaL, ϕaR, ϕL, ϕR\n",
    "    return param, ps\n",
    "end\n",
    "\n",
    "function outer_save_name_7(param,ind,γ)\n",
    "    @unpack DT, v0, DR, Nx, Lx, name, ϕa, ϕp = param\n",
    "    return \"/store/DAMTP/jm2386/Active_Lattice/data/pm_pdes_pro/outer_sol/$(name)/[DT,v0,DR,Nx,ind,γ]=$([DT,v0,DR,Nx,ind,γ]).jld2\"\n",
    "end\n",
    "\n",
    "function check_u_7(u,ps)\n",
    "    DT, v0, DR, Δx, Nx, Lx, ϕa, ϕp, ind, γ, ϕaL, ϕaR, ϕL, ϕR = ps\n",
    "    param, _ = get_outer_param_7(Lx,Nx,ϕa,ϕp,v0,ind,γ)\n",
    "    F = zeros(2*Nx+1)\n",
    "    ff_out_7(F,u,ps)\n",
    "    f = get_out_f(u,param)\n",
    "    avmag = Lx*sum(f[:,2]-f[:,1])/Nx\n",
    "    return maximum(abs.(F)), argmax(abs.(F)), avmag, u[end]/Lx\n",
    "end\n",
    "\n",
    "function increase_ind_7(u,ps)\n",
    "    DT, v0, DR, Δx, Nx, Lx, ϕa, ϕp, ind, γ, ϕaL, ϕaR, ϕL, ϕR = ps\n",
    "    i = ind\n",
    "    u[i+1] = u[i]\n",
    "    i = Nx + i \n",
    "    u[i+1] = u[i]\n",
    "    ps = DT, v0, DR, Δx, Nx, Lx, ϕa, ϕp, (ind+1), γ, ϕaL, ϕaR, ϕL, ϕR\n",
    "    return u, ps\n",
    "end\n",
    "\n",
    "function decrease_ind_7(u,ps)\n",
    "    DT, v0, DR, Δx, Nx, Lx, ϕa, ϕp, ind, γ, ϕaL, ϕaR, ϕL, ϕR = ps\n",
    "    i = ind\n",
    "    u[i] = u[i+1]\n",
    "    i = Nx + i\n",
    "    u[i] = u[i+1]\n",
    "    ps = DT, v0, DR, Δx, Nx, Lx, ϕa, ϕp, (ind-1), γ, ϕaL, ϕaR, ϕL, ϕR\n",
    "    return u, ps\n",
    "end\n",
    "\n",
    "function increase_inds(u,ps,n)\n",
    "    for i in 1:n\n",
    "        u, ps = increase_ind_7(u,ps)\n",
    "    end\n",
    "    return u, ps\n",
    "end\n",
    "\n",
    "function decrease_inds(u,ps,n)\n",
    "    for i in 1:n\n",
    "        u, ps = decrease_ind_7(u,ps)\n",
    "    end\n",
    "    return u, ps\n",
    "end\n",
    "# "
   ]
  },
  {
   "cell_type": "code",
   "execution_count": 3,
   "metadata": {},
   "outputs": [
    {
     "ename": "ArgumentError",
     "evalue": "ArgumentError: No file exists at given path: /store/DAMTP/jm2386/Active_Lattice/data/pm_pdes_pro/outer_sol/outer_sol_7/[DT,v0,DR,Nx,ind,γ]=[1.0, 7.5, 1.0, 1024.0, 780.0, 1.5].jld2",
     "output_type": "error",
     "traceback": [
      "ArgumentError: No file exists at given path: /store/DAMTP/jm2386/Active_Lattice/data/pm_pdes_pro/outer_sol/outer_sol_7/[DT,v0,DR,Nx,ind,γ]=[1.0, 7.5, 1.0, 1024.0, 780.0, 1.5].jld2\n",
      "\n",
      "Stacktrace:\n",
      " [1] checkpath_load\n",
      "   @ ~/.julia/packages/FileIO/xOKyx/src/loadsave.jl:167 [inlined]\n",
      " [2] load(::String; options::@Kwargs{})\n",
      "   @ FileIO ~/.julia/packages/FileIO/xOKyx/src/loadsave.jl:110\n",
      " [3] load\n",
      "   @ ~/.julia/packages/FileIO/xOKyx/src/loadsave.jl:109 [inlined]\n",
      " [4] load_out_7(Lx::Float64, Nx::Int64, ϕa::Float64, ϕp::Float64, v0::Float64, ind::Int64, γ::Float64)\n",
      "   @ Main ~/Active_Lattice/pm_scripts/pm_figs/outer_ode_6.ipynb:37\n",
      " [5] top-level scope\n",
      "   @ ~/Active_Lattice/pm_scripts/pm_figs/outer_ode_6.ipynb:5"
     ]
    }
   ],
   "source": [
    "# Lx,Nx,ϕa,ϕp,v0,ind,γ = 100.0, 1024, 0.3, 0.3, 7.5, 56, 2.03\n",
    "# Lx,Nx,ϕa,ϕp,v0,ind,γ = 100.0, 1024, 0.3, 0.3, 7.5, 800, 1.5\n",
    "param, ps = get_outer_param_7(Lx,Nx,ϕa,ϕp,v0,ind,γ)\n",
    "f,u,c = load_out_7(Lx,Nx,ϕa,ϕp,v0,ind,γ)\n",
    "# f,u,c = solve_out_7(Lx,Nx,ϕa,ϕp,v0,ind,γ,u; tol = 1e-8, maxiters = 10)\n",
    "# check densities\n",
    "        ϕp = sum(f)/Nx-sum(f[:,1:2])/Nx\n",
    "        ϕa = sum(f[:,1:2])/Nx\n",
    "#\n",
    "rhodiff = u[ind+1] - u[ind]\n",
    "err, erri, avmag, cep = check_u_7(u,ps);\n",
    "println(\"ϕa,ϕp=($(ϕa),$(ϕp)): rhodiff=$(rhodiff), c =$(c), avmag=$(avmag), err=$(err),$(erri), ind=$(ind)\")"
   ]
  },
  {
   "cell_type": "code",
   "execution_count": 54,
   "metadata": {},
   "outputs": [
    {
     "data": {
      "text/plain": [
       "1.7369414724789993"
      ]
     },
     "metadata": {},
     "output_type": "display_data"
    }
   ],
   "source": [
    "ρ  = u[(0*Nx+1):1:(1*Nx)]\n",
    "ρa  = u[(1*Nx+1):1:(2*Nx)]\n",
    "γ_end = (-ρa[end].+1)./(-ρ[end].+1)"
   ]
  },
  {
   "cell_type": "code",
   "execution_count": 7,
   "metadata": {},
   "outputs": [
    {
     "name": "stdout",
     "output_type": "stream",
     "text": [
      "ϕa,ϕp=(0.4884,0.2128): rhodiff=0.06587023064891262, c =0.003637303276697616, avmag=0.27092175583068756, err=1.4752215005131575e-9,778, ind=780\n"
     ]
    }
   ],
   "source": [
    "# Lx,Nx,ϕa,ϕp,v0,ind,γ = 100.0, 1024, 0.3, 0.3, 7.5, 1000, 1.4\n",
    "# Lx,Nx,ϕa,ϕp,v0,ind,γ = 100.0, 1024, 0.3, 0.3, 7.5, 56, 1.7369414724789993\n",
    "# Lx,Nx,ϕa,ϕp,v0,ind,γ = 100.0, 1024, 0.3, 0.3, 7.5, 208, 1.71\n",
    "# Lx,Nx,ϕa,ϕp,v0,ind,γ = 100.0, 1024, 0.3, 0.3, 7.5, 840, 1.5\n",
    "Lx,Nx,ϕa,ϕp,v0,ind,γ = 100.0, 1024, 0.3, 0.3, 7.5, 780, 1.48\n",
    "param, ps = get_outer_param_6(Lx,Nx,ϕa,ϕp,v0,ind,γ)\n",
    "# f,u,c = load_out_6(Lx,Nx,ϕa,ϕp,v0,ind,γ)\n",
    "f,u,c = solve_out_6(Lx,Nx,ϕa,ϕp,v0,ind,γ,u; tol = 1e-8, maxiters =10)\n",
    "# check densities\n",
    "    ϕp = sum(f)/Nx-sum(f[:,1:2])/Nx\n",
    "    ϕa = sum(f[:,1:2])/Nx\n",
    "#\n",
    "rhodiff = u[ind+1] - u[ind]\n",
    "err, erri, avmag, cep = check_u_6(u,ps);\n",
    "println(\"ϕa,ϕp=($(d4(ϕa)),$(d4(ϕp))): rhodiff=$(rhodiff), c =$(c), avmag=$(avmag), err=$(err),$(erri), ind=$(ind)\")"
   ]
  },
  {
   "cell_type": "code",
   "execution_count": 9,
   "metadata": {},
   "outputs": [
    {
     "data": {
      "text/plain": [
       "(0.48838812368458373, 0.21276827493984996)"
      ]
     },
     "metadata": {},
     "output_type": "display_data"
    }
   ],
   "source": [
    "ϕa,ϕp"
   ]
  },
  {
   "cell_type": "code",
   "execution_count": 26,
   "metadata": {},
   "outputs": [
    {
     "data": {
      "text/plain": [
       "([0.37435102535342407 0.161956936390576 0.13721436269815046; 0.35499423593071 0.15846483983113302 0.14396907103075685; … ; 0.4127687202286834 0.17057238871246738 0.12333356280994323; 0.3937138926018835 0.16597667900504198 0.13030942839307447], [0.6735223244421505; 0.6574281467925999; … ; -0.22773721359684151; 0.008293203944808805;;], 0.008293203944808805)"
      ]
     },
     "metadata": {},
     "output_type": "display_data"
    }
   ],
   "source": [
    "Lx,Nx,ϕa,ϕp,v0 = 100.0, 3200, 0.45, 0.24, 7.5 # approx atm\n",
    "# f,u,c = load_full(Lx,Nx,d2(ϕa),d2(ϕp),v0)\n",
    "# f,u,c = solve_full(Lx,Nx,ϕa,ϕp,v0,u; tol = 1e-8)\n",
    "f,u,c = load_full(Lx,Nx,ϕa,ϕp,v0)\n",
    "# axs[6].plot(f[:,1]+f[:,2],f[:,3]; color = \"black\", linestyle = \"--\")"
   ]
  },
  {
   "cell_type": "code",
   "execution_count": null,
   "metadata": {},
   "outputs": [],
   "source": []
  },
  {
   "cell_type": "code",
   "execution_count": 18,
   "metadata": {},
   "outputs": [
    {
     "name": "stdout",
     "output_type": "stream",
     "text": [
      "ϕa,ϕp=(0.4923593417152868,0.216): cep =0.016752468554802474, err=9.379310522694695e-11,594\n"
     ]
    }
   ],
   "source": [
    "Lx,Nx,ϕa,ϕp,v0 = 25.0, 800, 0.4923593417152868, 0.216, 7.5\n",
    "# Lx,Nx,ϕa,ϕp,v0 = 100.0, 3200, 0.48, 0.22, 7.5 # approx atm\n",
    "# Lx,Nx,ϕa,ϕp,v0 = 100.0, 3200, 0.42, 0.22, 7.5 # approx atm\n",
    "# f,u,c = load_full(Lx,Nx,d2(ϕa),d2(ϕp),v0)\n",
    "# f,u,c = solve_full(Lx,Nx,ϕa,ϕp,v0,u; tol = 1e-8)\n",
    "f,u,c = load_full(Lx,Nx,ϕa,ϕp,v0)\n",
    "param, ps = get_param_full(Lx,Nx,ϕa,ϕp,v0)\n",
    "err, erri, avmag, cep = check_u_full(u,ps);\n",
    "println(\"ϕa,ϕp=($(ϕa),$(ϕp)): cep =$(cep), err=$(err),$(erri)\")"
   ]
  },
  {
   "cell_type": "code",
   "execution_count": 17,
   "metadata": {},
   "outputs": [
    {
     "ename": "InterruptException",
     "evalue": "InterruptException:",
     "output_type": "error",
     "traceback": [
      "InterruptException:\n",
      "\n",
      "Stacktrace:\n",
      "  [1] ff(F::Matrix{Float64}, u::Matrix{Float64}, p::Tuple{Float64, Float64, Float64, Float64, Int64, Float64, Float64, Float64})\n",
      "    @ Main ~/Active_Lattice/src/pm_plot.jl:383\n",
      "  [2] NonlinearFunction\n",
      "    @ ~/.julia/packages/SciMLBase/GPp9w/src/scimlfunctions.jl:2185 [inlined]\n",
      "  [3] JacobianWrapper\n",
      "    @ ~/.julia/packages/SciMLBase/GPp9w/src/function_wrappers.jl:105 [inlined]\n",
      "  [4] num_vecjac!(du::Vector{Float64}, f::SciMLBase.JacobianWrapper{true, NonlinearFunction{true, SciMLBase.FullSpecialize, typeof(ff), UniformScaling{Bool}, Nothing, Nothing, Nothing, Nothing, Nothing, Nothing, Nothing, Nothing, Nothing, Nothing, typeof(SciMLBase.DEFAULT_OBSERVED_NO_TIME), Nothing, Nothing, Nothing}, Tuple{Float64, Float64, Float64, Float64, Int64, Float64, Float64, Float64}}, x::Matrix{Float64}, v::Vector{Float64}, cache1::Matrix{Float64}, cache2::Matrix{Float64}, cache3::Matrix{Float64}; compute_f0::Bool)\n",
      "    @ SparseDiffTools ~/.julia/packages/SparseDiffTools/zWIg7/src/differentiation/vecjac_products.jl:11\n",
      "  [5] num_vecjac! (repeats 2 times)\n",
      "    @ ~/.julia/packages/SparseDiffTools/zWIg7/src/differentiation/vecjac_products.jl:1 [inlined]\n",
      "  [6] #91\n",
      "    @ ~/.julia/packages/NonlinearSolve/R8LAH/src/internal/operators.jl:80 [inlined]\n",
      "  [7] JacobianOperator\n",
      "    @ ~/.julia/packages/NonlinearSolve/R8LAH/src/internal/operators.jl:188 [inlined]\n",
      "  [8] mul!\n",
      "    @ ~/.julia/packages/NonlinearSolve/R8LAH/src/internal/operators.jl:232 [inlined]\n",
      "  [9] __mul!\n",
      "    @ ~/.julia/packages/MaybeInplace/0rIhW/src/MaybeInplace.jl:304 [inlined]\n",
      " [10] macro expansion\n",
      "    @ ~/.julia/packages/MaybeInplace/0rIhW/src/MaybeInplace.jl:171 [inlined]\n",
      " [11] __internal_solve!(cache::NonlinearSolve.GenericTrustRegionSchemeCache{NonlinearSolve.RadiusUpdateSchemes.__Bastin, NonlinearFunction{true, SciMLBase.FullSpecialize, typeof(ff), UniformScaling{Bool}, Nothing, Nothing, Nothing, Nothing, Nothing, Nothing, Nothing, Nothing, Nothing, Nothing, typeof(SciMLBase.DEFAULT_OBSERVED_NO_TIME), Nothing, Nothing, Nothing}, Tuple{Float64, Float64, Float64, Float64, Int64, Float64, Float64, Float64}, Float64, Float64, Float64, Float64, Float64, Float64, Float64, Float64, Float64, Float64, Float64, Float64, Float64, Float64, NonlinearSolve.JacobianOperator{true, true, Float64, Nothing, NonlinearSolve.var\"#91#102\"{SciMLBase.JacobianWrapper{true, NonlinearFunction{true, SciMLBase.FullSpecialize, typeof(ff), UniformScaling{Bool}, Nothing, Nothing, Nothing, Nothing, Nothing, Nothing, Nothing, Nothing, Nothing, Nothing, typeof(SciMLBase.DEFAULT_OBSERVED_NO_TIME), Nothing, Nothing, Nothing}, Tuple{Float64, Float64, Float64, Float64, Int64, Float64, Float64, Float64}}, Matrix{Float64}, Matrix{Float64}}, Matrix{Float64}, Matrix{Float64}}, NonlinearSolve.JacobianOperator{false, true, Float64, NonlinearSolve.var\"#95#106\"{SciMLBase.JacobianWrapper{true, NonlinearFunction{true, SciMLBase.FullSpecialize, typeof(ff), UniformScaling{Bool}, Nothing, Nothing, Nothing, Nothing, Nothing, Nothing, Nothing, Nothing, Nothing, Nothing, typeof(SciMLBase.DEFAULT_OBSERVED_NO_TIME), Nothing, Nothing, Nothing}, Tuple{Float64, Float64, Float64, Float64, Int64, Float64, Float64, Float64}}, Matrix{ForwardDiff.Dual{ForwardDiff.Tag{NonlinearSolve.NonlinearSolveTag, Float64}, Float64, 1}}, Matrix{ForwardDiff.Dual{ForwardDiff.Tag{NonlinearSolve.NonlinearSolveTag, Float64}, Float64, 1}}}, Nothing, Matrix{Float64}, Matrix{Float64}}, Matrix{Float64}, Matrix{Float64}, Matrix{Float64}, typeof(NonlinearSolve.DEFAULT_NORM), Matrix{Float64}, Matrix{Float64}, NonlinearSolve.GenericTrustRegionScheme{NonlinearSolve.RadiusUpdateSchemes.__Bastin, Rational{Int64}, Rational{Int64}, Rational{Int64}, Rational{Int64}, Rational{Int64}, Nothing, Nothing, Nothing, Nothing}}, J::Matrix{Float64}, fu::Matrix{Float64}, u::Matrix{Float64}, δu::Matrix{Float64}, descent_stats::@NamedTuple{δuJᵀJδu::Float64})\n",
      "    @ NonlinearSolve ~/.julia/packages/NonlinearSolve/R8LAH/src/globalization/trust_region.jl:524\n",
      " [12] __step!(cache::NonlinearSolve.GeneralizedFirstOrderAlgorithmCache{true, :TrustRegion, false, Matrix{Float64}, Matrix{Float64}, Matrix{Float64}, Tuple{Float64, Float64, Float64, Float64, Int64, Float64, Float64, Float64}, Matrix{Float64}, Matrix{Float64}, GeneralizedFirstOrderAlgorithm{nothing, :TrustRegion, Missing, NonlinearSolve.GenericTrustRegionScheme{NonlinearSolve.RadiusUpdateSchemes.__Bastin, Rational{Int64}, Rational{Int64}, Rational{Int64}, Rational{Int64}, Rational{Int64}, Nothing, Nothing, Nothing, Nothing}, Dogleg{NewtonDescent{Nothing, typeof(NonlinearSolve.DEFAULT_PRECS)}, SteepestDescent{Nothing, typeof(NonlinearSolve.DEFAULT_PRECS)}}, Nothing, Nothing, Nothing}, NonlinearProblem{Matrix{Float64}, true, Tuple{Float64, Float64, Float64, Float64, Int64, Float64, Float64, Float64}, NonlinearFunction{true, SciMLBase.FullSpecialize, typeof(ff), UniformScaling{Bool}, Nothing, Nothing, Nothing, Nothing, Nothing, Nothing, Nothing, Nothing, Nothing, Nothing, typeof(SciMLBase.DEFAULT_OBSERVED_NO_TIME), Nothing, Nothing, Nothing}, @Kwargs{abstol::Float64, reltol::Float64, maxiters::Int64}, SciMLBase.StandardNonlinearProblem}, NonlinearSolve.JacobianCache{true, Matrix{Float64}, NonlinearFunction{true, SciMLBase.FullSpecialize, typeof(ff), UniformScaling{Bool}, Nothing, Nothing, Nothing, Nothing, Nothing, Nothing, Nothing, Nothing, Nothing, Nothing, typeof(SciMLBase.DEFAULT_OBSERVED_NO_TIME), Nothing, Nothing, Nothing}, SciMLBase.JacobianWrapper{true, NonlinearFunction{true, SciMLBase.FullSpecialize, typeof(ff), UniformScaling{Bool}, Nothing, Nothing, Nothing, Nothing, Nothing, Nothing, Nothing, Nothing, Nothing, Nothing, typeof(SciMLBase.DEFAULT_OBSERVED_NO_TIME), Nothing, Nothing, Nothing}, Tuple{Float64, Float64, Float64, Float64, Int64, Float64, Float64, Float64}}, Matrix{Float64}, Matrix{Float64}, Tuple{Float64, Float64, Float64, Float64, Int64, Float64, Float64, Float64}, SparseDiffTools.ForwardDiffJacobianCache{SparseDiffTools.NoMatrixColoring, ForwardDiff.JacobianConfig{ForwardDiff.Tag{NonlinearSolve.NonlinearSolveTag, Float64}, Float64, 12, Tuple{Matrix{ForwardDiff.Dual{ForwardDiff.Tag{NonlinearSolve.NonlinearSolveTag, Float64}, Float64, 12}}, Matrix{ForwardDiff.Dual{ForwardDiff.Tag{NonlinearSolve.NonlinearSolveTag, Float64}, Float64, 12}}}}, Nothing, Matrix{Float64}, Matrix{Float64}}, GeneralizedFirstOrderAlgorithm{nothing, :TrustRegion, Missing, NonlinearSolve.GenericTrustRegionScheme{NonlinearSolve.RadiusUpdateSchemes.__Bastin, Rational{Int64}, Rational{Int64}, Rational{Int64}, Rational{Int64}, Rational{Int64}, Nothing, Nothing, Nothing, Nothing}, Dogleg{NewtonDescent{Nothing, typeof(NonlinearSolve.DEFAULT_PRECS)}, SteepestDescent{Nothing, typeof(NonlinearSolve.DEFAULT_PRECS)}}, Nothing, Nothing, Nothing}, AutoForwardDiff{nothing, ForwardDiff.Tag{NonlinearSolve.NonlinearSolveTag, Float64}}, AutoFiniteDiff{Val{:forward}, Val{:forward}, Val{:hcentral}}, AutoForwardDiff{nothing, ForwardDiff.Tag{NonlinearSolve.NonlinearSolveTag, Float64}}}, NonlinearSolve.DoglegCache{false, false, Matrix{Float64}, Nothing, NonlinearSolve.NewtonDescentCache{false, false, Matrix{Float64}, Nothing, NonlinearSolve.LinearSolverCache{LinearSolve.LinearCache{Matrix{Float64}, Vector{Float64}, Vector{Float64}, SciMLBase.NullParameters, LinearSolve.DefaultLinearSolver, LinearSolve.DefaultLinearSolverInit{LU{Float64, Matrix{Float64}, Vector{Int64}}, LinearAlgebra.QRCompactWY{Float64, Matrix{Float64}, Matrix{Float64}}, Nothing, Nothing, Nothing, Nothing, Nothing, Nothing, LU{Float64, Matrix{Float64}, Vector{Int64}}, Tuple{LU{Float64, Matrix{Float64}, Vector{Int64}}, Vector{Int64}}, Nothing, Nothing, Nothing, SVD{Float64, Float64, Matrix{Float64}, Vector{Float64}}, Cholesky{Float64, Matrix{Float64}}, Cholesky{Float64, Matrix{Float64}}, Tuple{LU{Float64, Matrix{Float64}, Vector{Int32}}, Base.RefValue{Int32}}, Tuple{LU{Float64, Matrix{Float64}, Vector{Int64}}, Base.RefValue{Int64}}, QRPivoted{Float64, Matrix{Float64}, Vector{Float64}, Vector{Int64}}, Nothing, Nothing}, LinearSolve.InvPreconditioner{Diagonal{Float64, Vector{Float64}}}, Diagonal{Float64, Vector{Float64}}, Float64, Bool, LinearSolveAdjoint{Missing}}, Nothing, Nothing, Nothing, typeof(NonlinearSolve.DEFAULT_PRECS)}, Nothing, Nothing, Nothing}, NonlinearSolve.SteepestDescentCache{false, Matrix{Float64}, Nothing, Nothing, Nothing}, typeof(NonlinearSolve.DEFAULT_NORM), Vector{Float64}, Matrix{Float64}, Matrix{Float64}, Matrix{Float64}}, Nothing, NonlinearSolve.GenericTrustRegionSchemeCache{NonlinearSolve.RadiusUpdateSchemes.__Bastin, NonlinearFunction{true, SciMLBase.FullSpecialize, typeof(ff), UniformScaling{Bool}, Nothing, Nothing, Nothing, Nothing, Nothing, Nothing, Nothing, Nothing, Nothing, Nothing, typeof(SciMLBase.DEFAULT_OBSERVED_NO_TIME), Nothing, Nothing, Nothing}, Tuple{Float64, Float64, Float64, Float64, Int64, Float64, Float64, Float64}, Float64, Float64, Float64, Float64, Float64, Float64, Float64, Float64, Float64, Float64, Float64, Float64, Float64, Float64, NonlinearSolve.JacobianOperator{true, true, Float64, Nothing, NonlinearSolve.var\"#91#102\"{SciMLBase.JacobianWrapper{true, NonlinearFunction{true, SciMLBase.FullSpecialize, typeof(ff), UniformScaling{Bool}, Nothing, Nothing, Nothing, Nothing, Nothing, Nothing, Nothing, Nothing, Nothing, Nothing, typeof(SciMLBase.DEFAULT_OBSERVED_NO_TIME), Nothing, Nothing, Nothing}, Tuple{Float64, Float64, Float64, Float64, Int64, Float64, Float64, Float64}}, Matrix{Float64}, Matrix{Float64}}, Matrix{Float64}, Matrix{Float64}}, NonlinearSolve.JacobianOperator{false, true, Float64, NonlinearSolve.var\"#95#106\"{SciMLBase.JacobianWrapper{true, NonlinearFunction{true, SciMLBase.FullSpecialize, typeof(ff), UniformScaling{Bool}, Nothing, Nothing, Nothing, Nothing, Nothing, Nothing, Nothing, Nothing, Nothing, Nothing, typeof(SciMLBase.DEFAULT_OBSERVED_NO_TIME), Nothing, Nothing, Nothing}, Tuple{Float64, Float64, Float64, Float64, Int64, Float64, Float64, Float64}}, Matrix{ForwardDiff.Dual{ForwardDiff.Tag{NonlinearSolve.NonlinearSolveTag, Float64}, Float64, 1}}, Matrix{ForwardDiff.Dual{ForwardDiff.Tag{NonlinearSolve.NonlinearSolveTag, Float64}, Float64, 1}}}, Nothing, Matrix{Float64}, Matrix{Float64}}, Matrix{Float64}, Matrix{Float64}, Matrix{Float64}, typeof(NonlinearSolve.DEFAULT_NORM), Matrix{Float64}, Matrix{Float64}, NonlinearSolve.GenericTrustRegionScheme{NonlinearSolve.RadiusUpdateSchemes.__Bastin, Rational{Int64}, Rational{Int64}, Rational{Int64}, Rational{Int64}, Rational{Int64}, Nothing, Nothing, Nothing, Nothing}}, Nothing, Nothing, DiffEqBase.NonlinearTerminationModeCache{false, AbsSafeBestTerminationMode{:Inf, Int64, Base.Fix1{typeof(maximum), typeof(abs)}, Nothing, Int64, Float64}, SciMLBase.ReturnCode.T, Matrix{Float64}, Float64, Float64, Float64, Float64, Vector{Float64}, Nothing, Nothing, Vector{Float64}, Int64, Matrix{Float64}}, NonlinearSolve.NonlinearSolveTrace{false, false, TraceMinimal, Nothing, NonlinearProblem{Matrix{Float64}, true, Tuple{Float64, Float64, Float64, Float64, Int64, Float64, Float64, Float64}, NonlinearFunction{true, SciMLBase.FullSpecialize, typeof(ff), UniformScaling{Bool}, Nothing, Nothing, Nothing, Nothing, Nothing, Nothing, Nothing, Nothing, Nothing, Nothing, typeof(SciMLBase.DEFAULT_OBSERVED_NO_TIME), Nothing, Nothing, Nothing}, @Kwargs{abstol::Float64, reltol::Float64, maxiters::Int64}, SciMLBase.StandardNonlinearProblem}}}; recompute_jacobian::Nothing, kwargs::@Kwargs{})\n",
      "    @ NonlinearSolve ~/.julia/packages/NonlinearSolve/R8LAH/src/core/generalized_first_order.jl:245\n",
      " [13] __step!\n",
      "    @ ~/.julia/packages/NonlinearSolve/R8LAH/src/core/generalized_first_order.jl:204 [inlined]\n",
      " [14] #step!#210\n",
      "    @ ~/.julia/packages/NonlinearSolve/R8LAH/src/core/generic.jl:55 [inlined]\n",
      " [15] step!\n",
      "    @ ~/.julia/packages/NonlinearSolve/R8LAH/src/core/generic.jl:50 [inlined]\n",
      " [16] solve!(cache::NonlinearSolve.GeneralizedFirstOrderAlgorithmCache{true, :TrustRegion, false, Matrix{Float64}, Matrix{Float64}, Matrix{Float64}, Tuple{Float64, Float64, Float64, Float64, Int64, Float64, Float64, Float64}, Matrix{Float64}, Matrix{Float64}, GeneralizedFirstOrderAlgorithm{nothing, :TrustRegion, Missing, NonlinearSolve.GenericTrustRegionScheme{NonlinearSolve.RadiusUpdateSchemes.__Bastin, Rational{Int64}, Rational{Int64}, Rational{Int64}, Rational{Int64}, Rational{Int64}, Nothing, Nothing, Nothing, Nothing}, Dogleg{NewtonDescent{Nothing, typeof(NonlinearSolve.DEFAULT_PRECS)}, SteepestDescent{Nothing, typeof(NonlinearSolve.DEFAULT_PRECS)}}, Nothing, Nothing, Nothing}, NonlinearProblem{Matrix{Float64}, true, Tuple{Float64, Float64, Float64, Float64, Int64, Float64, Float64, Float64}, NonlinearFunction{true, SciMLBase.FullSpecialize, typeof(ff), UniformScaling{Bool}, Nothing, Nothing, Nothing, Nothing, Nothing, Nothing, Nothing, Nothing, Nothing, Nothing, typeof(SciMLBase.DEFAULT_OBSERVED_NO_TIME), Nothing, Nothing, Nothing}, @Kwargs{abstol::Float64, reltol::Float64, maxiters::Int64}, SciMLBase.StandardNonlinearProblem}, NonlinearSolve.JacobianCache{true, Matrix{Float64}, NonlinearFunction{true, SciMLBase.FullSpecialize, typeof(ff), UniformScaling{Bool}, Nothing, Nothing, Nothing, Nothing, Nothing, Nothing, Nothing, Nothing, Nothing, Nothing, typeof(SciMLBase.DEFAULT_OBSERVED_NO_TIME), Nothing, Nothing, Nothing}, SciMLBase.JacobianWrapper{true, NonlinearFunction{true, SciMLBase.FullSpecialize, typeof(ff), UniformScaling{Bool}, Nothing, Nothing, Nothing, Nothing, Nothing, Nothing, Nothing, Nothing, Nothing, Nothing, typeof(SciMLBase.DEFAULT_OBSERVED_NO_TIME), Nothing, Nothing, Nothing}, Tuple{Float64, Float64, Float64, Float64, Int64, Float64, Float64, Float64}}, Matrix{Float64}, Matrix{Float64}, Tuple{Float64, Float64, Float64, Float64, Int64, Float64, Float64, Float64}, SparseDiffTools.ForwardDiffJacobianCache{SparseDiffTools.NoMatrixColoring, ForwardDiff.JacobianConfig{ForwardDiff.Tag{NonlinearSolve.NonlinearSolveTag, Float64}, Float64, 12, Tuple{Matrix{ForwardDiff.Dual{ForwardDiff.Tag{NonlinearSolve.NonlinearSolveTag, Float64}, Float64, 12}}, Matrix{ForwardDiff.Dual{ForwardDiff.Tag{NonlinearSolve.NonlinearSolveTag, Float64}, Float64, 12}}}}, Nothing, Matrix{Float64}, Matrix{Float64}}, GeneralizedFirstOrderAlgorithm{nothing, :TrustRegion, Missing, NonlinearSolve.GenericTrustRegionScheme{NonlinearSolve.RadiusUpdateSchemes.__Bastin, Rational{Int64}, Rational{Int64}, Rational{Int64}, Rational{Int64}, Rational{Int64}, Nothing, Nothing, Nothing, Nothing}, Dogleg{NewtonDescent{Nothing, typeof(NonlinearSolve.DEFAULT_PRECS)}, SteepestDescent{Nothing, typeof(NonlinearSolve.DEFAULT_PRECS)}}, Nothing, Nothing, Nothing}, AutoForwardDiff{nothing, ForwardDiff.Tag{NonlinearSolve.NonlinearSolveTag, Float64}}, AutoFiniteDiff{Val{:forward}, Val{:forward}, Val{:hcentral}}, AutoForwardDiff{nothing, ForwardDiff.Tag{NonlinearSolve.NonlinearSolveTag, Float64}}}, NonlinearSolve.DoglegCache{false, false, Matrix{Float64}, Nothing, NonlinearSolve.NewtonDescentCache{false, false, Matrix{Float64}, Nothing, NonlinearSolve.LinearSolverCache{LinearSolve.LinearCache{Matrix{Float64}, Vector{Float64}, Vector{Float64}, SciMLBase.NullParameters, LinearSolve.DefaultLinearSolver, LinearSolve.DefaultLinearSolverInit{LU{Float64, Matrix{Float64}, Vector{Int64}}, LinearAlgebra.QRCompactWY{Float64, Matrix{Float64}, Matrix{Float64}}, Nothing, Nothing, Nothing, Nothing, Nothing, Nothing, LU{Float64, Matrix{Float64}, Vector{Int64}}, Tuple{LU{Float64, Matrix{Float64}, Vector{Int64}}, Vector{Int64}}, Nothing, Nothing, Nothing, SVD{Float64, Float64, Matrix{Float64}, Vector{Float64}}, Cholesky{Float64, Matrix{Float64}}, Cholesky{Float64, Matrix{Float64}}, Tuple{LU{Float64, Matrix{Float64}, Vector{Int32}}, Base.RefValue{Int32}}, Tuple{LU{Float64, Matrix{Float64}, Vector{Int64}}, Base.RefValue{Int64}}, QRPivoted{Float64, Matrix{Float64}, Vector{Float64}, Vector{Int64}}, Nothing, Nothing}, LinearSolve.InvPreconditioner{Diagonal{Float64, Vector{Float64}}}, Diagonal{Float64, Vector{Float64}}, Float64, Bool, LinearSolveAdjoint{Missing}}, Nothing, Nothing, Nothing, typeof(NonlinearSolve.DEFAULT_PRECS)}, Nothing, Nothing, Nothing}, NonlinearSolve.SteepestDescentCache{false, Matrix{Float64}, Nothing, Nothing, Nothing}, typeof(NonlinearSolve.DEFAULT_NORM), Vector{Float64}, Matrix{Float64}, Matrix{Float64}, Matrix{Float64}}, Nothing, NonlinearSolve.GenericTrustRegionSchemeCache{NonlinearSolve.RadiusUpdateSchemes.__Bastin, NonlinearFunction{true, SciMLBase.FullSpecialize, typeof(ff), UniformScaling{Bool}, Nothing, Nothing, Nothing, Nothing, Nothing, Nothing, Nothing, Nothing, Nothing, Nothing, typeof(SciMLBase.DEFAULT_OBSERVED_NO_TIME), Nothing, Nothing, Nothing}, Tuple{Float64, Float64, Float64, Float64, Int64, Float64, Float64, Float64}, Float64, Float64, Float64, Float64, Float64, Float64, Float64, Float64, Float64, Float64, Float64, Float64, Float64, Float64, NonlinearSolve.JacobianOperator{true, true, Float64, Nothing, NonlinearSolve.var\"#91#102\"{SciMLBase.JacobianWrapper{true, NonlinearFunction{true, SciMLBase.FullSpecialize, typeof(ff), UniformScaling{Bool}, Nothing, Nothing, Nothing, Nothing, Nothing, Nothing, Nothing, Nothing, Nothing, Nothing, typeof(SciMLBase.DEFAULT_OBSERVED_NO_TIME), Nothing, Nothing, Nothing}, Tuple{Float64, Float64, Float64, Float64, Int64, Float64, Float64, Float64}}, Matrix{Float64}, Matrix{Float64}}, Matrix{Float64}, Matrix{Float64}}, NonlinearSolve.JacobianOperator{false, true, Float64, NonlinearSolve.var\"#95#106\"{SciMLBase.JacobianWrapper{true, NonlinearFunction{true, SciMLBase.FullSpecialize, typeof(ff), UniformScaling{Bool}, Nothing, Nothing, Nothing, Nothing, Nothing, Nothing, Nothing, Nothing, Nothing, Nothing, typeof(SciMLBase.DEFAULT_OBSERVED_NO_TIME), Nothing, Nothing, Nothing}, Tuple{Float64, Float64, Float64, Float64, Int64, Float64, Float64, Float64}}, Matrix{ForwardDiff.Dual{ForwardDiff.Tag{NonlinearSolve.NonlinearSolveTag, Float64}, Float64, 1}}, Matrix{ForwardDiff.Dual{ForwardDiff.Tag{NonlinearSolve.NonlinearSolveTag, Float64}, Float64, 1}}}, Nothing, Matrix{Float64}, Matrix{Float64}}, Matrix{Float64}, Matrix{Float64}, Matrix{Float64}, typeof(NonlinearSolve.DEFAULT_NORM), Matrix{Float64}, Matrix{Float64}, NonlinearSolve.GenericTrustRegionScheme{NonlinearSolve.RadiusUpdateSchemes.__Bastin, Rational{Int64}, Rational{Int64}, Rational{Int64}, Rational{Int64}, Rational{Int64}, Nothing, Nothing, Nothing, Nothing}}, Nothing, Nothing, DiffEqBase.NonlinearTerminationModeCache{false, AbsSafeBestTerminationMode{:Inf, Int64, Base.Fix1{typeof(maximum), typeof(abs)}, Nothing, Int64, Float64}, SciMLBase.ReturnCode.T, Matrix{Float64}, Float64, Float64, Float64, Float64, Vector{Float64}, Nothing, Nothing, Vector{Float64}, Int64, Matrix{Float64}}, NonlinearSolve.NonlinearSolveTrace{false, false, TraceMinimal, Nothing, NonlinearProblem{Matrix{Float64}, true, Tuple{Float64, Float64, Float64, Float64, Int64, Float64, Float64, Float64}, NonlinearFunction{true, SciMLBase.FullSpecialize, typeof(ff), UniformScaling{Bool}, Nothing, Nothing, Nothing, Nothing, Nothing, Nothing, Nothing, Nothing, Nothing, Nothing, typeof(SciMLBase.DEFAULT_OBSERVED_NO_TIME), Nothing, Nothing, Nothing}, @Kwargs{abstol::Float64, reltol::Float64, maxiters::Int64}, SciMLBase.StandardNonlinearProblem}}})\n",
      "    @ NonlinearSolve ~/.julia/packages/NonlinearSolve/R8LAH/src/core/generic.jl:13\n",
      " [17] __solve(::NonlinearProblem{Matrix{Float64}, true, Tuple{Float64, Float64, Float64, Float64, Int64, Float64, Float64, Float64}, NonlinearFunction{true, SciMLBase.FullSpecialize, typeof(ff), UniformScaling{Bool}, Nothing, Nothing, Nothing, Nothing, Nothing, Nothing, Nothing, Nothing, Nothing, Nothing, typeof(SciMLBase.DEFAULT_OBSERVED_NO_TIME), Nothing, Nothing, Nothing}, @Kwargs{abstol::Float64, reltol::Float64, maxiters::Int64}, SciMLBase.StandardNonlinearProblem}, ::GeneralizedFirstOrderAlgorithm{nothing, :TrustRegion, Missing, NonlinearSolve.GenericTrustRegionScheme{NonlinearSolve.RadiusUpdateSchemes.__Bastin, Rational{Int64}, Rational{Int64}, Rational{Int64}, Rational{Int64}, Rational{Int64}, Nothing, Nothing, Nothing, Nothing}, Dogleg{NewtonDescent{Nothing, typeof(NonlinearSolve.DEFAULT_PRECS)}, SteepestDescent{Nothing, typeof(NonlinearSolve.DEFAULT_PRECS)}}, Nothing, Nothing, Nothing}; kwargs::@Kwargs{alias_u0::Bool, verbose::Bool, default_set::Bool, second_time::Bool, abstol::Float64, reltol::Float64, maxiters::Int64})\n",
      "    @ NonlinearSolve ~/.julia/packages/NonlinearSolve/R8LAH/src/core/generic.jl:4\n",
      " [18] __solve\n",
      "    @ ~/.julia/packages/NonlinearSolve/R8LAH/src/core/generic.jl:1 [inlined]\n",
      " [19] macro expansion\n",
      "    @ ~/.julia/packages/NonlinearSolve/R8LAH/src/default.jl:278 [inlined]\n",
      " [20] __solve(::NonlinearProblem{Matrix{Float64}, true, Tuple{Float64, Float64, Float64, Float64, Int64, Float64, Float64, Float64}, NonlinearFunction{true, SciMLBase.FullSpecialize, typeof(ff), UniformScaling{Bool}, Nothing, Nothing, Nothing, Nothing, Nothing, Nothing, Nothing, Nothing, Nothing, Nothing, typeof(SciMLBase.DEFAULT_OBSERVED_NO_TIME), Nothing, Nothing, Nothing}, @Kwargs{abstol::Float64, reltol::Float64, maxiters::Int64}, SciMLBase.StandardNonlinearProblem}, ::NonlinearSolvePolyAlgorithm{:NLS, 7, Tuple{ApproximateJacobianSolveAlgorithm{false, :Broyden, NoLineSearch, Missing, NewtonDescent{Nothing, typeof(NonlinearSolve.DEFAULT_PRECS)}, NonlinearSolve.GoodBroydenUpdateRule, NonlinearSolve.NoChangeInStateReset{Nothing}, NonlinearSolve.IdentityInitialization{Nothing, NonlinearSolve.FullStructure}}, ApproximateJacobianSolveAlgorithm{true, :Broyden, NoLineSearch, Missing, NewtonDescent{Nothing, typeof(NonlinearSolve.DEFAULT_PRECS)}, NonlinearSolve.GoodBroydenUpdateRule, NonlinearSolve.NoChangeInStateReset{Nothing}, NonlinearSolve.TrueJacobianInitialization{NonlinearSolve.FullStructure, Nothing}}, ApproximateJacobianSolveAlgorithm{false, :Klement, NoLineSearch, Missing, NewtonDescent{Nothing, typeof(NonlinearSolve.DEFAULT_PRECS)}, NonlinearSolve.KlementUpdateRule, NonlinearSolve.IllConditionedJacobianReset, NonlinearSolve.IdentityInitialization{Nothing, NonlinearSolve.DiagonalStructure}}, GeneralizedFirstOrderAlgorithm{nothing, :NewtonRaphson, NoLineSearch, Missing, NewtonDescent{Nothing, typeof(NonlinearSolve.DEFAULT_PRECS)}, Nothing, Nothing, Nothing}, GeneralizedFirstOrderAlgorithm{nothing, :NewtonRaphson, LineSearchesJL{LineSearches.BackTracking{Float64, Int64}, Bool, Nothing}, Missing, NewtonDescent{Nothing, typeof(NonlinearSolve.DEFAULT_PRECS)}, Nothing, Nothing, Nothing}, GeneralizedFirstOrderAlgorithm{nothing, :TrustRegion, Missing, NonlinearSolve.GenericTrustRegionScheme{NonlinearSolve.RadiusUpdateSchemes.__Simple, Rational{Int64}, Rational{Int64}, Rational{Int64}, Rational{Int64}, Rational{Int64}, Nothing, Nothing, Nothing, Nothing}, Dogleg{NewtonDescent{Nothing, typeof(NonlinearSolve.DEFAULT_PRECS)}, SteepestDescent{Nothing, typeof(NonlinearSolve.DEFAULT_PRECS)}}, Nothing, Nothing, Nothing}, GeneralizedFirstOrderAlgorithm{nothing, :TrustRegion, Missing, NonlinearSolve.GenericTrustRegionScheme{NonlinearSolve.RadiusUpdateSchemes.__Bastin, Rational{Int64}, Rational{Int64}, Rational{Int64}, Rational{Int64}, Rational{Int64}, Nothing, Nothing, Nothing, Nothing}, Dogleg{NewtonDescent{Nothing, typeof(NonlinearSolve.DEFAULT_PRECS)}, SteepestDescent{Nothing, typeof(NonlinearSolve.DEFAULT_PRECS)}}, Nothing, Nothing, Nothing}}}; alias_u0::Bool, verbose::Bool, kwargs::@Kwargs{default_set::Bool, second_time::Bool, abstol::Float64, reltol::Float64, maxiters::Int64})\n",
      "    @ NonlinearSolve ~/.julia/packages/NonlinearSolve/R8LAH/src/default.jl:248\n",
      " [21] __solve\n",
      "    @ ~/.julia/packages/NonlinearSolve/R8LAH/src/default.jl:248 [inlined]\n",
      " [22] #__solve#329\n",
      "    @ ~/.julia/packages/NonlinearSolve/R8LAH/src/default.jl:511 [inlined]\n",
      " [23] __solve\n",
      "    @ ~/.julia/packages/NonlinearSolve/R8LAH/src/default.jl:508 [inlined]\n",
      " [24] #__solve#72\n",
      "    @ ~/.julia/packages/DiffEqBase/O8cUq/src/solve.jl:1394 [inlined]\n",
      " [25] __solve\n",
      "    @ ~/.julia/packages/DiffEqBase/O8cUq/src/solve.jl:1386 [inlined]\n",
      " [26] solve_call(::NonlinearProblem{Matrix{Float64}, true, Tuple{Float64, Float64, Float64, Float64, Int64, Float64, Float64, Float64}, NonlinearFunction{true, SciMLBase.FullSpecialize, typeof(ff), UniformScaling{Bool}, Nothing, Nothing, Nothing, Nothing, Nothing, Nothing, Nothing, Nothing, Nothing, Nothing, typeof(SciMLBase.DEFAULT_OBSERVED_NO_TIME), Nothing, Nothing, Nothing}, @Kwargs{abstol::Float64, reltol::Float64, maxiters::Int64}, SciMLBase.StandardNonlinearProblem}; merge_callbacks::Bool, kwargshandle::Nothing, kwargs::@Kwargs{})\n",
      "    @ DiffEqBase ~/.julia/packages/DiffEqBase/O8cUq/src/solve.jl:612\n",
      " [27] solve_call\n",
      "    @ ~/.julia/packages/DiffEqBase/O8cUq/src/solve.jl:569 [inlined]\n",
      " [28] #solve_up#53\n",
      "    @ ~/.julia/packages/DiffEqBase/O8cUq/src/solve.jl:1072 [inlined]\n",
      " [29] solve_up\n",
      "    @ ~/.julia/packages/DiffEqBase/O8cUq/src/solve.jl:1066 [inlined]\n",
      " [30] #solve#52\n",
      "    @ ~/.julia/packages/DiffEqBase/O8cUq/src/solve.jl:1060 [inlined]\n",
      " [31] solve(::NonlinearProblem{Matrix{Float64}, true, Tuple{Float64, Float64, Float64, Float64, Int64, Float64, Float64, Float64}, NonlinearFunction{true, SciMLBase.FullSpecialize, typeof(ff), UniformScaling{Bool}, Nothing, Nothing, Nothing, Nothing, Nothing, Nothing, Nothing, Nothing, Nothing, Nothing, typeof(SciMLBase.DEFAULT_OBSERVED_NO_TIME), Nothing, Nothing, Nothing}, @Kwargs{abstol::Float64, reltol::Float64, maxiters::Int64}, SciMLBase.StandardNonlinearProblem})\n",
      "    @ DiffEqBase ~/.julia/packages/DiffEqBase/O8cUq/src/solve.jl:1050\n",
      " [32] solve_full(Lx::Float64, Nx::Int64, ϕa::Float64, ϕp::Float64, v0::Float64, u0::Matrix{Float64}; tol::Float64, maxiters::Int64)\n",
      "    @ Main ~/Active_Lattice/src/pm_plot.jl:1338\n",
      " [33] top-level scope\n",
      "    @ ~/Active_Lattice/pm_scripts/pm_figs/outer_ode_6.ipynb:2"
     ]
    }
   ],
   "source": [
    "Lx,Nx,ϕa,ϕp,v0 = 25.0, 800, 0.4923593417152868, 0.2155, 7.5\n",
    "f,u,c = solve_full(Lx,Nx,ϕa,ϕp,v0,u; tol = 1e-8, maxiters = 10)\n",
    "# f,u,c = load_full(Lx,Nx,ϕa,ϕp,v0)\n",
    "param, ps = get_param_full(Lx,Nx,ϕa,ϕp,v0)\n",
    "err, erri, avmag, cep = check_u_full(u,ps);\n",
    "println(\"ϕa,ϕp=($(ϕa),$(ϕp)): cep =$(cep), err=$(err),$(erri)\")"
   ]
  },
  {
   "cell_type": "code",
   "execution_count": 66,
   "metadata": {},
   "outputs": [
    {
     "name": "stdout",
     "output_type": "stream",
     "text": [
      "ϕa,ϕp=(0.4923593417152868,0.216): cep =0.0034850134654074876, err=0.014257005464046263,4\n"
     ]
    }
   ],
   "source": [
    "f,u,c = solve_full(Lx,Nx,ϕa,ϕp,v0,u; tol = 1e-8, maxiters = 20)\n",
    "param, ps = get_param_full(Lx,Nx,ϕa,ϕp,v0)\n",
    "err, erri, avmag, cep = check_u_full(u,ps);\n",
    "println(\"ϕa,ϕp=($(ϕa),$(ϕp)): cep =$(cep), err=$(err),$(erri)\")"
   ]
  },
  {
   "cell_type": "code",
   "execution_count": 12,
   "metadata": {},
   "outputs": [
    {
     "name": "stdout",
     "output_type": "stream",
     "text": [
      "ϕa,ϕp=(0.4923593417152868,0.216): cep =0.019847568714858155, err=2.5381363677468016e-12,4402\n",
      "ϕa,ϕp=(0.4923593417152868,0.216): cep =0.019847568714858155, err=0.0037208824349581893,2185\n"
     ]
    },
    {
     "data": {
      "text/plain": [
       "retcode: Success\n",
       "u: 2401×1 Matrix{Float64}:\n",
       "  0.6943399571926184\n",
       "  0.6806697557567313\n",
       "  0.6674791904221213\n",
       "  0.654880483885038\n",
       "  0.642964406768269\n",
       "  0.6317986703370968\n",
       "  0.6214278611866996\n",
       "  0.6118746918835398\n",
       "  0.6031422470576561\n",
       "  0.5952168710629437\n",
       "  ⋮\n",
       " -0.2637018345757718\n",
       " -0.2608777554814926\n",
       " -0.2559753118525872\n",
       " -0.24910004621606105\n",
       " -0.24041667695050772\n",
       " -0.23014143354293481\n",
       " -0.2185311892656337\n",
       " -0.20587025976636278\n",
       "  0.016752468554802474"
      ]
     },
     "metadata": {},
     "output_type": "display_data"
    }
   ],
   "source": [
    "Lx,Nx,ϕa,ϕp,v0 = 25.0, 800, 0.4923593417152868, 0.2155, 7.5\n",
    "f,u,c = load_full(Lx,Nx,ϕa,ϕp,v0);\n",
    "param, ps = get_param_full(Lx,Nx,ϕa,ϕp,v0);\n",
    "err, erri, avmag, cep = check_u_full(u,ps);\n",
    "println(\"ϕa,ϕp=($(ϕa),$(ϕp)): cep =$(cep), err=$(err),$(erri)\");\n",
    "\n",
    "\n",
    "f = f[2:2:end,:];\n",
    "u = get_u(f,c);\n",
    "Lx,Nx,ϕa,ϕp,v0 = 25.0, Nx÷2, 0.4923593417152868, 0.216, 7.5;\n",
    "param, ps = get_param_full(Lx,Nx,ϕa,ϕp,v0);\n",
    "err, erri, avmag, cep = check_u_full(u,ps);\n",
    "println(\"ϕa,ϕp=($(ϕa),$(ϕp)): cep =$(cep), err=$(err),$(erri)\");\n",
    "\n",
    "tol = 1e-8\n",
    "maxiters = 20\n",
    "prob = NonlinearProblem(ff,u, ps; abstol = tol, reltol =  tol, maxiters = maxiters);\n",
    "sol  = solve(prob)\n",
    "        "
   ]
  },
  {
   "cell_type": "code",
   "execution_count": 13,
   "metadata": {},
   "outputs": [
    {
     "name": "stdout",
     "output_type": "stream",
     "text": [
      "ϕa,ϕp=(0.4923593417152868,0.216): cep =0.016752468554802474, err=9.379295257128106e-11,594\n"
     ]
    }
   ],
   "source": [
    "# Save\n",
    "    u = sol.u\n",
    "    f = get_f(u)\n",
    "    c = u[end]\n",
    "    filename    = save_name_full(param)\n",
    "    data        = Dict(\"f\" => f, \"c\" => c)\n",
    "    safesave(filename,data)\n",
    "#\n",
    "param, ps = get_param_full(Lx,Nx,ϕa,ϕp,v0);\n",
    "err, erri, avmag, cep = check_u_full(u,ps);\n",
    "println(\"ϕa,ϕp=($(ϕa),$(ϕp)): cep =$(cep), err=$(err),$(erri)\");"
   ]
  },
  {
   "cell_type": "code",
   "execution_count": 49,
   "metadata": {},
   "outputs": [
    {
     "data": {
      "text/plain": [
       "([0.3462037682572854 0.17299683194658888 0.16242404518580256; 0.31389880737716713 0.1677643984138524 0.17517565533002755; … ; 0.41282130992646715 0.1887320290505915 0.13450144423293797; 0.3797842287493776 0.1798786241074138 0.1486964888584954], [0.6816246453896768; 0.6568388611210471; … ; -0.19990560464196386; 0.003485013465407486;;], 0.003485013465407486)"
      ]
     },
     "metadata": {},
     "output_type": "display_data"
    }
   ],
   "source": [
    "Lx,Nx,ϕa,ϕp,v0 = 25.0, 800, 0.4923593417152868, 0.216, 7.5;\n",
    "f,u,c = load_full(Lx,Nx,ϕa,ϕp,v0);\n",
    "param, ps = get_param_full(Lx,Nx,ϕa,ϕp,v0);\n",
    "err, erri, avmag, cep = check_u_full(u,ps);\n",
    "println(\"ϕa,ϕp=($(ϕa),$(ϕp)): cep =$(cep), err=$(err),$(erri)\")\n",
    "\n",
    "for Lx in 47.5:-12.5:25.0\n",
    "    global Nx,ϕa,ϕp,v0\n",
    "    Lx,Nx,ϕa,ϕp,v0 = Lx, Nx, 0.4923593417152868, 0.216, 7.5\n",
    "    param, ps = get_param_full(Lx,Nx,ϕa,ϕp,v0)\n",
    "    f,u,c = solve_full(Lx,Nx,ϕa,ϕp,v0,u; tol = 1e-8, maxiters = 5)\n",
    "    err, erri, avmag, cep = check_u_full(u,ps);\n",
    "    println(\"ϕa,ϕp=($(ϕa),$(ϕp)): cep =$(cep), err=$(err),$(erri)\")\n",
    "end\n"
   ]
  },
  {
   "cell_type": "code",
   "execution_count": 32,
   "metadata": {},
   "outputs": [
    {
     "name": "stdout",
     "output_type": "stream",
     "text": [
      "ϕa,ϕp=(0.2519,0.1889): rhodiff=-1.4432899320127035e-15, cep =0.02124056431299977, avmag=0.3277575015173716, err=0.006929378305753797,1007, ind=1009\n"
     ]
    }
   ],
   "source": [
    "# for i in 1:7\n",
    "    # global u, ps, f,c, DT, v0, DR, Δx, Nx, Lx, ϕa, ϕp, ind, γ, ϕaL, ϕaR, ϕL, ϕR\n",
    "    u,ps = increase_inds(u,ps,1)\n",
    "    DT, v0, DR, Δx, Nx, Lx, ϕa,ϕp, ind, γ, ϕaL, ϕaR, ϕL, ϕR = ps\n",
    "    # γ = 1.8\n",
    "    # ind = 701\n",
    "    f,u,c = solve_out_6(Lx,Nx,ϕa,ϕp,v0,ind,γ,u; tol = 1e-8, maxiters = 20)\n",
    "    # check densities\n",
    "        ϕp = sum(f)/Nx-sum(f[:,1:2])/Nx\n",
    "        ϕa = sum(f[:,1:2])/Nx\n",
    "    #\n",
    "    param, ps = get_outer_param_6(Lx,Nx,ϕa,ϕp,v0,ind,γ)\n",
    "    err, erri, avmag, cep = check_u_6(u,ps);\n",
    "    rhodiff = u[ind+1] - u[ind]\n",
    "    println(\"ϕa,ϕp=($(d4(ϕa)),$(d4(ϕp))): rhodiff=$(rhodiff), cep =$(cep), avmag=$(avmag), err=$(err),$(erri), ind=$(ind)\")\n",
    "# end"
   ]
  },
  {
   "cell_type": "code",
   "execution_count": 70,
   "metadata": {},
   "outputs": [
    {
     "data": {
      "text/plain": [
       "900×3 Matrix{Float64}:\n",
       " 0.113327  0.113327  0.152341\n",
       " 0.113327  0.113327  0.152341\n",
       " 0.113327  0.113327  0.152341\n",
       " 0.113327  0.113327  0.152341\n",
       " 0.113327  0.113327  0.152341\n",
       " 0.113327  0.113327  0.152341\n",
       " 0.113327  0.113327  0.152341\n",
       " 0.113327  0.113327  0.152341\n",
       " 0.113327  0.113327  0.152341\n",
       " 0.113327  0.113327  0.152341\n",
       " ⋮                   \n",
       " 0.113327  0.113327  0.152341\n",
       " 0.113327  0.113327  0.152341\n",
       " 0.113327  0.113327  0.152341\n",
       " 0.113327  0.113327  0.152341\n",
       " 0.113327  0.113327  0.152341\n",
       " 0.113327  0.113327  0.152341\n",
       " 0.113327  0.113327  0.152341\n",
       " 0.113327  0.113327  0.152341\n",
       " 0.113327  0.113327  0.152341"
      ]
     },
     "metadata": {},
     "output_type": "display_data"
    }
   ],
   "source": [
    "f"
   ]
  },
  {
   "cell_type": "code",
   "execution_count": 13,
   "metadata": {},
   "outputs": [
    {
     "data": {
      "image/png": "[encoded data removed]",
      "text/plain": [
       "Figure(PyObject <Figure size 1000x500 with 2 Axes>)"
      ]
     },
     "metadata": {},
     "output_type": "display_data"
    }
   ],
   "source": [
    "using PyPlot, LaTeXStrings\n",
    "fig, axs = subplots(1,2,figsize=(10,5))\n",
    "rc(\"text\", usetex=true)\n",
    "ind = 3*Nx÷4\n",
    "show_f(axs,fig,12,param,f; c=c, point = ind-Nx÷2, Δϕ = 0.001)"
   ]
  },
  {
   "cell_type": "code",
   "execution_count": 15,
   "metadata": {},
   "outputs": [],
   "source": [
    "# Lx,Nx,ϕa,ϕp,v0 = 25.0, 800, 0.4923593417152868, 0.2156, 7.5\n",
    "# Lx,Nx,ϕa,ϕp,v0 = 25.0, 3200, 0.5,0.0, 7.5\n",
    "# Lx,Nx,ϕa,ϕp,v0 = 50.0, 1600, 0.4923593417152868,0.2120026039537824, 7.5\n",
    "# Lx,Nx,ϕa,ϕp,v0 = 50.0, 3200, 0.5628841851148594,0.19210167920225363, 7.5\n",
    "\n",
    "# Lx,Nx,ϕa,ϕp,v0 = 25.0, 1600, 0.5931, 0.18123973312949127, 7.5;\n",
    "Lx,Nx,ϕa,ϕp,v0 = 100.0, 6400, 0.564216798261844,0.18123973312949127, 7.5;\n",
    "\n",
    "f,u,c = load_full(Lx,Nx,ϕa,ϕp,v0);\n",
    "# f,u,c = solve_full(Lx,Nx,ϕa,ϕp,v0,u; tol = 1e-8, maxiters = 5)\n",
    "param, ps = get_param_full(Lx,Nx,ϕa,ϕp,v0);\n",
    "err, erri, avmag, cep = check_u_full(u,ps);\n",
    "println(\"ϕa,ϕp=($(ϕa),$(ϕp)): cep =$(cep), err=$(err),$(erri)\");\n",
    "\n",
    "# for ϕp in 0.2156:-0.00001:0.212\n",
    "#     global f,u,c,Lx,Nx,ϕa,v0\n",
    "#     Lx,Nx,ϕa,ϕp,v0 = 25.0, 800, 0.4923593417152868, ϕp, 7.5\n",
    "#     f,u,c = solve_full(Lx,Nx,ϕa,ϕp,v0,u; tol = 1e-7, maxiters = 5)\n",
    "#     param, ps = get_param_full(Lx,Nx,ϕa,ϕp,v0)\n",
    "#     err, erri, avmag, cep = check_u_full(u,ps);\n",
    "#     println(\"ϕa,ϕp=($(ϕa),$(ϕp)): cep =$(cep), err=$(err),$(erri)\")\n",
    "#     if err>1e-5\n",
    "#         break\n",
    "#     end\n",
    "# end"
   ]
  },
  {
   "cell_type": "code",
   "execution_count": 29,
   "metadata": {},
   "outputs": [
    {
     "data": {
      "text/plain": [
       "CartesianIndex(36, 1)"
      ]
     },
     "metadata": {},
     "output_type": "display_data"
    }
   ],
   "source": [
    "m = f[:,2] - f[:,1]\n",
    "ind1 = argmax(m)\n",
    "ind2 = argmin(m)\n",
    "rho = sum(f;dims=2)\n",
    "rhoa = f[:,2] + f[:,1]\n",
    "γs = (rhoa .-1)./(rho .-1)\n",
    "γs[ind1], γs[ind1], 1024*(ind2-ind1)÷Nx"
   ]
  },
  {
   "cell_type": "code",
   "execution_count": null,
   "metadata": {},
   "outputs": [],
   "source": [
    "Lx,Nx,ϕa,ϕp,v0 = 25.0, 800, 0.4923593417152868, 0.21556, 7.5\n",
    "f,u,c = load_full(Lx,Nx,ϕa,ϕp,v0);\n",
    "param, ps = get_param_full(Lx,Nx,ϕa,ϕp,v0);\n",
    "err, erri, avmag, cep = check_u_full(u,ps);\n",
    "println(\"ϕa,ϕp=($(ϕa),$(ϕp)): cep =$(cep), err=$(err),$(erri)\");\n",
    "\n",
    "tol = 1e-8;\n",
    "maxiters = 10;\n",
    "prob = NonlinearProblem(ff,u, ps; abstol = tol, reltol =  tol, maxiters = maxiters);\n",
    "sol  = solve(prob)\n",
    "\n",
    "# Save\n",
    "    u = sol.u;\n",
    "    f = get_f(u);\n",
    "    c = u[end];\n",
    "    filename    = save_name_full(param);\n",
    "    data        = Dict(\"f\" => f, \"c\" => c);\n",
    "    safesave(filename,data);\n",
    "#\n",
    "\n",
    "param, ps = get_param_full(Lx,Nx,ϕa,ϕp,v0);\n",
    "err, erri, avmag, cep = check_u_full(u,ps);\n",
    "println(\"ϕa,ϕp=($(ϕa),$(ϕp)): cep =$(cep), err=$(err),$(erri)\");"
   ]
  },
  {
   "cell_type": "code",
   "execution_count": 21,
   "metadata": {},
   "outputs": [
    {
     "name": "stdout",
     "output_type": "stream",
     "text": [
      "ϕa,ϕp=(0.4923593417152868,0.1): cep =0.0, err=9.016746066295564,256\n"
     ]
    }
   ],
   "source": [
    "Lx,Nx,ϕa,ϕp,v0 = 25.0, 800, 0.4923593417152868, 0.1, 7.5\n",
    "ind = (Nx*840)÷1024\n",
    "γ = (1-ϕa)/(1-ϕa-ϕp)\n",
    "ϕaL, ϕaR, ϕL, ϕR = get_BC(γ ,v0)\n",
    "ϕpL, ϕpR = ϕL-ϕaL, ϕR-ϕaR\n",
    "f = vcat([ϕaL/2 ϕaL/2  ϕpL] .* ones(ind-Nx÷2), [ϕaR/2 ϕaR/2  ϕpR] .* ones(Nx-ind),[ϕaL/2 ϕaL/2  ϕpL] .* ones(Nx÷2))\n",
    "c = 0.0\n",
    "u = get_u(f,c)\n",
    "\n",
    "param, ps = get_param_full(Lx,Nx,ϕa,ϕp,v0);\n",
    "err, erri, avmag, cep = check_u_full(u,ps);\n",
    "println(\"ϕa,ϕp=($(ϕa),$(ϕp)): cep =$(cep), err=$(err),$(erri)\");\n"
   ]
  },
  {
   "cell_type": "code",
   "execution_count": 24,
   "metadata": {},
   "outputs": [
    {
     "name": "stdout",
     "output_type": "stream",
     "text": [
      "ϕa,ϕp=(0.4923593417152868,0.1): cep =-0.021379490353588604, err=4.714453139648422,401\n"
     ]
    }
   ],
   "source": [
    "u = sol.u;\n",
    "f = get_f(u);\n",
    "c = u[end];\n",
    "filename    = save_name_full(param);\n",
    "data        = Dict(\"f\" => f, \"c\" => c);\n",
    "safesave(filename,data);\n",
    "param, ps = get_param_full(Lx,Nx,ϕa,ϕp,v0);\n",
    "err, erri, avmag, cep = check_u_full(u,ps);\n",
    "println(\"ϕa,ϕp=($(ϕa),$(ϕp)): cep =$(cep), err=$(err),$(erri)\");"
   ]
  },
  {
   "cell_type": "code",
   "execution_count": 50,
   "metadata": {},
   "outputs": [
    {
     "data": {
      "text/plain": [
       "74"
      ]
     },
     "metadata": {},
     "output_type": "display_data"
    }
   ],
   "source": [
    "#compute bindoal\n",
    "Pe = 7.5\n",
    "Lx,Nx,ϕa,ϕp,v0 = 25.0, 800, 0.5628841851148594,0.19210167920225363, 7.5\n",
    "# ind = (Nx*840)÷1024\n",
    "γ = (1-ϕa)/(1-ϕa-ϕp)\n",
    "# γ = 1.1\n",
    "\n",
    "find_sol, lower_limits, upper_limits = colapse_sol_interval(;Pe = Pe, γ = γ, rho_max = (1-10e-16), initial_Δ = 1e-8, max_iter = 100, tol = 1e-14) \n",
    "ϕ1 = lower_limits[1]  \n",
    "ϕ2 = upper_limits[2] \n",
    "\n",
    "#define problem\n",
    "using DifferentialEquations\n",
    "\n",
    "function fode(du,u,parameters,t)\n",
    "    Pe = parameters[1]\n",
    "    γ = parameters[2]\n",
    "    ϕ1 = parameters[3]\n",
    "    du[1] = Pe*(1-u[1])*u[2]\n",
    "    du[2] = -Pe*u[2]^2 + Pe*( (1-γ*(1-u[1]))*self_diff(u[1]) -(1-γ*(1-ϕ1))*self_diff(ϕ1) )/self_diff(u[1]) -(2/Pe)*log( (1-u[1])/(1-ϕ1) )/self_diff(u[1])\n",
    "    return du\n",
    "end\n",
    "\n",
    "function f_jac(J,u,parameters,t)\n",
    "    Pe = parameters[1]\n",
    "    γ = parameters[2]\n",
    "    ϕ1 = parameters[3]\n",
    "    J[1,1] = -Pe*u[2]\n",
    "    J[1,2] =  Pe*(1-u[1])\n",
    "    J[2,1] =  self_diff_prime(u[1])*            (2/Pe)*log( (1-u[1])/(1-ϕ1) )/self_diff(u[1])^2              + (2/Pe)/(1-u[1])/self_diff(u[1])\n",
    "    J[2,1] += self_diff_prime(u[1])*Pe*((1-γ*(1-u[1]))*self_diff(u[1]) -(1-γ*(1-ϕ1))*self_diff(ϕ1) )/self_diff(u[1])^2  + Pe*(γ*self_diff(u[1]) +(1-γ*(1-u[1]))*self_diff_prime(u[1]) )/self_diff(u[1])\n",
    "    J[2,2] = -2*Pe*u[2]\n",
    "    return J\n",
    "end\n",
    "\n",
    "#compute solution \n",
    "parameters = (Pe, γ, ϕ1, ϕ2)\n",
    "ffode = ODEFunction(fode;jac=f_jac)\n",
    "ϵ = 1e-8\n",
    "initial_position = [ϕ1+ϵ, 0.0]\n",
    "time_interval = (0.0, 10.0)\n",
    "\n",
    "ffode = ODEFunction(fode;jac=f_jac)\n",
    "prob = ODEProblem(ffode,initial_position,time_interval, parameters)\n",
    "\n",
    "sol = DifferentialEquations.solve(prob,abstol = 1e-12, reltol = 1e-12, maxiters =10000);\n",
    "\n",
    "# #find central time\n",
    "t_mid_arg = argmax(sol[2,:])\n",
    "t_middle = sol.t[t_mid_arg]\n",
    "t_max = maximum(sol.t[:].-t_middle)\n",
    "t_min = minimum(sol.t[:].-t_middle)\n",
    "arg_max = argmax(sol.t[:].-t_middle)\n",
    "arg_min = argmin(sol.t[:].-t_middle)\n",
    "t_lim = round(min(t_max, - t_min))\n",
    "sol[1,t_mid_arg]\n",
    "\n",
    "rho_strt = 1 #argmin(abs.(sol[1,:].-ϕ1.-0.05))\n",
    "rho_end  = arg_max # argmin(abs.(sol[1,:].-ϕ2.+0.05))\n",
    "drho = (sol[1,(rho_strt+1):(rho_end)].-sol[1,(rho_strt):(rho_end-1)])./(sol.t[(rho_strt+1):(rho_end)].-sol.t[(rho_strt):(rho_end-1)]);\n",
    "infec_pt = argmax(drho)"
   ]
  },
  {
   "cell_type": "code",
   "execution_count": 51,
   "metadata": {},
   "outputs": [
    {
     "data": {
      "text/plain": [
       "(0.26081930850873725, 0.0562244197048396)"
      ]
     },
     "metadata": {},
     "output_type": "display_data"
    }
   ],
   "source": [
    "ϕaL, ϕaR, ϕL, ϕR = get_BC(γ ,Pe)\n",
    "ϕpL, ϕpR = ϕL-ϕaL, ϕR-ϕaR"
   ]
  },
  {
   "cell_type": "code",
   "execution_count": 65,
   "metadata": {},
   "outputs": [
    {
     "name": "stdout",
     "output_type": "stream",
     "text": [
      "ϕa,ϕp=(0.5632274141856611,0.19195083844425154): cep =0.0, err=0.09260771874493345,1080\n"
     ]
    }
   ],
   "source": [
    "interface_size = 400\n",
    "t_radius = 5.0\n",
    "interface_ts = collect(-t_radius:(2*t_radius/(interface_size-1)):t_radius) .+ sol.t[infec_pt];\n",
    "l_int_rho = hcat(sol.(interface_ts)...)[1,:];\n",
    "l_int_mag = hcat(sol.(interface_ts)...)[2,:];\n",
    "r_int_rho = l_int_rho[end:-1:1];\n",
    "r_int_mag = - l_int_mag[end:-1:1];\n",
    "\n",
    "l_int_rhoa = (l_int_rho.-1)*γ .+ 1\n",
    "r_int_rhoa = (r_int_rho.-1)*γ .+ 1\n",
    "l_int_rhop = l_int_rho-l_int_rhoa\n",
    "r_int_rhop = r_int_rho-r_int_rhoa\n",
    "\n",
    "l_int_ar = (l_int_rhoa+ l_int_mag)/2\n",
    "l_int_al = (l_int_rhoa- l_int_mag)/2\n",
    "r_int_ar = (r_int_rhoa+ r_int_mag)/2\n",
    "r_int_al = (r_int_rhoa- r_int_mag)/2\n",
    "\n",
    "Lx,Nx,ϕa,ϕp,v0 = 100.0, 3200, 0.5628841851148594,0.19210167920225363, 7.5\n",
    "ind = 1060\n",
    "\n",
    "f = vcat([ϕaL/2 ϕaL/2  ϕpL] .* ones(ind-interface_size÷2), hcat(l_int_al,l_int_ar,l_int_rhop)  , [ϕaR/2 ϕaR/2  ϕpR] .* ones(Nx-interface_size-2*ind), hcat(r_int_al,r_int_ar,r_int_rhop), [ϕaL/2 ϕaL/2  ϕpL] .* ones(ind-interface_size÷2))\n",
    "f = circshift(f,(-ind,0))\n",
    "c = 0.0\n",
    "u = get_u(f,c)\n",
    "\n",
    "ϕp = sum(f)/Nx-sum(f[:,1:2])/Nx\n",
    "ϕa = sum(f[:,1:2])/Nx\n",
    "\n",
    "param, ps = get_param_full(Lx,Nx,ϕa,ϕp,v0);\n",
    "err, erri, avmag, cep = check_u_full(u,ps);\n",
    "println(\"ϕa,ϕp=($(ϕa),$(ϕp)): cep =$(cep), err=$(err),$(erri)\");\n"
   ]
  },
  {
   "cell_type": "code",
   "execution_count": 71,
   "metadata": {},
   "outputs": [
    {
     "name": "stdout",
     "output_type": "stream",
     "text": [
      "ϕa,ϕp=(0.5628841851148594,0.19210167920225363): cep =-0.0010467991074768856, err=0.015460073241548161,9574\n"
     ]
    }
   ],
   "source": [
    "Lx,Nx,ϕa,ϕp,v0 = 100.0, 3200, 0.5628841851148594,0.19210167920225363, 7.5\n",
    "param, ps = get_param_full(Lx,Nx,ϕa,ϕp,v0);\n",
    "err, erri, avmag, cep = check_u_full(u,ps);\n",
    "println(\"ϕa,ϕp=($(ϕa),$(ϕp)): cep =$(cep), err=$(err),$(erri)\");"
   ]
  },
  {
   "cell_type": "code",
   "execution_count": 67,
   "metadata": {},
   "outputs": [
    {
     "data": {
      "text/plain": [
       "retcode: MaxIters\n",
       "u: 9601×1 Matrix{Float64}:\n",
       "  0.7644362569688701\n",
       "  0.7739702719155843\n",
       "  0.7835093589547522\n",
       "  0.7929761762821174\n",
       "  0.8022969855529076\n",
       "  0.8114038215891074\n",
       "  0.8202362011032873\n",
       "  0.8287424618414239\n",
       "  0.836880468423298\n",
       "  0.8446179714229053\n",
       "  ⋮\n",
       "  0.09130749640751849\n",
       "  0.10059623379488539\n",
       "  0.1103006733232606\n",
       "  0.12031836177502864\n",
       "  0.1305248609617937\n",
       "  0.14077560817662924\n",
       "  0.15090945748461299\n",
       "  0.16075314066215027\n",
       " -0.0010467991074768856"
      ]
     },
     "metadata": {},
     "output_type": "display_data"
    }
   ],
   "source": [
    "tol = 1e-8;\n",
    "maxiters = 2;\n",
    "prob = NonlinearProblem(ff,u, ps; abstol = tol, reltol =  tol, maxiters = maxiters);\n",
    "sol  = solve(prob)"
   ]
  },
  {
   "cell_type": "code",
   "execution_count": 70,
   "metadata": {},
   "outputs": [
    {
     "name": "stdout",
     "output_type": "stream",
     "text": [
      "ϕa,ϕp=(0.4923593417152868,0.2120026039537824): cep =-0.0010467991074768856, err=73.76921238301026,4797\n"
     ]
    }
   ],
   "source": [
    "u = sol.u \n",
    "f = get_f(u)\n",
    "c = u[end]\n",
    "\n",
    "param, ps = get_param_full(Lx,Nx,ϕa,ϕp,v0);\n",
    "err, erri, avmag, cep = check_u_full(u,ps);\n",
    "println(\"ϕa,ϕp=($(ϕa),$(ϕp)): cep =$(cep), err=$(err),$(erri)\");"
   ]
  },
  {
   "cell_type": "code",
   "execution_count": 47,
   "metadata": {},
   "outputs": [
    {
     "name": "stdout",
     "output_type": "stream",
     "text": [
      "ϕa,ϕp=(0.5628162750731772,0.1921315239998972): cep =-0.004299304402879612, err=0.01011449337750138,3749\n"
     ]
    }
   ],
   "source": [
    "u = sol.u;\n",
    "f = get_f(u);\n",
    "c = u[end];\n",
    "filename    = save_name_full(param);\n",
    "data        = Dict(\"f\" => f, \"c\" => c);\n",
    "safesave(filename,data);\n",
    "param, ps = get_param_full(Lx,Nx,ϕa,ϕp,v0);\n",
    "err, erri, avmag, cep = check_u_full(u,ps);\n",
    "println(\"ϕa,ϕp=($(ϕa),$(ϕp)): cep =$(cep), err=$(err),$(erri)\");"
   ]
  },
  {
   "cell_type": "code",
   "execution_count": 77,
   "metadata": {},
   "outputs": [
    {
     "ename": "ArgumentError",
     "evalue": "ArgumentError: No file exists at given path: /store/DAMTP/jm2386/Active_Lattice/data/pm_pdes_pro/full_sol/sol_full/[DT,v0,DR,Lx,Nx,ϕa,ϕp]=[1.0, 7.5, 1.0, 25.0, 800.0, 0.5628841851148594, 0.19210167920225363].jld2",
     "output_type": "error",
     "traceback": [
      "ArgumentError: No file exists at given path: /store/DAMTP/jm2386/Active_Lattice/data/pm_pdes_pro/full_sol/sol_full/[DT,v0,DR,Lx,Nx,ϕa,ϕp]=[1.0, 7.5, 1.0, 25.0, 800.0, 0.5628841851148594, 0.19210167920225363].jld2\n",
      "\n",
      "Stacktrace:\n",
      " [1] checkpath_load\n",
      "   @ ~/.julia/packages/FileIO/xOKyx/src/loadsave.jl:167 [inlined]\n",
      " [2] load(::String; options::@Kwargs{})\n",
      "   @ FileIO ~/.julia/packages/FileIO/xOKyx/src/loadsave.jl:110\n",
      " [3] load\n",
      "   @ ~/.julia/packages/FileIO/xOKyx/src/loadsave.jl:109 [inlined]\n",
      " [4] load_full(Lx::Float64, Nx::Int64, ϕa::Float64, ϕp::Float64, v0::Float64)\n",
      "   @ Main ~/Active_Lattice/src/pm_plot.jl:1327\n",
      " [5] top-level scope\n",
      "   @ ~/Active_Lattice/pm_scripts/pm_figs/outer_ode_6.ipynb:1"
     ]
    }
   ],
   "source": [
    "Lx,Nx,ϕa,ϕp,v0 = 25.0, 800, 0.5628841851148594,0.19210167920225363, 7.5\n",
    "f,u,c = load_full(Lx,Nx,ϕa,ϕp,v0);\n",
    "\n",
    "# Lx,Nx,ϕa,ϕp,v0 = 50.0, 1600, 0.5628841851148594,0.19210167920225363, 7.5\n",
    "param, ps = get_param_full(Lx,Nx,ϕa,ϕp,v0);\n",
    "err, erri, avmag, cep = check_u_full(u,ps);\n",
    "println(\"ϕa,ϕp=($(ϕa),$(ϕp)): cep =$(cep), err=$(err),$(erri)\");\n",
    "\n",
    "# f,u,c = solve_full(Lx,Nx,ϕa,ϕp,v0,u; tol = 1e-8, maxiters = 5)\n",
    "# param, ps = get_param_full(Lx,Nx,ϕa,ϕp,v0)\n",
    "# err, erri, avmag, cep = check_u_full(u,ps);\n",
    "# println(\"ϕa,ϕp=($(ϕa),$(ϕp)): cep =$(cep), err=$(err),$(erri)\")"
   ]
  },
  {
   "cell_type": "code",
   "execution_count": 173,
   "metadata": {},
   "outputs": [
    {
     "data": {
      "image/png": "[encoded data removed]",
      "text/plain": [
       "Figure(PyObject <Figure size 800x1000 with 2 Axes>)"
      ]
     },
     "metadata": {},
     "output_type": "display_data"
    }
   ],
   "source": [
    "using PyPlot\n",
    "#plot figure\n",
    "PyPlot.close(\"all\")\n",
    "fig, axs = plt.subplots(2, 1, figsize=(8,10))\n",
    "xlabels = [L\"\\rho\", L\"m\"]\n",
    "for i in 1:2\n",
    "    ax = axs[i]\n",
    "    ax.plot(sol.t[:].-sol.t[infec_pt], sol[i,:], color = \"black\")\n",
    "    axlim = [ -t_lim, t_lim, minimum(sol[i,:])-0.01, maximum(sol[i,:])+0.01]\n",
    "    ax.xaxis.set_tick_params(labelsize=15)\n",
    "    ax.xaxis.tick_bottom()\n",
    "    ax.yaxis.set_tick_params(labelsize=15)\n",
    "    ax.axis(axlim)\n",
    "    #ax.set_title(L\"\\Re{ \\lambda_n^\\mathrm{max}} = 0\",fontsize=20)\n",
    "    ax.set_ylabel(xlabels[i],fontsize=20)\n",
    "    ax.set_xlabel(L\"x\",fontsize=20)\n",
    "end\n",
    "fig_title = latexstring(\"\\$ \\\\mathrm{Pe} = $(Pe) \\$\")\n",
    "axs[1].set_title(fig_title,fontsize=20)\n",
    "display(fig)"
   ]
  },
  {
   "cell_type": "markdown",
   "metadata": {},
   "source": [
    "Running solution pathfinder: \n"
   ]
  },
  {
   "cell_type": "code",
   "execution_count": 190,
   "metadata": {},
   "outputs": [
    {
     "name": "stdout",
     "output_type": "stream",
     "text": [
      "ϕa,ϕp=(0.562033779065575,0.0): cep =-0.003016536024297772, err=1.6985668427338396e-10,1203\n"
     ]
    },
    {
     "ename": "ArgumentError",
     "evalue": "ArgumentError: range step cannot be zero",
     "output_type": "error",
     "traceback": [
      "ArgumentError: range step cannot be zero\n",
      "\n",
      "Stacktrace:\n",
      " [1] (::Colon)(start::Float64, step::Float64, stop::Float64)\n",
      "   @ Base ./twiceprecision.jl:394\n",
      " [2] top-level scope\n",
      "   @ ~/Active_Lattice/pm_scripts/pm_figs/outer_ode_6.ipynb:12"
     ]
    }
   ],
   "source": [
    "Lx,Nx,ϕa,ϕp,v0 = 25.0, 1600, 0.5762103165847051,0.08348221847463011, 7.5\n",
    "# Lx,Nx,ϕa,ϕp,v0 = 25.0, 800, 0.562033779065575,0.0, 7.5\n",
    "f,u,c = load_full(Lx,Nx,ϕa,ϕp,v0);\n",
    "param, ps = get_param_full(Lx,Nx,ϕa,ϕp,v0);\n",
    "err, erri, avmag, cep = check_u_full(u,ps);\n",
    "println(\"ϕa,ϕp=($(ϕa),$(ϕp)): cep =$(cep), err=$(err),$(erri)\");\n",
    "steps = 20\n",
    "ϕa_start, ϕp_start = copy(ϕa), copy(ϕp)\n",
    "# ϕa_end, ϕp_end = 0.4923593417152868, 0.2120026039537824\n",
    "ϕa_end, ϕp_end = 0.5628841851148594, 0.19210167920225363\n",
    "# ϕa_end, ϕp_end = 0.5,0.00\n",
    "\n",
    "for (ϕa, ϕp) in zip(collect(ϕa_start:( (ϕa_end-ϕa_start )/steps):ϕa_end), collect(ϕp_start:( (ϕp_end-ϕp_start )/steps):ϕp_end)) \n",
    "    global f,u,c,Lx,Nx,v0\n",
    "    f,u,c = solve_full(Lx,Nx,ϕa,ϕp,v0,u; tol = 1e-8, maxiters = 10)\n",
    "    param, ps = get_param_full(Lx,Nx,ϕa,ϕp,v0)\n",
    "    err, erri, avmag, cep = check_u_full(u,ps);\n",
    "    println(\"ϕa,ϕp=($(ϕa),$(ϕp)): cep =$(cep), err=$(err),$(erri)\")\n",
    "    if err>1e-5\n",
    "        break\n",
    "    end\n",
    "    # println(ϕa, ϕp)\n",
    "end\n",
    "\n",
    "for ϕa in collect(ϕa_start:( (ϕa_end-ϕa_start )/steps):ϕa_end)\n",
    "    global f,u,c,Lx,Nx,v0, ϕp\n",
    "    Lx,Nx,_,_,v0 = 25.0, 800, 0.5762103165847051,0.08348221847463011, 7.5\n",
    "    f,u,c = solve_full(Lx,Nx,ϕa,ϕp,v0,u; tol = 1e-8, maxiters = 10)\n",
    "    param, ps = get_param_full(Lx,Nx,ϕa,ϕp,v0)\n",
    "    err, erri, avmag, cep = check_u_full(u,ps);\n",
    "    println(\"ϕa,ϕp=($(ϕa),$(ϕp)): cep =$(cep), err=$(err),$(erri)\")\n",
    "    if err>1e-5\n",
    "        break\n",
    "    end\n",
    "    # println(ϕa, ϕp)\n",
    "end"
   ]
  },
  {
   "cell_type": "markdown",
   "metadata": {},
   "source": [
    "Upscaling Solution:"
   ]
  },
  {
   "cell_type": "code",
   "execution_count": 79,
   "metadata": {},
   "outputs": [
    {
     "data": {
      "text/plain": [
       "lengthen_f (generic function with 1 method)"
      ]
     },
     "metadata": {},
     "output_type": "display_data"
    }
   ],
   "source": [
    "# lengthen\n",
    "function lengthen_f(f,param, LLx, NNx)\n",
    "    @unpack Nx, Lx, Δx = param\n",
    "    ΔΔx = Lx/NNx\n",
    "    function fx(x,k)\n",
    "        i::Int64 = x÷Δx\n",
    "        j = i+1\n",
    "        if i == 0\n",
    "            return ( (Δx*(i+1)- x)*f[Nx,k] + (x-Δx*i)*f[j,k] )/(Δx)\n",
    "        end\n",
    "        if i == Nx\n",
    "            j = 1\n",
    "        end\n",
    "        return ( (Δx*(i+1)- x)*f[i,k] + (x-Δx*i)*f[j,k] )/(Δx)\n",
    "    end\n",
    "    g = zeros(NNx,3)\n",
    "    for i in 1:3\n",
    "        g[:,i] = fx.(ΔΔx:ΔΔx:Lx,i)\n",
    "    end\n",
    "\n",
    "    Δx = LLx/NNx\n",
    "    Lx = LLx\n",
    "    Nx = NNx\n",
    "    @pack! param = Nx, Lx, Δx\n",
    "\n",
    "    return param, g\n",
    "end"
   ]
  },
  {
   "cell_type": "code",
   "execution_count": 90,
   "metadata": {},
   "outputs": [
    {
     "name": "stdout",
     "output_type": "stream",
     "text": [
      "ϕa,ϕp=(0.564216798261844,0.18123973312949127): cep =-0.005474724563176791, err=2.6948767523071737e-10,3809\n",
      "ϕa,ϕp=(0.564216798261844,0.18123973312949127): cep =-0.005474724563176791, err=0.0026757601050209634,7579\n"
     ]
    }
   ],
   "source": [
    "# lengthen\n",
    "function lengthen_f(f,param, LLx, NNx)\n",
    "    @unpack Nx, Lx, Δx = param\n",
    "    ΔΔx = Lx/NNx\n",
    "    function fx(x,k)\n",
    "        i::Int64 = x÷Δx\n",
    "        j = i+1\n",
    "        if i == 0\n",
    "            return ( (Δx*(i+1)- x)*f[Nx,k] + (x-Δx*i)*f[j,k] )/(Δx)\n",
    "        end\n",
    "        if i == Nx\n",
    "            j = 1\n",
    "        end\n",
    "        return ( (Δx*(i+1)- x)*f[i,k] + (x-Δx*i)*f[j,k] )/(Δx)\n",
    "    end\n",
    "    g = zeros(NNx,3)\n",
    "    for i in 1:3\n",
    "        g[:,i] = fx.(ΔΔx:ΔΔx:Lx,i)\n",
    "    end\n",
    "\n",
    "    Δx = LLx/NNx\n",
    "    Lx = LLx\n",
    "    Nx = NNx\n",
    "    @pack! param = Nx, Lx, Δx\n",
    "\n",
    "    return param, g\n",
    "end\n",
    "\n",
    "# Lx,Nx,ϕa,ϕp,v0 = 25.0, 800, 0.4923593417152868, 0.2156, 7.5\n",
    "# Lx,Nx,ϕa,ϕp,v0 = 25.0, 800, 0.5,0.0, 7.5\n",
    "# Lx,Nx,ϕa,ϕp,v0 = 25.0, 1600, 0.4923593417152868,0.2120026039537824, 7.5\n",
    "# Lx,Nx,ϕa,ϕp,v0 = 25.0, 1600, 0.5628841851148594,0.19210167920225363, 7.5\n",
    "# Lx,Nx,ϕa,ϕp,v0 = 25.0, 3200, 0.564216798261844, 0.18123973312949127, 7.5;\n",
    "Lx,Nx,ϕa,ϕp,v0 = 25.0, 1600, 0.5931, 0.18123973312949127, 7.5;\n",
    "\n",
    "f,u,c = load_full(Lx,Nx,ϕa,ϕp,v0);\n",
    "param, ps = get_param_full(Lx,Nx,ϕa,ϕp,v0);\n",
    "err, erri, avmag, cep = check_u_full(u,ps);\n",
    "println(\"ϕa,ϕp=($(ϕa),$(ϕp)): cep =$(cep), err=$(err),$(erri)\");\n",
    "\n",
    "Lx,Nx,ϕa,ϕp,v0 = Lx,2*Nx,ϕa,ϕp,v0 \n",
    "param, f = lengthen_f(f,param, Lx, Nx)\n",
    "u = get_u(f,c)\n",
    "param, ps = get_param_full(Lx,Nx,ϕa,ϕp,v0);\n",
    "err, erri, avmag, cep = check_u_full(u,ps);\n",
    "println(\"ϕa,ϕp=($(ϕa),$(ϕp)): cep =$(cep), err=$(err),$(erri)\");\n",
    "\n",
    "f,u,c = solve_full(Lx,Nx,ϕa,ϕp,v0,u; tol = 1e-8, maxiters = 10);\n",
    "\n",
    "f,u,c = load_full(Lx,Nx,ϕa,ϕp,v0);\n",
    "param, ps = get_param_full(Lx,Nx,ϕa,ϕp,v0);\n",
    "err, erri, avmag, cep = check_u_full(u,ps);\n",
    "println(\"ϕa,ϕp=($(ϕa),$(ϕp)): cep =$(cep), err=$(err),$(erri)\");\n"
   ]
  },
  {
   "cell_type": "code",
   "execution_count": 91,
   "metadata": {},
   "outputs": [
    {
     "data": {
      "text/plain": [
       "([0.20744966977947327 0.37504414175438966 0.16543475135169194; 0.20831936836001924 0.37830356192866527 0.16378879412744596; … ; 0.20578031498535138 0.36851183308207475 0.1687047037085181; 0.20660343939021641 0.3717794352179177 0.16707365678320119], [0.7479285628855549; 0.7504117244161305; … ; 0.16517599582770123; -0.002820002620436848;;], -0.002820002620436848)"
      ]
     },
     "metadata": {},
     "output_type": "display_data"
    }
   ],
   "source": []
  },
  {
   "cell_type": "code",
   "execution_count": 93,
   "metadata": {},
   "outputs": [
    {
     "name": "stdout",
     "output_type": "stream",
     "text": [
      "ϕa,ϕp=(0.564216798261844,0.18123973312949127): cep =-0.002820002620436848, err=5.297672023285571e-14,183\n"
     ]
    }
   ],
   "source": [
    "Lx,Nx,ϕa,ϕp,v0 = 25.0, 3200, 0.564216798261844, 0.18123973312949127, 7.5\n",
    "f,u,c = load_full(Lx,Nx,ϕa,ϕp,v0);\n",
    "param, ps = get_param_full(Lx,Nx,ϕa,ϕp,v0);\n",
    "err, erri, avmag, cep = check_u_full(u,ps);\n",
    "println(\"ϕa,ϕp=($(ϕa),$(ϕp)): cep =$(cep), err=$(err),$(erri)\");"
   ]
  },
  {
   "cell_type": "code",
   "execution_count": null,
   "metadata": {},
   "outputs": [],
   "source": [
    "# lengthen \n",
    "# Lx,Nx,ϕa,ϕp,v0 = 25.0, 3200, 0.4923593417152868,0.2120026039537824, 7.5\n",
    "# Lx,Nx,ϕa,ϕp,v0 = 25.0, 3200, 0.5628841851148594,0.19210167920225363, 7.5\n",
    "f,u,c = load_full(Lx,Nx,ϕa,ϕp,v0);\n",
    "param, ps = get_param_full(Lx,Nx,ϕa,ϕp,v0);\n",
    "err, erri, avmag, cep = check_u_full(u,ps);\n",
    "println(\"ϕa,ϕp=($(ϕa),$(ϕp)): cep =$(cep), err=$(err),$(erri)\");\n",
    "old_Lx = copy(Lx);\n",
    "\n",
    "for Lx in 30.0:10.0:100.0\n",
    "    param, f = lengthen_f(f,param, Lx, Nx)\n",
    "    u = get_u(f,old_Lx*c/Lx)\n",
    "    f,u,c = solve_full(Lx,Nx,ϕa,ϕp,v0,u; tol = 1e-8, maxiters = 10)\n",
    "    param, ps = get_param_full(Lx,Nx,ϕa,ϕp,v0);\n",
    "    err, erri, avmag, cep = check_u_full(u,ps);\n",
    "    println(\"Lx=$(Lx), ϕa,ϕp=($(ϕa),$(ϕp)): cep =$(cep), err=$(err),$(erri)\");\n",
    "    if err > 1e-6\n",
    "        break\n",
    "    end\n",
    "    old_Lx = copy(Lx)\n",
    "end"
   ]
  },
  {
   "cell_type": "code",
   "execution_count": 29,
   "metadata": {},
   "outputs": [],
   "source": [
    "# lengthen\n",
    "function lengthen_f(f,param, LLx, NNx)\n",
    "    @unpack Nx, Lx, Δx = param\n",
    "    ΔΔx = Lx/NNx\n",
    "    function fx(x,k)\n",
    "        i::Int64 = x÷Δx\n",
    "        j = i+1\n",
    "        if i == 0\n",
    "            return ( (Δx*(i+1)- x)*f[Nx,k] + (x-Δx*i)*f[j,k] )/(Δx)\n",
    "        end\n",
    "        if i == Nx\n",
    "            j = 1\n",
    "        end\n",
    "        return ( (Δx*(i+1)- x)*f[i,k] + (x-Δx*i)*f[j,k] )/(Δx)\n",
    "    end\n",
    "    g = zeros(NNx,3)\n",
    "    for i in 1:3\n",
    "        g[:,i] = fx.(ΔΔx:ΔΔx:Lx,i)\n",
    "    end\n",
    "\n",
    "    Δx = LLx/NNx\n",
    "    Lx = LLx\n",
    "    Nx = NNx\n",
    "    @pack! param = Nx, Lx, Δx\n",
    "\n",
    "    return param, g\n",
    "end\n",
    "# densify \n",
    "# Lx,Nx,ϕa,ϕp,v0 = 25.0, 1600, 0.4923593417152868,0.2120026039537824, 7.5;\n",
    "# Lx,Nx,ϕa,ϕp,v0 = 25.0, 1600, 0.5628841851148594,0.19210167920225363, 7.5\n",
    "Lx,Nx,ϕa,ϕp,v0 = 100.0, 3200, 0.564216798261844,0.18123973312949127, 7.5;\n",
    "\n",
    "f,u,c = load_full(Lx,Nx,ϕa,ϕp,v0);\n",
    "param, ps = get_param_full(Lx,Nx,ϕa,ϕp,v0);\n",
    "err, erri, avmag, cep = check_u_full(u,ps);\n",
    "println(\"ϕa,ϕp=($(ϕa),$(ϕp)): cep =$(cep), err=$(err),$(erri)\");\n",
    "\n",
    "Lx,Nx,ϕa,ϕp,v0 = Lx,2*Nx,ϕa,ϕp,v0 ;\n",
    "param, f = lengthen_f(f,param, Lx, Nx);\n",
    "u = get_u(f,c);\n",
    "param, ps = get_param_full(Lx,Nx,ϕa,ϕp,v0);\n",
    "err, erri, avmag, cep = check_u_full(u,ps);\n",
    "println(\"ϕa,ϕp=($(ϕa),$(ϕp)): cep =$(cep), err=$(err),$(erri)\");\n",
    "\n",
    "f,u,c = solve_full(Lx,Nx,ϕa,ϕp,v0,u; tol = 1e-8, maxiters = 10);\n",
    "u = get_u(f,c);\n",
    "param, ps = get_param_full(Lx,Nx,ϕa,ϕp,v0);\n",
    "err, erri, avmag, cep = check_u_full(u,ps);\n",
    "println(\"ϕa,ϕp=($(ϕa),$(ϕp)): cep =$(cep), err=$(err),$(erri)\");"
   ]
  },
  {
   "cell_type": "code",
   "execution_count": null,
   "metadata": {},
   "outputs": [],
   "source": []
  },
  {
   "cell_type": "code",
   "execution_count": 294,
   "metadata": {},
   "outputs": [
    {
     "name": "stdout",
     "output_type": "stream",
     "text": [
      "ϕa,ϕp=(0.5,0.0): cep =-0.0013819804037916432, err=2.2018758543893013e-9,1680\n"
     ]
    },
    {
     "data": {
      "text/plain": [
       "25.0"
      ]
     },
     "metadata": {},
     "output_type": "display_data"
    }
   ],
   "source": [
    "# lengthen \n",
    "Lx,Nx,ϕa,ϕp,v0 = 25.0, 1600, 0.5,0.0, 7.5;\n",
    "f,u,c = load_full(Lx,Nx,ϕa,ϕp,v0);\n",
    "param, ps = get_param_full(Lx,Nx,ϕa,ϕp,v0);\n",
    "err, erri, avmag, cep = check_u_full(u,ps);\n",
    "println(\"ϕa,ϕp=($(ϕa),$(ϕp)): cep =$(cep), err=$(err),$(erri)\");\n",
    "old_Lx = copy(Lx);\n",
    "\n",
    "# for Lx in 60.0:10.0:100.0\n",
    "#     param, f = lengthen_f(f,param, Lx, Nx)\n",
    "#     u = get_u(f,old_Lx*c/Lx)\n",
    "#     f,u,c = solve_full(Lx,Nx,ϕa,ϕp,v0,u; tol = 1e-8, maxiters = 10)\n",
    "#     param, ps = get_param_full(Lx,Nx,ϕa,ϕp,v0);\n",
    "#     err, erri, avmag, cep = check_u_full(u,ps);\n",
    "#     println(\"Lx=$(Lx), ϕa,ϕp=($(ϕa),$(ϕp)): cep =$(cep), err=$(err),$(erri)\");\n",
    "#     if err > 1e-6\n",
    "#         break\n",
    "#     end\n",
    "#     old_Lx = copy(Lx) \n",
    "# end"
   ]
  }
 ],
 "metadata": {
  "kernelspec": {
   "display_name": "Julia 1.10.2",
   "language": "julia",
   "name": "julia-1.10"
  },
  "language_info": {
   "file_extension": ".jl",
   "mimetype": "application/julia",
   "name": "julia",
   "version": "1.10.2"
  }
 },
 "nbformat": 4,
 "nbformat_minor": 2
}
