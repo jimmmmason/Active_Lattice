{
 "cells": [
  {
   "cell_type": "code",
   "execution_count": null,
   "metadata": {
    "vscode": {
     "languageId": "julia"
    }
   },
   "outputs": [],
   "source": [
    "#Set up DRWatson\n",
    "cd(\"/home/jm2386/Active_Lattice/\")\n",
    "using DrWatson\n",
    "@quickactivate \"Active_Lattice\"\n",
    "# Load relevant fuctions\n",
    "include(\"/home/jm2386/Active_Lattice/src/pm_pde_functions.jl\")\n",
    "include(\"/home/jm2386/Active_Lattice/src/Hetrocline.jl\")"
   ]
  },
  {
   "cell_type": "code",
   "execution_count": null,
   "metadata": {
    "vscode": {
     "languageId": "julia"
    }
   },
   "outputs": [],
   "source": [
    "#compute bindoal\n",
    "Pe = 10.0\n",
    "γ = 1.0\n",
    "find_sol, lower_limits, upper_limits = colapse_sol_interval(;Pe = Pe, γ = γ, rho_max = (1-10e-16), initial_Δ = 1e-4, max_iter = 40, tol = 1e-12) \n",
    "ϕ1 = lower_limits[1]  \n",
    "ϕ2 = upper_limits[2] "
   ]
  },
  {
   "cell_type": "code",
   "execution_count": null,
   "metadata": {
    "vscode": {
     "languageId": "julia"
    }
   },
   "outputs": [],
   "source": [
    "#define problem\n",
    "using DifferentialEquations\n",
    "\n",
    "function f(du,u,parameters,t)\n",
    "    Pe = parameters[1]\n",
    "    γ = parameters[2]\n",
    "    ϕ1 = parameters[3]\n",
    "    du[1] = Pe*(1-u[1])*u[2]\n",
    "    du[2] = -Pe*u[2]^2 + Pe*( (1-γ*(1-u[1]))*self_diff(u[1]) -(1-γ*(1-ϕ1))*self_diff(ϕ1) )/self_diff(u[1]) -(2/Pe)*log( (1-u[1])/(1-ϕ1) )/self_diff(u[1])\n",
    "    return du\n",
    "end\n",
    "\n",
    "function f_jac(J,u,parameters,t)\n",
    "    Pe = parameters[1]\n",
    "    γ = parameters[2]\n",
    "    ϕ1 = parameters[3]\n",
    "    J[1,1] = -Pe*u[2]\n",
    "    J[1,2] =  Pe*(1-u[1])\n",
    "    J[2,1] =  self_diff_prime(u[1])*            (2/Pe)*log( (1-u[1])/(1-ϕ1) )/self_diff(u[1])^2              + (2/Pe)/(1-u[1])/self_diff(u[1])\n",
    "    J[2,1] += self_diff_prime(u[1])*Pe*((1-γ*(1-u[1]))*self_diff(u[1]) -(1-γ*(1-ϕ1))*self_diff(ϕ1) )/self_diff(u[1])^2  + Pe*(γ*self_diff(u[1]) +(1-γ*(1-u[1]))*self_diff_prime(u[1]) )/self_diff(u[1])\n",
    "    J[2,2] = -2*Pe*u[2]\n",
    "    return J\n",
    "end"
   ]
  },
  {
   "cell_type": "code",
   "execution_count": null,
   "metadata": {
    "vscode": {
     "languageId": "julia"
    }
   },
   "outputs": [],
   "source": [
    "#compute solution \n",
    "parameters = (Pe, γ, ϕ1, ϕ2)\n",
    "ff = ODEFunction(f;jac=f_jac)\n",
    "ϵ = 1e-10\n",
    "initial_position = [ϕ1+ϵ, 0.0]\n",
    "time_interval = (0.0, 20.0)\n",
    "\n",
    "ff = ODEFunction(f;jac=f_jac)\n",
    "prob = ODEProblem(ff,initial_position,time_interval, parameters)\n",
    "\n",
    "sol = DifferentialEquations.solve(prob,abstol = 1e-12, reltol = 1e-12)"
   ]
  },
  {
   "cell_type": "code",
   "execution_count": null,
   "metadata": {
    "vscode": {
     "languageId": "julia"
    }
   },
   "outputs": [],
   "source": [
    "#find central time\n",
    "t_mid_arg = argmax(sol[2,:])\n",
    "t_middle = sol.t[t_mid_arg]\n",
    "t_max = maximum(sol.t[:].-t_middle)\n",
    "t_min = minimum(sol.t[:].-t_middle)\n",
    "t_lim = round(min(t_max, - t_min))"
   ]
  },
  {
   "cell_type": "code",
   "execution_count": null,
   "metadata": {
    "vscode": {
     "languageId": "julia"
    }
   },
   "outputs": [],
   "source": [
    "#plot figure\n",
    "PyPlot.close(\"all\")\n",
    "fig, axs = plt.subplots(2, 1, figsize=(8,10))\n",
    "xlabels = [L\"\\rho\", L\"m\"]\n",
    "for i in 1:2\n",
    "    ax = axs[i]\n",
    "    ax.plot(sol.t[:].-t_middle, sol[i,:], color = \"black\")\n",
    "    axlim = [ -t_lim, t_lim, minimum(sol[i,:])-0.01, maximum(sol[i,:])+0.01]\n",
    "    ax.xaxis.set_tick_params(labelsize=15)\n",
    "    ax.xaxis.tick_bottom()\n",
    "    ax.yaxis.set_tick_params(labelsize=15)\n",
    "    ax.axis(axlim)\n",
    "    #ax.set_title(L\"\\Re{ \\lambda_n^\\mathrm{max}} = 0\",fontsize=20)\n",
    "    ax.set_ylabel(xlabels[i],fontsize=20)\n",
    "    ax.set_xlabel(L\"x\",fontsize=20)\n",
    "end\n",
    "fig_title = latexstring(\"\\$ \\\\mathrm{Pe} = $(Pe) \\$\")\n",
    "axs[1].set_title(fig_title,fontsize=20)\n",
    "display(fig)"
   ]
  },
  {
   "cell_type": "code",
   "execution_count": null,
   "metadata": {
    "vscode": {
     "languageId": "julia"
    }
   },
   "outputs": [],
   "source": [
    "#save figure\n",
    "name = \"Sol_Pe=$(Pe)\"\n",
    "    pathname = \"/store/DAMTP/jm2386/Active_Lattice/plots/active_passive_1d/$(name)\";\n",
    "    mkpath(pathname)\n",
    "    filename = \"/store/DAMTP/jm2386/Active_Lattice/plots/active_passive_1d/$(name)/Solution.pdf\";\n",
    "    PyPlot.savefig(filename,dpi = 100, format = \"pdf\") #bbox_extra_artists=( ldg,)"
   ]
  }
 ],
 "metadata": {
  "language_info": {
   "name": "python"
  },
  "orig_nbformat": 4
 },
 "nbformat": 4,
 "nbformat_minor": 2
}
