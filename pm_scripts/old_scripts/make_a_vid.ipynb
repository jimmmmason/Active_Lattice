{
 "cells": [
  {
   "cell_type": "code",
   "execution_count": 3,
   "metadata": {},
   "outputs": [
    {
     "name": "stderr",
     "output_type": "stream",
     "text": [
      "\u001b[32m\u001b[1m   Resolving\u001b[22m\u001b[39m package versions...\n"
     ]
    },
    {
     "name": "stderr",
     "output_type": "stream",
     "text": [
      "\u001b[32m\u001b[1m  No Changes\u001b[22m\u001b[39m to `/mhome/damtp/s/jm2386/Active_Lattice/Project.toml`\n",
      "\u001b[32m\u001b[1m  No Changes\u001b[22m\u001b[39m to `/mhome/damtp/s/jm2386/Active_Lattice/Manifest.toml`\n"
     ]
    },
    {
     "data": {
      "text/plain": [
       "vid_pde_plot_pm (generic function with 1 method)"
      ]
     },
     "metadata": {},
     "output_type": "display_data"
    }
   ],
   "source": [
    "#Set up DrWatson\n",
    "cd(\"/home/jm2386/Active_Lattice/\")\n",
    "using DrWatson\n",
    "@quickactivate \"Active_Lattice\"\n",
    "# Load relevant fuctions\n",
    "include(\"/home/jm2386/Active_Lattice/src/pm_pde_functions.jl\");\n",
    "include(\"/home/jm2386/Active_Lattice/src/Hetrocline.jl\");\n",
    "include(\"/home/jm2386/Active_Lattice/src/plot_functions.jl\");\n",
    "\n",
    "function animate_phase_pdes_pm(param,t_saves,fa_saves,fp_saves; frames = 99, ϕg = 0.0, ϕl = 1.0)\n",
    "    @unpack name, λ, ρa, ρp, Nx, Nθ, δt, Dθ, χ, γ = param\n",
    "    fig, axs = plt.subplots(2, 1, figsize=(10,10))\n",
    "    N = length(t_saves)\n",
    "    function makeframe(i)\n",
    "        clf()\n",
    "        ax1 = fig.add_subplot(211)\n",
    "        ax2 = fig.add_subplot(212)\n",
    "        axs = ax1, ax2\n",
    "        vid_pde_plot_pm(fig, axs, param, t_saves, fa_saves, fp_saves, i+1)\n",
    "        binod_liquid = ax1.plot(t_saves, ϕl*ones(N), color = \"black\", linestyle = \"--\", label = \"_liquid phase\")\n",
    "        binod_gas = ax1.plot(t_saves, ϕg*ones(N), color = \"black\",linestyle = \"--\", label = \"_gas phase\")\n",
    "        return fig\n",
    "    end\n",
    "    interval = 5*Int64(round(20000/frames))\n",
    "    myanim = anim.FuncAnimation(fig, makeframe, frames=frames, interval=interval)\n",
    "    # Convert it to an MP4 movie file and saved on disk in this format.\n",
    "    T = t_saves[Int64(round((frames+1)))]\n",
    "    pathname = \"/store/DAMTP/jm2386/Active_Lattice/plots/vids/pde_phase_vids/$(name)/active=$(ρa)_passive=$(ρp)_lamb=$(λ)\";\n",
    "    mkpath(pathname)\n",
    "    filename = \"/store/DAMTP/jm2386/Active_Lattice/plots/vids/pde_phase_vids/$(name)/active=$(ρa)_passive=$(ρp)_lamb=$(λ)/time=$(round(T; digits = 5))_Nx=$(Nx)_Nθ=$(Nθ)_active=$(ρa)_passive=$(ρp)_lamb=$(λ).mp4\";\n",
    "    myanim[:save](filename, bitrate=-1, dpi= 100, extra_args=[\"-vcodec\", \"libx264\", \"-pix_fmt\", \"yuv420p\"])\n",
    "end\n",
    "\n",
    "function make_phase_video_pm(param; skip_factor = 10, ϕg = 0.0, ϕl = 1.0)\n",
    "    @unpack T, save_interval = param\n",
    "    save_interval = save_interval*skip_factor\n",
    "    t_saves, fa_saves, fp_saves = load_pdes_pm(param,T; save_interval = save_interval)\n",
    "    frames = Int64(length(t_saves))\n",
    "    animate_phase_pdes_pm(param,t_saves,fa_saves,fp_saves; frames = frames-1,ϕg =ϕg, ϕl = ϕl)\n",
    "end\n",
    "\n",
    "function vid_pde_plot_pm(fig::Figure, axs, param::Dict{String,Any}, t_saves, fa_saves, fp_saves, i)\n",
    "    @unpack Nx, Nθ, ρa, ρp, χ, Dθ, Dx, k, γ,Pe = param\n",
    "    ρa_saves, ρp_saves = deepcopy(spatial_density_pm.(fa_saves)), deepcopy(fp_saves)\n",
    "\n",
    "    push!(ρa_saves[i], ρa_saves[i][1])\n",
    "    push!(ρp_saves[i], ρp_saves[i][1])\n",
    "\n",
    "    ρsum = ρp_saves[i]+ρa_saves[i]\n",
    "\n",
    "    axs[1].plot((0:1:Nx)/Nx,ρa_saves[i], color = \"red\", label = L\"\\rho^a\")\n",
    "    axs[1].plot((0:1:Nx)/Nx,ρsum, color = \"black\", label = L\"\\rho\")\n",
    "    axs[1].plot((0:1:Nx)/Nx,ρp_saves[i], color = \"blue\", label = L\"\\rho^p\")\n",
    "\n",
    "    axs[1].xaxis.set_ticks(0.:0.2:1.0)\n",
    "    axs[1].xaxis.set_tick_params(labelsize=15)\n",
    "    axs[1].yaxis.set_tick_params(labelsize=15)\n",
    "    rhomax = maximum(maximum(ρa_saves))+maximum(maximum(ρp_saves))\n",
    "    axs[1].axis([0., 1., 0. , rhomax])\n",
    "    #axs[1].axis([0., 1., min(minimum(minimum(ρa_saves)),minimum(minimum(ρp_saves))),maximum(maximum( ρa_saves+ρp_saves ))])\n",
    "    axs[1].set_xlabel(L\"x\",fontsize=20)\n",
    "    #axs[1].set_ylabel(L\"\\rho,\",fontsize=20)\n",
    "    title = latexstring(\"\\$ \\\\ell = $(round(1/sqrt(Dθ); digits = 2)), \\\\chi = $(χ), \\\\phi = $(ρa+ρp), \\\\mathrm{Pe} = $(round(Pe; digits = 3)), t = $(round(t_saves[i]; digits = 3))\\$\")\n",
    "    axs[1].set_title(title,fontsize=20)\n",
    "\n",
    "    mat1 = zeros(1, Nx+1)\n",
    "    mat2= zeros(1, Nx+1)\n",
    "    mags = mag_pm(fa_saves[i]; Nθ = Nθ)\n",
    "    push!(mags,mags[1])\n",
    "    mat1[1, :] = mags\n",
    "    mat2[1, :] = mags.*(-ρsum.+1)\n",
    "\n",
    "    #colmap = PyPlot.plt.cm.seismic\n",
    "    colmap = PyPlot.plt.cm.PRGn\n",
    "    norm1 = matplotlib.colors.Normalize(vmin= -rhomax*0.5 , vmax= rhomax*0.5) \n",
    "    #norm1 = matplotlib.colors.Normalize(vmin= -maximum(abs.(mags)) , vmax= maximum(abs.(mags)) )\n",
    "    #norm2 = matplotlib.colors.Normalize(vmin= minimum(mags/10) , vmax= maximum(mags)/10 )\n",
    "\n",
    "    axs[2].matshow(mat1; norm = norm1,  cmap = colmap, extent = [0., 1., 0., 0.1])\n",
    "    #axs[3].matshow(mat2; norm = norm2,  cmap = colmap, extent = [0., 1., 0., 0.1])\n",
    "\n",
    "    axs[2].set_aspect(1.)\n",
    "    #axs[3].set_aspect(1.)\n",
    "\n",
    "    axs[2].xaxis.set_ticks(0.:0.2:1.0)\n",
    "    axs[2].yaxis.set_ticks([])\n",
    "    axs[2].xaxis.set_tick_params(labelsize=15)\n",
    "    axs[2].xaxis.tick_bottom()\n",
    "    #ax.set_title(L\"\\Re{ \\lambda_n^\\mathrm{max}} = 0\",fontsize=20)\n",
    "    #ax.set_xlabel(L\"x\",fontsize=20)\n",
    "\n",
    "    axs[2].set_ylabel(L\"\\mathbf{p}\", fontsize=20, rotation=0)\n",
    "    axs[2].yaxis.set_label_coords(-.05, .5)\n",
    "\n",
    "    lines, labels = axs[1].get_legend_handles_labels()\n",
    "    fig.tight_layout()\n",
    "    ldg = fig.legend(lines, labels, loc = \"center right\", fontsize=20, bbox_to_anchor = (0.25, 0.25, 1, 1),\n",
    "    bbox_transform = plt.gcf().transFigure)\n",
    "\n",
    "    return fig\n",
    "end"
   ]
  },
  {
   "cell_type": "code",
   "execution_count": 6,
   "metadata": {},
   "outputs": [],
   "source": [
    "# parameters\n",
    "Pe = 7.5;\n",
    "initial_Δ = 1e-4;\n",
    "max_iter = 40;\n",
    "tol = 1e-3;\n",
    "atol = 1e-12;\n",
    "rho_max = (1-10e-20);"
   ]
  },
  {
   "cell_type": "code",
   "execution_count": 7,
   "metadata": {},
   "outputs": [
    {
     "data": {
      "text/plain": [
       "(0.4561127797358473, 0.2576307885461776)"
      ]
     },
     "metadata": {},
     "output_type": "display_data"
    }
   ],
   "source": [
    "#quick solve\n",
    "Pe = 7.5;\n",
    "γ_limit = find_gamma_limit(;Pe = Pe, initial_Δ = initial_Δ, γ_max = 100.)\n",
    "γ = 1.9 # γ_limit-0.00001\n",
    "find_sol, lower_limits, upper_limits = colapse_sol_interval(;Pe = Pe, γ = γ, rho_max = rho_max, initial_Δ = initial_Δ, max_iter = max_iter, tol = tol, atol = atol)\n",
    "gamma_converter(γ, lower_limits[1])"
   ]
  },
  {
   "cell_type": "code",
   "execution_count": 13,
   "metadata": {},
   "outputs": [
    {
     "data": {
      "text/plain": [
       "Dict{String, Any} with 31 entries:\n",
       "  \"λs\"            => 20.0:20.0:100.0\n",
       "  \"T\"             => 4.0\n",
       "  \"video_length\"  => 10000.0\n",
       "  \"save_interval\" => 0.01\n",
       "  \"max_runs\"      => 6\n",
       "  \"Pe\"            => 7.5\n",
       "  \"λ_step\"        => 10.0\n",
       "  \"δ\"             => 0.01\n",
       "  \"Nθ\"            => 2\n",
       "  \"name\"          => \"pm_pde_run_2_δ=0.01_l=0.01\"\n",
       "  \"δt\"            => 1.0e-5\n",
       "  \"λ\"             => 750.0\n",
       "  \"Dθ\"            => 10000.0\n",
       "  \"cbar_max\"      => 1.0\n",
       "  \"Dx\"            => 1.0\n",
       "  \"cbar_min\"      => 0.0\n",
       "  \"Nx\"            => 512\n",
       "  \"k\"             => 20\n",
       "  \"pert\"          => \"rand\"\n",
       "  ⋮               => ⋮"
      ]
     },
     "metadata": {},
     "output_type": "display_data"
    }
   ],
   "source": [
    "# set parameters\n",
    "ρ = 0.3+0.5\n",
    "χ = 0.5/ρ\n",
    "Pe = 7.5\n",
    "pert = \"rand\"\n",
    "    T  = 4.0\n",
    "    δ  = 1e-2\n",
    "    save_interval = 0.01\n",
    "    Dx = 1. \n",
    "    Dθ = 10000.0\n",
    "    Nx = 512\n",
    "    Nθ = 2\n",
    "    max_steps = 1e7\n",
    "name = \"pm_pde_run_2_δ=$(δ)_l=$(1/sqrt(Dθ))\"\n",
    "#\n",
    "param = pde_param_pm(; name = name, \n",
    "                                ρ = ρ, Pe = Pe, χ = χ, T = T, \n",
    "                                Dθ = Dθ, δt = 1e-5, Nx = Nx, Nθ = Nθ, \n",
    "                                save_interval = save_interval, max_steps =  max_steps,\n",
    "                                pert = pert, δ = δ,\n",
    "                        )\n",
    "\n",
    "\n",
    "\n",
    "\n"
   ]
  },
  {
   "cell_type": "code",
   "execution_count": 14,
   "metadata": {},
   "outputs": [
    {
     "data": {
      "text/plain": [
       "10000000"
      ]
     },
     "metadata": {},
     "output_type": "display_data"
    }
   ],
   "source": [
    "@unpack T, save_interval, max_steps, pert, δ = param\n",
    "density = initialize_density_pm(param)\n",
    "perturb_pde_pm!(param, density; δ = 1e-4, pert = \"pm_lin\")\n",
    "run_pde_until_pm!(param,density,T; save_on = true, max_steps = max_steps, save_interval = save_interval)"
   ]
  },
  {
   "cell_type": "code",
   "execution_count": 8,
   "metadata": {},
   "outputs": [],
   "source": [
    "#make vid\n",
    "make_phase_video_pm(param; skip_factor = 10)"
   ]
  },
  {
   "cell_type": "code",
   "execution_count": null,
   "metadata": {},
   "outputs": [],
   "source": []
  }
 ],
 "metadata": {
  "kernelspec": {
   "display_name": "Julia 1.8.1",
   "language": "julia",
   "name": "julia-1.8"
  },
  "language_info": {
   "file_extension": ".jl",
   "mimetype": "application/julia",
   "name": "julia",
   "version": "1.8.1"
  },
  "orig_nbformat": 4
 },
 "nbformat": 4,
 "nbformat_minor": 2
}
