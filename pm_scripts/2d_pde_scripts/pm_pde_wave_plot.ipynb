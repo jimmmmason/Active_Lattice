{
 "cells": [
  {
   "cell_type": "code",
   "execution_count": 9,
   "metadata": {},
   "outputs": [
    {
     "name": "stdout",
     "output_type": "stream",
     "text": [
      "v1.0\n",
      "v1.1\n"
     ]
    },
    {
     "name": "stdout",
     "output_type": "stream",
     "text": [
      "v2.1\n"
     ]
    }
   ],
   "source": [
    "cd(\"/home/jm2386/Active_Lattice/\")\n",
    "using DrWatson\n",
    "@quickactivate \"Active_Lattice\"\n",
    "include(\"/home/jm2386/Active_Lattice/src/2d_pdes.jl\");\n",
    "include(\"/home/jm2386/Active_Lattice/src/2d_sims.jl\");\n",
    "include(\"/home/jm2386/Active_Lattice/src/2d_plot.jl\");"
   ]
  },
  {
   "cell_type": "code",
   "execution_count": 12,
   "metadata": {},
   "outputs": [
    {
     "data": {
      "text/plain": [
       "4-element Vector{Tuple{ComplexF64, Vector{ComplexF64}}}:\n",
       " (0.14222650742100668 + 8.149275261526953e-17im, [0.7122030741380849 + 0.0im, -0.536344723422986 - 2.152556068408315e-16im, 2.3422189026442213e-16 - 0.4519052257689367im, -0.029698385720590068 - 3.779609537637431e-17im, 1.0444840160404859e-17 + 0.0008896202508392547im, 1.5122215893318102e-5 + 1.8616181363726077e-19im, 2.787083432457926e-21 - 1.651820153599327e-7im, -1.255735019577249e-9 - 4.2528459519802045e-23im, -2.385815416304108e-25 + 7.022813786180575e-12im, 3.009612523523634e-14 + 1.9750321042084604e-27im, 6.859450555831123e-30 - 1.0196765639599794e-16im])\n",
       " (0.06963230988203653 + 0.03096160537067711im, [0.8949783535520066 + 0.0im, -0.35891847396277876 - 0.09086868043737224im, 0.11118888828488127 - 0.22218627026293478im, -0.012830428093278747 - 0.006300285020070033im, -0.00016234421573825558 + 0.0003334728171834216im, 4.896339627920894e-6 + 2.372045142594297e-6im, 2.2263849261237436e-8 - 4.6101537448392646e-8im, -3.01756060736621e-10 - 1.4540825526374142e-10im, -6.98571361107274e-13 + 1.4520391997960964e-12im, 5.351737418390169e-15 + 2.5715210170803463e-15im, 7.483440794402598e-18 - 1.558945398343635e-17im])\n",
       " (0.04467659838655677 - 0.05877351820397707im, [0.9256991550660333 + 0.0im, -0.2692058999559122 + 0.14476792130880403im, -0.18775753194018177 - 0.11950237686970991im, -0.005957648571708503 + 0.009069056582377505im, 0.00019772584111978642 + 0.00013173145966720694im, 1.637160835917078e-6 - 2.437971696391826e-6im, -1.928652955605601e-8 - 1.3017105653057365e-8im, -7.186013716674054e-11 + 1.0609688854518113e-10im, 4.2915118227926004e-13 + 2.9141740048589495e-13im, 9.04742273567346e-16 - 1.3297280120678722e-15im, -3.256635342899072e-18 - 2.219258937574807e-18im])\n",
       " (0.01698471453677642 + 0.0680597313564068im, [0.9500273416176077 + 0.0im, -0.19734737455538637 - 0.14063148097705153im, 0.19432290633243873 - 0.030016861635231883im, -0.0013374630964634528 - 0.007787016914812209im, -0.00013969415802976781 + 2.5077394226762817e-5im, 2.598808957361616e-7 + 1.4131652823434203e-6im, 9.159811626021674e-9 - 1.710241070900525e-9im, -7.783633212196847e-12 - 4.1256055141321454e-11im, -1.365707865682289e-13 + 2.5962668784634526e-14im, 6.61987680944498e-17 + 3.462178141858986e-16im, 6.93600799742426e-19 - 1.3322424199386396e-19im])"
      ]
     },
     "metadata": {},
     "output_type": "display_data"
    }
   ],
   "source": [
    "#find wave parameters\n",
    "DT, DR, N, Nθ, Δx, Lx, Ly, δt, δ, ϕa, v0 = (1.0, 1.0, 32, 20, 0.2, 10.0, 10.0, 1e-5, 0.1, 0.5, 10.0);\n",
    "T, save_interval, param_name = (20.0, 0.1, \"test\")\n",
    "Params = []\n",
    "map(0.34:0.02:0.4) do ϕp\n",
    "    param = _2d_new_param(DT, v0, DR, N, Nθ, Δx, Lx, Ly, ϕa, ϕp, δt, δ; T = T, name = param_name, save_interval = save_interval, save_on = true)\n",
    "    push!(Params,param)\n",
    "end\n",
    "values = map(lin_pert_values,Params)"
   ]
  },
  {
   "cell_type": "code",
   "execution_count": 4,
   "metadata": {},
   "outputs": [
    {
     "ename": "MethodError",
     "evalue": "MethodError: no method matching getindex(::typeof(params), ::Int64)",
     "output_type": "error",
     "traceback": [
      "MethodError: no method matching getindex(::typeof(params), ::Int64)\n",
      "\n",
      "Stacktrace:\n",
      " [1] top-level scope\n",
      "   @ ~/Active_Lattice/pm_scripts/2d_pde_scripts/pm_pde_wave_plot.ipynb:1"
     ]
    }
   ],
   "source": [
    "param = Params[2]\n",
    "ts, fs = load_compress_pde(param);"
   ]
  },
  {
   "cell_type": "code",
   "execution_count": 2,
   "metadata": {},
   "outputs": [
    {
     "ename": "UndefVarError",
     "evalue": "UndefVarError: param not defined",
     "output_type": "error",
     "traceback": [
      "UndefVarError: param not defined\n",
      "\n",
      "Stacktrace:\n",
      " [1] top-level scope\n",
      "   @ ~/Active_Lattice/pm_scripts/2d_pde_scripts/pm_pde_wave_plot.ipynb:9"
     ]
    }
   ],
   "source": [
    "# create fig\n",
    "    using PyPlot\n",
    "    PyPlot.close(\"all\")\n",
    "    rc(\"text\", usetex=true)\n",
    "    fig = plt.figure(figsize=(10,5))\n",
    "# add image\n",
    "    ax      = fig.add_axes([0.1, 0.1, 0.3, 0.6])\n",
    "    cbar_ax = fig.add_axes([0.41, 0.1, 0.02, 0.6])\n",
    "    plot_pde_rho(ax, cbar_ax, param, f; cmin = 0.0, cmax = 1.0, cbar = true)\n",
    "    ax      = fig.add_axes([0.55, 0.1, 0.3, 0.6])\n",
    "    cbar_ax = fig.add_axes([0.86, 0.1, 0.02, 0.6])\n",
    "    plot_pde_mag(ax, cbar_ax, param, f; cmin = -0.4, cmax = 0.4, cbar = true, density = 0.5)\n",
    "#\n",
    "display(fig)"
   ]
  },
  {
   "cell_type": "code",
   "execution_count": 61,
   "metadata": {},
   "outputs": [],
   "source": [
    "using PyCall\n",
    "@pyimport matplotlib.animation as anim\n",
    "\n",
    "fig, axs = plt.subplots(1, 1, figsize=(5,5))\n",
    "@unpack save_interval = param\n",
    "scale_factor = 10\n",
    "interval  = save_interval*scale_factor*1000\n",
    "frames    = Int64( length(ts)/scale_factor ÷ 1)\n",
    "function makeframe(i)\n",
    "        clf()\n",
    "        ax = fig.add_subplot(111)\n",
    "        t, f = ts[i+1], fs[i+1]\n",
    "        # add image\n",
    "                ax      = fig.add_axes([0.1, 0.1, 0.3, 0.6])\n",
    "                cbar_ax = fig.add_axes([0.41, 0.1, 0.02, 0.6])\n",
    "                plot_pde_rho(ax, cbar_ax, param, f; cmin = 0.0, cmax = 1.0, cbar = true)\n",
    "                ax      = fig.add_axes([0.55, 0.1, 0.3, 0.6])\n",
    "                cbar_ax = fig.add_axes([0.86, 0.1, 0.02, 0.6])\n",
    "                plot_pde_mag(ax, cbar_ax, param, f; cmin = -0.4, cmax = 0.4, cbar = true, density = 0.5)\n",
    "        #\n",
    "        return fig\n",
    "end\n",
    "myanim = anim.FuncAnimation(fig, makeframe, frames=frames, interval=interval)\n",
    "# Convert it to an MP4 movie file and saved on disk in this format.\n",
    "        filename, pathname = pde_vid_save_name(param,ts[end])\n",
    "        mkpath(pathname)\n",
    "        myanim[:save](filename, bitrate=-1, dpi= 100, extra_args=[\"-vcodec\", \"libx264\", \"-pix_fmt\", \"yuv420p\"])"
   ]
  }
 ],
 "metadata": {
  "kernelspec": {
   "display_name": "Julia 1.8.1",
   "language": "julia",
   "name": "julia-1.8"
  },
  "language_info": {
   "file_extension": ".jl",
   "mimetype": "application/julia",
   "name": "julia",
   "version": "1.8.1"
  },
  "orig_nbformat": 4
 },
 "nbformat": 4,
 "nbformat_minor": 2
}
