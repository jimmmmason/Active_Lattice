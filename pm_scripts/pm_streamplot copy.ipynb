{
 "cells": [
  {
   "cell_type": "code",
   "execution_count": 1,
   "metadata": {},
   "outputs": [
    {
     "name": "stderr",
     "output_type": "stream",
     "text": [
      "\u001b[32m\u001b[1m    Updating\u001b[22m\u001b[39m registry at `~/.julia/registries/General.toml`\n"
     ]
    },
    {
     "name": "stderr",
     "output_type": "stream",
     "text": [
      "\u001b[32m\u001b[1m   Resolving\u001b[22m\u001b[39m package versions...\n"
     ]
    },
    {
     "name": "stderr",
     "output_type": "stream",
     "text": [
      "\u001b[32m\u001b[1m  No Changes\u001b[22m\u001b[39m to `/mhome/damtp/s/jm2386/Active_Lattice/Project.toml`\n",
      "\u001b[32m\u001b[1m  No Changes\u001b[22m\u001b[39m to `/mhome/damtp/s/jm2386/Active_Lattice/Manifest.toml`\n"
     ]
    },
    {
     "data": {
      "text/plain": [
       "fake_spin_boundary (generic function with 1 method)"
      ]
     },
     "metadata": {},
     "output_type": "display_data"
    }
   ],
   "source": [
    "#Set up DRWatson\n",
    "cd(\"/home/jm2386/Active_Lattice/\")\n",
    "using DrWatson\n",
    "@quickactivate \"Active_Lattice\"\n",
    "# Load relevant fuctions\n",
    "include(\"/home/jm2386/Active_Lattice/src/pm_pde_functions.jl\")\n",
    "include(\"/home/jm2386/Active_Lattice/src/Hetrocline.jl\")"
   ]
  },
  {
   "cell_type": "code",
   "execution_count": 2,
   "metadata": {},
   "outputs": [
    {
     "data": {
      "text/plain": [
       "(0.35985638771544043, 0.9693916139039973)"
      ]
     },
     "metadata": {},
     "output_type": "display_data"
    }
   ],
   "source": [
    "# set parameters\n",
    "ϕa = 0.6\n",
    "ϕp = 0.1\n",
    "Pe = 7.5\n",
    "#\n",
    "ρ = ϕa+ϕp\n",
    "χ = ϕa/ρ\n",
    "pert = \"pm_lin\"\n",
    "    T  = 0.1\n",
    "    δ  = 1e-4\n",
    "    save_interval = 0.0001\n",
    "    Dx = 1. \n",
    "    Dθ = 10000.0\n",
    "    Nx = 512\n",
    "    Nθ = 2\n",
    "name = \"pm_bin_test_9_pde_δ=$(δ)_l=$(1/sqrt(Dθ))\"\n",
    "#\n",
    "param = pde_param_pm(; name = name, \n",
    "                                ρ = ρ, Pe = Pe, χ = χ, T = T, \n",
    "                                Dθ = Dθ, δt = 1e-5, Nx = Nx, Nθ = Nθ, \n",
    "                                save_interval = save_interval, max_steps = 1e7,\n",
    "                                pert = pert, δ = δ,\n",
    ");#compute bindoal\n",
    "Pe = 10.0\n",
    "initial_Δ = 1e-4;\n",
    "max_iter = 40;\n",
    "tol = 1e-3;\n",
    "atol = 1e-12;\n",
    "rho_max = (1-10e-20);\n",
    "γ = (1-ϕa)/(1-ρ);\n",
    "\n",
    "find_sol, lower_limits, upper_limits = colapse_sol_interval(;Pe = Pe, γ = γ, rho_max = rho_max, initial_Δ = initial_Δ, max_iter = max_iter, tol = tol, atol = atol);\n",
    "ϕg = lower_limits[1]\n",
    "ϕl = upper_limits[1]\n",
    "ϕg, ϕl "
   ]
  },
  {
   "cell_type": "code",
   "execution_count": 3,
   "metadata": {},
   "outputs": [],
   "source": [
    "#compute velocitites\n",
    "ϵ = 1e-10\n",
    "Δx = 0.0001\n",
    "Δy = 0.0001\n",
    "\n",
    "x = collect((ϕg-0.1+ϵ):Δx:(0.9999))\n",
    "y = collect((-0.999):Δy:0.999)\n",
    "\n",
    "xx = [x̃ for x̃ ∈ x, ỹ ∈ y]\n",
    "    yy = [ỹ for x̃ ∈ x, ỹ ∈ y]\n",
    "    Nx = length(x)\n",
    "    Ny = length(y)\n",
    "    v = zeros(Nx,Ny,2)\n",
    "    for i in 1:Nx, j in 1:Ny\n",
    "        ρ = x[i]\n",
    "        m = y[j]\n",
    "        v[i,j,1] = Pe*(1-ρ)*m\n",
    "        v[i,j,2] = -Pe*m^2 + Pe*( (1-γ*(1-ρ) )*self_diff(ρ) -( 1-γ*(1- ϕg) )*self_diff(ϕg) )/self_diff(ρ) -(2/Pe)*log( (1-ρ)/(1-ϕg) )/self_diff(ρ)\n",
    "    end"
   ]
  },
  {
   "cell_type": "code",
   "execution_count": 4,
   "metadata": {},
   "outputs": [],
   "source": [
    "#plot fig\n",
    "PyPlot.close(\"all\")\n",
    "fig, ax = plt.subplots(1, 1, figsize=(10,10))\n",
    "    max_value = 1\n",
    "    absmag  = min.(sqrt.(v[:,:,1].^2+v[:,:,2].^2), max_value)\n",
    "    colmap = PyPlot.plt.cm.viridis\n",
    "    streamlines = ax.streamplot(xx', yy', v[:,:,1]', v[:,:,2]', color = absmag', cmap = colmap, density = 4)#2.5\n",
    "    norm1 = matplotlib.colors.Normalize(vmin=0., vmax= max_value);\n",
    "    fig.colorbar(matplotlib.cm.ScalarMappable(norm=norm1, cmap = colmap), ax = ax, fraction = 0.0455)\n",
    "pertubation = [ϕg+ϵ 0.0]\n",
    "ax.streamplot(xx', yy', v[:,:,1]', v[:,:,2]', color=\"red\", start_points= pertubation)\n",
    "# fig options\n",
    "rc(\"text\", usetex=true)\n",
    "    #ax.yaxis.set_ticks(ytic)\n",
    "    axlim = [0.2, 1.0, -1.0, 1.0]\n",
    "    ax.xaxis.set_tick_params(labelsize=15)\n",
    "    ax.xaxis.tick_bottom()\n",
    "    ax.yaxis.set_tick_params(labelsize=15)\n",
    "    ax.axis(axlim)\n",
    "    #ax.set_title(L\"\\Re{ \\lambda_n^\\mathrm{max}} = 0\",fontsize=20)\n",
    "    ax.set_xlabel(L\"\\rho\",fontsize=20)\n",
    "    ax.set_ylabel(L\"m\", fontsize=20)\n",
    "    #ax.legend(loc = \"upper left\", fontsize=20)\n",
    "    #ax.set_aspect(0.25*Δρ/ΔPe)\n",
    "    #title = latexstring(\"\\$ \\\\ell = $(round(1/sqrt(Dθ); digits = 2)), \\\\chi = $(χ) \\$\")\n",
    "    #ax.set_title(title,fontsize=20)\n",
    "    fig.tight_layout()\n",
    "display(fig)"
   ]
  },
  {
   "cell_type": "code",
   "execution_count": null,
   "metadata": {},
   "outputs": [],
   "source": [
    "#save fig\n",
    "name = \"Streamplot_Pe=$(Pe)\"\n",
    "    pathname = \"/store/DAMTP/jm2386/Active_Lattice/plots/active_passive_1d/$(name)\";\n",
    "    mkpath(pathname)\n",
    "    filename = \"/store/DAMTP/jm2386/Active_Lattice/plots/active_passive_1d/$(name)/Streamplot.pdf\";\n",
    "    PyPlot.savefig(filename,dpi = 100, format = \"pdf\") #bbox_extra_artists=( ldg,)\n",
    "##"
   ]
  }
 ],
 "metadata": {
  "kernelspec": {
   "display_name": "Julia 1.8.1",
   "language": "julia",
   "name": "julia-1.8"
  },
  "language_info": {
   "file_extension": ".jl",
   "mimetype": "application/julia",
   "name": "julia",
   "version": "1.8.1"
  },
  "orig_nbformat": 4
 },
 "nbformat": 4,
 "nbformat_minor": 2
}
