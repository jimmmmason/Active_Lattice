{
 "cells": [
  {
   "cell_type": "code",
   "execution_count": 43,
   "metadata": {},
   "outputs": [
    {
     "data": {
      "text/plain": [
       "load_compress_sim (generic function with 1 method)"
      ]
     },
     "metadata": {},
     "output_type": "display_data"
    }
   ],
   "source": [
    "using StatsBase, DrWatson, Random\n",
    "\n",
    "function weight_index(i::Int64,j::Int64,k::Int64; Nx::Int64 = 1, Ny::Int64 = 1)\n",
    "    return i + Nx*(j-1) + Nx*Ny*(k-1)\n",
    "end\n",
    "\n",
    "function new_sim_param(DT::Float64, v0::Float64, DR::Float64, N::Int64, L::Int64, ϕa::Float64, ϕp::Float64; T::Float64 = 0.001, name::String = \"test\", save_interval::Float64 = 0.001, save_on::Bool = false)\n",
    "    param::Dict{String, Any} = Dict{String,Any}()\n",
    "    N₁::Int64,N₂::Int64 = L*N, N\n",
    "    @pack! param = DT, v0, DR, N, L, ϕa, ϕp, T , name, N₁, N₂, save_interval, save_on\n",
    "    return param\n",
    "end\n",
    "\n",
    "function get_jump_rate(η::Array{Float64, 3}, x₁::Int64, x₂::Int64, y₁::Int64, y₂::Int64, jump::Int64, DT::Float64, v0::Float64, N::Int64, N₁::Int64,N₂::Int64)\n",
    "    is_valid::Int64 = η[x₁, x₂,1]*(1-η[y₁, y₂,1])\n",
    "    bias::Float64 = 0.\n",
    "    if jump == 2 #left\n",
    "        bias  = -η[x₁, x₂,2]\n",
    "    elseif jump == 3 #right\n",
    "        bias  = η[x₁, x₂,2]\n",
    "    end\n",
    "    return is_valid*( DT*N^2 + v0*bias*N ) \n",
    "end\n",
    "\n",
    "function initiate_uniform(ϕa::Float64, ϕp::Float64, N₁,N₂)\n",
    "    η::Array{Float64, 3} = zeros(N₁,N₂,2)\n",
    "    # x₁, x₂, spin = i, j , k\n",
    "    w::Weights{Float64, Float64, Vector{Float64}} = weights([ϕa/2, ϕa/2, ϕp, (1 - ϕa - ϕp)])\n",
    "    particle::Vector{Vector{Int64}} = [ [1,1], [1,-1], [1,0], [0,0]]\n",
    "    for x₁ in 1:N₁, x₂ in 1:N₂\n",
    "        η[x₁, x₂, :] = sample(particle,w)\n",
    "    end\n",
    "    return η\n",
    "end\n",
    "\n",
    "function initiate_weights(η::Array{Float64, 3}, N₁::Int64, N₂::Int64, DT::Float64, v0::Float64, DR::Float64, N::Int64)\n",
    "    w::Array{Float64, 3} = zeros(N₁,N₂,5)\n",
    "    jumps::Vector{Tuple{Int64, Int64}} = [(i,j) for i in -1:1:1, j in -1:1:1 if i^2+j^2 ==1 ];\n",
    "    for x₁ in 1:N₁, x₂ in 1:N₂, jump in 1:4\n",
    "        local y₁::Int64, y₂::Int64\n",
    "        # find adjacent site\n",
    "        y₁, y₂ = ( (x₁, x₂) .+ jumps[jump] .+ (N₁-1, N₂-1) ).% (N₁, N₂) .+ (1,1)\n",
    "        w[x₁, x₂, jump] =  get_jump_rate(η, x₁, x₂, y₁, y₂, jump, DT, v0, N, N₁,N₂)\n",
    "    end\n",
    "    for x₁ in 1:N₁, x₂ in 1:N₂\n",
    "        local jump::Int64\n",
    "        jump = 5\n",
    "        w[x₁, x₂, jump] = DR*η[x₁, x₂,2]^2\n",
    "    end\n",
    "    return weights(w)\n",
    "end\n",
    "\n",
    "function model_step!(η::Array{Float64, 3}, w::Weights{Float64, Float64, Vector{Float64}}, t::Float64, N₁::Int64, N₂::Int64, DT::Float64, v0::Float64, N::Int64, jumps::Vector{Tuple{Int64,Int64}}) \n",
    "    #update total propensity\n",
    "    prop::Float64 = sum(w)\n",
    "    #update time\n",
    "    t += randexp()/prop\n",
    "    #select jump\n",
    "    x::Array{Tuple{Int64, Int64, Int64}, 3} = [ (i,j,k) for i in 1:N₁, j in 1:N₂, k in 1:5]\n",
    "    x₁::Int64, x₂::Int64, jump::Int64 =  sample(x,w)\n",
    "    if jump == 5\n",
    "        #execute jump\n",
    "        η[x₁, x₂, 2] = - η[x₁, x₂, 2]\n",
    "        #update rates\n",
    "        for jump in 1:4\n",
    "            local y₁::Int64, y₂::Int64\n",
    "            # find adjacent site\n",
    "            y₁, y₂ = ( (x₁, x₂) .+ jumps[jump] .+ (N₁-1, N₂-1) ).% (N₁, N₂) .+ (1,1)\n",
    "            w[weight_index(x₁, x₂,jump; Nx =N₁, Ny =N₂)] = get_jump_rate(η, x₁, x₂,y₁, y₂, jump, DT, v0, N, N₁,N₂)\n",
    "        end\n",
    "    else\n",
    "        local y₁::Int64, y₂::Int64\n",
    "        # find adjacent site\n",
    "        y₁, y₂ = ( (x₁, x₂) .+ jumps[jump] .+ (N₁-1, N₂-1) ).% (N₁, N₂) .+ (1,1)\n",
    "        # swap particles\n",
    "        η[x₁, x₂, :], η[y₁, y₂, :] = η[y₁, y₂, :], η[x₁, x₂, :]\n",
    "        # set hop rates\n",
    "        for jump in 1:4\n",
    "            local z₁::Int64, z₂::Int64 \n",
    "            #update adjacent sites to x\n",
    "            z₁, z₂ = ( (x₁, x₂) .+ jumps[jump] .+ (N₁-1, N₂-1) ).% (N₁, N₂) .+ (1,1)\n",
    "            w[weight_index(x₁, x₂,  jump; Nx =N₁, Ny =N₂)] = 0. # as x is empty\n",
    "            w[weight_index(z₁, z₂,5-jump; Nx =N₁, Ny =N₂)] = get_jump_rate(η, z₁, z₂, x₁, x₂, 5-jump, DT, v0, N, N₁,N₂)\n",
    "        \n",
    "            #update adjacent sites to y\n",
    "            z₁, z₂ = ( (y₁, y₂) .+ jumps[jump] .+ (N₁-1, N₂-1) ).% (N₁, N₂) .+ (1,1)\n",
    "            w[weight_index(y₁, y₂,  jump; Nx =N₁, Ny =N₂)] = get_jump_rate(η, y₁, y₂, z₁, z₂,   jump, DT, v0, N, N₁,N₂)\n",
    "            w[weight_index(z₁, z₂,5-jump; Nx =N₁, Ny =N₂)] = get_jump_rate(η, z₁, z₂, y₁, y₂, 5-jump, DT, v0, N, N₁,N₂)\n",
    "        end\n",
    "        # set flip rates\n",
    "        w[weight_index(x₁, x₂, 5; Nx =N₁, Ny =N₂)] = 0.\n",
    "        w[weight_index(y₁, y₂, 5; Nx =N₁, Ny =N₂)] = DR*η[y₁, y₂, 2]^2\n",
    "    end\n",
    "    return t\n",
    "end\n",
    "\n",
    "function sim_save_name(param::Dict{String, Any},t::Float64)\n",
    "    @unpack DT, v0, DR, N, L, ϕa, ϕp, name, save_interval = param\n",
    "    s = round(t ; digits = Int64( -log10(save_interval) ÷ 1 ))\n",
    "    return \"/store/DAMTP/jm2386/Active_Lattice/data/pm_sims_raw/$(name)/[DT,v0,DR,N,L,ϕa,ϕp]=$([DT,v0,DR,N,L,ϕa,ϕp])/t=$(s).jld2\"\n",
    "end\n",
    "\n",
    "function time_series_save_name(param::Dict{String, Any},t::Float64)\n",
    "    @unpack DT, v0, DR, N, L, ϕa, ϕp, name, save_interval = param\n",
    "    s = round(t ; digits = Int64( -log10(save_interval) ÷ 1 ))\n",
    "    return \"/store/DAMTP/jm2386/Active_Lattice/data/pm_sims_pro/$(name)/[DT,v0,DR,N,L,ϕa,ϕp]=$([DT,v0,DR,N,L,ϕa,ϕp])/t=$(s).jld2\"\n",
    "end\n",
    "\n",
    "function run_new_sim(param::Dict{String, Any})\n",
    "    @unpack DT, v0, DR, N, L, ϕa, ϕp, T , name, N₁, N₂, save_interval, save_on = param\n",
    "    # configuration\n",
    "    η::Array{Float64, 3} = initiate_uniform(ϕa, ϕp, N₁, N₂,);\n",
    "    w::Weights{Float64, Float64, Vector{Float64}} = initiate_weights(η, N₁, N₂, DT, v0, DR,N); \n",
    "    t::Float64 = 0.;\n",
    "    s::Float64 = save_interval\n",
    "    jumps::Vector{Tuple{Int64, Int64}} = [(i,j) for i in -1:1:1, j in -1:1:1 if i^2+j^2 ==1 ];\n",
    "    \n",
    "    #inital save\n",
    "    if save_on\n",
    "        filename::String        = sim_save_name(param,t)\n",
    "        data::Dict{String, Any} = Dict(\"η\" => η, \"t\" => t)\n",
    "        safesave(filename,data)\n",
    "    end\n",
    "\n",
    "    while t < T\n",
    "        while t < s\n",
    "            t = model_step!(η, w, t, N₁, N₂, DT, v0, N, jumps);\n",
    "        end\n",
    "        #save snapshot\n",
    "        if save_on\n",
    "            filename    = sim_save_name(param,t)\n",
    "            data        = Dict(\"η\" => η, \"t\" => t)\n",
    "            safesave(filename,data)\n",
    "        end\n",
    "        s += save_interval\n",
    "    end\n",
    "    return η, w, t\n",
    "end\n",
    "\n",
    "function run_current_sim(param::Dict{String, Any},dt::Float64, η::Array{Float64, 3}, w::Weights{Float64, Float64, Vector{Float64}}, t::Float64)\n",
    "    @unpack DT, v0, DR, N, L, ϕa, ϕp , name, N₁, N₂, save_interval, save_on = param\n",
    "    # configuration\n",
    "    s::Float64 = t + save_interval\n",
    "    jumps::Vector{Tuple{Int64, Int64}} = [(i,j) for i in -1:1:1, j in -1:1:1 if i^2+j^2 ==1 ];\n",
    "    \n",
    "    #inital save\n",
    "    if save_on\n",
    "        filename::String = sim_save_name(param,t)\n",
    "        data::Dict{String, Any} = Dict(\"η\" => η, \"t\" => t)\n",
    "        safesave(filename,data)\n",
    "    end\n",
    "\n",
    "    while t < t+dt\n",
    "        while t < s\n",
    "            t = model_step!(η, w, t, N₁, N₂, DT, v0, N, jumps);\n",
    "        end\n",
    "        #save snapshot\n",
    "        if save_on\n",
    "            filename = sim_save_name(param,t)\n",
    "            data = Dict(\"η\" => η, \"t\" => t)\n",
    "            safesave(filename,data)\n",
    "        end\n",
    "        s += save_interval\n",
    "    end\n",
    "    return η, w, t\n",
    "end\n",
    "\n",
    "function load_sim(param::Dict{String, Any},t::Float64)\n",
    "    filename::String = sim_save_name(param::Dict{String, Any},t::Float64)\n",
    "    data::Dict{String, Any} = load(filename)\n",
    "    @unpack η, t = data \n",
    "    return η, t\n",
    "end\n",
    "\n",
    "function load_and_run_sim(param::Dict{String, Any})\n",
    "    @unpack DT, v0, DR, N, L, ϕa, ϕp, T , name, N₁, N₂, save_interval, save_on = param\n",
    "    # configuration\n",
    "    η::Array{Float64, 3} = initiate_uniform(ϕa, ϕp, N₁, N₂,);\n",
    "    w::Weights{Float64, Float64, Vector{Float64}} = initiate_weights(η, N₁, N₂, DT, v0, DR,N); \n",
    "    t::Float64 = 0.;\n",
    "    s::Float64 = T;\n",
    "    loaded::Bool = false\n",
    "    jumps::Vector{Tuple{Int64, Int64}} = [(i,j) for i in -1:1:1, j in -1:1:1 if i^2+j^2 ==1 ];\n",
    "    \n",
    "    while s>0.\n",
    "        try\n",
    "            η, t = load_sim(sim_param,s)\n",
    "            w = initiate_weights(η, N₁, N₂, DT, v0, DR,N);\n",
    "            loaded = true\n",
    "            s = -1.\n",
    "        catch\n",
    "            loaded = false\n",
    "            #println(\"load failed at t = $(s)\")\n",
    "            s += -save_interval\n",
    "        end\n",
    "    end\n",
    "\n",
    "    if loaded\n",
    "        println(\"load at t = $(t)\")\n",
    "        s = t + save_interval\n",
    "        while t < T\n",
    "            while t < s\n",
    "                t = model_step!(η, w, t, N₁, N₂, DT, v0, N, jumps);\n",
    "            end\n",
    "            #save snapshot\n",
    "            if save_on\n",
    "                filename    = sim_save_name(param,t)\n",
    "                data        = Dict(\"η\" => η, \"t\" => t)\n",
    "                safesave(filename,data)\n",
    "            end\n",
    "            s += save_interval\n",
    "        end\n",
    "    else\n",
    "        println(\"all loading failed; running new simulation\")\n",
    "        η, w, t = run_new_sim(param)\n",
    "    end\n",
    "    return η, w, t\n",
    "end\n",
    "\n",
    "function load_compress_sim(param::Dict{String, Any})\n",
    "    @unpack DT, v0, DR, N, L, ϕa, ϕp, T , name, N₁, N₂, save_interval, save_on = param\n",
    "    t_saves::Vector{Float64}            = []\n",
    "    η_saves::Vector{Array{Float64, 3}}  = []\n",
    "    data::Dict{String, Any} = Dict()\n",
    "\n",
    "    try\n",
    "        try\n",
    "            filename::String = time_series_save_name(param,T)\n",
    "            data = load(filename)\n",
    "        catch\n",
    "            filename::String = time_series_save_name(param,T-save_interval)\n",
    "            data= load(filename)\n",
    "        end\n",
    "        @unpack t_saves, η_saves = data\n",
    "        println(\"fast load\")\n",
    "    catch\n",
    "        println(\"full load\")\n",
    "        s = 0.\n",
    "        t = 0.\n",
    "        while s<T\n",
    "            try\n",
    "                η, t = load_sim(sim_param,s)\n",
    "                push!(η_saves,η)\n",
    "                push!(t_saves,t)\n",
    "                s += save_interval\n",
    "            catch\n",
    "                s += save_interval\n",
    "            end\n",
    "        end\n",
    "        if t > 0.\n",
    "            filename::String = time_series_save_name(param,t)\n",
    "            data = Dict(\"η_saves\" => η_saves, \"t_saves\" => t_saves)\n",
    "            safesave(filename,data)\n",
    "            println(\"saved\")\n",
    "        end\n",
    "    end\n",
    "\n",
    "    return t_saves, η_saves\n",
    "end"
   ]
  },
  {
   "cell_type": "code",
   "execution_count": 1,
   "metadata": {},
   "outputs": [
    {
     "ename": "MethodError",
     "evalue": "MethodError: no method matching model_step!(::Array{Float64, 3}, ::Weights{Float64, Float64, Vector{Float64}}, ::Float64, ::Int64, ::Int64, ::Float64, ::Float64, ::Int64, ::Vector{Tuple{Int64, Int64}})\nClosest candidates are:\n  model_step!(::Array{Float64, 3}, ::Weights{Float64, Float64, Vector{Float64}}, ::Float64, ::Int64, ::Int64, ::Float64, ::Float64, !Matched::Float64, !Matched::Int64, !Matched::Vector{Tuple{Int64, Int64}}) at ~/Active_Lattice/src/pm_sims.jl:57",
     "output_type": "error",
     "traceback": [
      "MethodError: no method matching model_step!(::Array{Float64, 3}, ::Weights{Float64, Float64, Vector{Float64}}, ::Float64, ::Int64, ::Int64, ::Float64, ::Float64, ::Int64, ::Vector{Tuple{Int64, Int64}})\n",
      "Closest candidates are:\n",
      "  model_step!(::Array{Float64, 3}, ::Weights{Float64, Float64, Vector{Float64}}, ::Float64, ::Int64, ::Int64, ::Float64, ::Float64, !Matched::Float64, !Matched::Int64, !Matched::Vector{Tuple{Int64, Int64}}) at ~/Active_Lattice/src/pm_sims.jl:57\n",
      "\n",
      "Stacktrace:\n",
      " [1] top-level scope\n",
      "   @ ~/Active_Lattice/src/pm_sim_test.ipynb:15"
     ]
    }
   ],
   "source": [
    "# Parameters\n",
    "DT, v0, DR, N, L, ϕa, ϕp = (1.0, 7.5, 1.0, 10, 2, 0.5, 0.0);\n",
    "sim_param = new_sim_param(DT, v0, DR, N, L, ϕa, ϕp; T = 0.001, name = \"test\", save_interval = 0.001);\n",
    "@unpack DT, v0, DR, N, L, ϕa, ϕp, T , name, N₁, N₂ = sim_param\n",
    "\n",
    "# configuration\n",
    "η = initiate_uniform(ϕa, ϕp, N₁, N₂,);\n",
    "w = initiate_weights(η, N₁, N₂, DT, v0, DR,N); \n",
    "t =0.;\n",
    "\n",
    "jumps = [(i,j) for i in -1:1:1, j in -1:1:1 if i^2+j^2 ==1 ];\n",
    "\n",
    "t = model_step!(η, w, t, N₁, N₂, DT, v0, N, jumps);\n",
    "\n",
    "sim_save_name(sim_param,t)\n",
    "\n",
    "η, t = load_sim(sim_param, 0.005)\n",
    "\n",
    "# DT, v0, DR, N, L, ϕa, ϕp = (1.0, 7.5, 1.0, 10, 2, 0.5, 0.3);\n",
    "# sim_param = new_sim_param(DT, v0, DR, N, L, ϕa, ϕp; T = 0.01, name = \"test\", save_interval = 0.001, save_on = true);\n",
    "# η, w, t = run_new_sim(sim_param)"
   ]
  },
  {
   "cell_type": "code",
   "execution_count": 41,
   "metadata": {},
   "outputs": [
    {
     "name": "stdout",
     "output_type": "stream",
     "text": [
      "all loading failed; running new simulation\n"
     ]
    },
    {
     "data": {
      "text/plain": [
       "([1.0 1.0 … 1.0 0.0; 0.0 1.0 … 0.0 1.0; … ; 1.0 1.0 … 0.0 1.0; 1.0 1.0 … 0.0 1.0;;; 1.0 0.0 … 1.0 0.0; 0.0 -1.0 … 0.0 -1.0; … ; 0.0 0.0 … 0.0 1.0; -1.0 -1.0 … 0.0 -1.0], [100.0, 0.0, 0.0, 0.0, 0.0, 0.0, 100.0, 0.0, 0.0, 0.0  …  1.0, 0.0, 0.0, 0.0, 1.0, 0.0, 0.0, 0.0, 1.0, 1.0], 0.0400547185837047)"
      ]
     },
     "metadata": {},
     "output_type": "display_data"
    }
   ],
   "source": [
    "DT, v0, DR, N, L, ϕa, ϕp = (1.0, 7.5, 1.0, 10, 2, 0.5, 0.2);\n",
    "sim_param = new_sim_param(DT, v0, DR, N, L, ϕa, ϕp; T = 0.04, name = \"test\", save_interval = 0.001, save_on = true);\n",
    "η, w, t = load_and_run_sim(sim_param)"
   ]
  },
  {
   "cell_type": "code",
   "execution_count": 44,
   "metadata": {},
   "outputs": [
    {
     "name": "stdout",
     "output_type": "stream",
     "text": [
      "fast load\n"
     ]
    },
    {
     "data": {
      "text/plain": [
       "([0.0, 0.0010461032594456902, 0.00202673567512978, 0.003014101394737232, 0.004098331561506459, 0.00508319565609936, 0.006079705714713517, 0.007003631995689366, 0.00810166482605122, 0.009029733576588024  …  0.03004562717532555, 0.03101967411102108, 0.032106812903716433, 0.03307863944320083, 0.0340333164019157, 0.03513884947387984, 0.03601635837047173, 0.037025020474452434, 0.03805004039074806, 0.03916300333568578], [[1.0 0.0 … 1.0 1.0; 1.0 1.0 … 0.0 1.0; … ; 1.0 0.0 … 1.0 0.0; 1.0 1.0 … 0.0 0.0;;; 1.0 0.0 … -1.0 -1.0; -1.0 0.0 … 0.0 -1.0; … ; -1.0 0.0 … 1.0 0.0; 0.0 0.0 … 0.0 0.0], [1.0 0.0 … 1.0 1.0; 1.0 1.0 … 0.0 1.0; … ; 1.0 0.0 … 1.0 0.0; 1.0 1.0 … 0.0 0.0;;; 1.0 0.0 … -1.0 -1.0; -1.0 0.0 … 0.0 -1.0; … ; -1.0 0.0 … 1.0 0.0; 0.0 0.0 … 0.0 0.0], [0.0 1.0 … 0.0 1.0; 1.0 1.0 … 1.0 1.0; … ; 1.0 0.0 … 1.0 0.0; 1.0 1.0 … 1.0 0.0;;; 0.0 1.0 … 0.0 -1.0; -1.0 0.0 … -1.0 -1.0; … ; -1.0 0.0 … 1.0 0.0; 0.0 0.0 … -1.0 0.0], [0.0 1.0 … 0.0 1.0; 1.0 1.0 … 1.0 1.0; … ; 1.0 0.0 … 1.0 0.0; 1.0 1.0 … 0.0 1.0;;; 0.0 1.0 … 0.0 -1.0; -1.0 0.0 … -1.0 -1.0; … ; -1.0 0.0 … 1.0 0.0; 0.0 0.0 … 0.0 -1.0], [0.0 1.0 … 0.0 1.0; 1.0 1.0 … 1.0 1.0; … ; 1.0 0.0 … 1.0 0.0; 1.0 1.0 … 0.0 1.0;;; 0.0 0.0 … 0.0 -1.0; -1.0 -1.0 … -1.0 -1.0; … ; -1.0 0.0 … 1.0 0.0; 0.0 0.0 … 0.0 -1.0], [1.0 1.0 … 1.0 0.0; 1.0 1.0 … 1.0 1.0; … ; 1.0 0.0 … 1.0 0.0; 0.0 1.0 … 0.0 1.0;;; 0.0 0.0 … -1.0 0.0; -1.0 -1.0 … -1.0 -1.0; … ; -1.0 0.0 … 1.0 0.0; 0.0 0.0 … 0.0 -1.0], [1.0 1.0 … 1.0 0.0; 1.0 1.0 … 1.0 1.0; … ; 1.0 1.0 … 1.0 0.0; 1.0 0.0 … 0.0 0.0;;; 0.0 0.0 … -1.0 0.0; -1.0 -1.0 … -1.0 -1.0; … ; -1.0 0.0 … 1.0 0.0; -1.0 0.0 … 0.0 0.0], [1.0 1.0 … 1.0 0.0; 1.0 1.0 … 1.0 1.0; … ; 1.0 1.0 … 0.0 0.0; 1.0 0.0 … 1.0 0.0;;; 0.0 0.0 … -1.0 0.0; -1.0 -1.0 … -1.0 -1.0; … ; -1.0 0.0 … 0.0 0.0; -1.0 0.0 … 1.0 0.0], [1.0 1.0 … 1.0 0.0; 1.0 1.0 … 1.0 1.0; … ; 1.0 1.0 … 1.0 0.0; 1.0 0.0 … 0.0 1.0;;; 0.0 0.0 … -1.0 0.0; -1.0 -1.0 … -1.0 -1.0; … ; -1.0 0.0 … 1.0 0.0; -1.0 0.0 … 0.0 1.0], [1.0 1.0 … 1.0 1.0; 1.0 1.0 … 0.0 1.0; … ; 1.0 1.0 … 1.0 0.0; 0.0 1.0 … 1.0 0.0;;; 0.0 0.0 … -1.0 1.0; -1.0 -1.0 … 0.0 -1.0; … ; -1.0 0.0 … 1.0 0.0; 0.0 -1.0 … -1.0 0.0]  …  [1.0 1.0 … 0.0 1.0; 1.0 1.0 … 1.0 1.0; … ; 1.0 1.0 … 1.0 1.0; 1.0 1.0 … 1.0 0.0;;; 1.0 0.0 … 0.0 1.0; 0.0 0.0 … -1.0 -1.0; … ; 0.0 0.0 … -1.0 -1.0; -1.0 -1.0 … -1.0 0.0], [1.0 1.0 … 0.0 1.0; 1.0 1.0 … 1.0 1.0; … ; 1.0 1.0 … 0.0 1.0; 1.0 1.0 … 1.0 0.0;;; 1.0 0.0 … 0.0 1.0; 0.0 0.0 … -1.0 -1.0; … ; 0.0 0.0 … 0.0 -1.0; -1.0 -1.0 … -1.0 0.0], [1.0 1.0 … 0.0 1.0; 1.0 0.0 … 1.0 1.0; … ; 1.0 1.0 … 0.0 1.0; 1.0 1.0 … 1.0 0.0;;; 1.0 0.0 … 0.0 1.0; 0.0 0.0 … -1.0 -1.0; … ; 0.0 0.0 … 0.0 -1.0; -1.0 -1.0 … -1.0 0.0], [1.0 0.0 … 0.0 1.0; 1.0 1.0 … 1.0 1.0; … ; 1.0 1.0 … 0.0 1.0; 1.0 1.0 … 1.0 0.0;;; 1.0 0.0 … 0.0 1.0; 0.0 0.0 … -1.0 -1.0; … ; 0.0 0.0 … 0.0 -1.0; -1.0 -1.0 … -1.0 0.0], [1.0 0.0 … 0.0 1.0; 1.0 1.0 … 1.0 1.0; … ; 1.0 1.0 … 1.0 0.0; 1.0 1.0 … 1.0 0.0;;; 1.0 0.0 … 0.0 1.0; 0.0 0.0 … -1.0 -1.0; … ; 0.0 0.0 … -1.0 0.0; -1.0 -1.0 … -1.0 0.0], [1.0 0.0 … 0.0 1.0; 1.0 1.0 … 1.0 1.0; … ; 1.0 1.0 … 1.0 0.0; 1.0 1.0 … 1.0 0.0;;; 1.0 0.0 … 0.0 1.0; 0.0 0.0 … -1.0 -1.0; … ; 0.0 0.0 … -1.0 0.0; -1.0 -1.0 … -1.0 0.0], [1.0 0.0 … 0.0 1.0; 1.0 1.0 … 1.0 1.0; … ; 1.0 1.0 … 1.0 1.0; 1.0 1.0 … 1.0 0.0;;; 1.0 0.0 … 0.0 1.0; 0.0 0.0 … -1.0 -1.0; … ; 0.0 0.0 … -1.0 1.0; -1.0 -1.0 … -1.0 0.0], [1.0 1.0 … 1.0 0.0; 1.0 0.0 … 1.0 1.0; … ; 1.0 1.0 … 1.0 1.0; 1.0 1.0 … 0.0 0.0;;; 1.0 0.0 … 1.0 0.0; 0.0 0.0 … -1.0 -1.0; … ; 0.0 0.0 … -1.0 1.0; -1.0 -1.0 … 0.0 0.0], [1.0 1.0 … 1.0 0.0; 1.0 1.0 … 1.0 1.0; … ; 1.0 1.0 … 1.0 1.0; 1.0 1.0 … 0.0 0.0;;; 1.0 0.0 … 1.0 0.0; 0.0 -1.0 … -1.0 -1.0; … ; 0.0 0.0 … -1.0 1.0; -1.0 -1.0 … 0.0 0.0], [1.0 1.0 … 1.0 1.0; 1.0 1.0 … 1.0 0.0; … ; 1.0 1.0 … 1.0 1.0; 1.0 1.0 … 0.0 0.0;;; 1.0 0.0 … 1.0 -1.0; 0.0 -1.0 … -1.0 0.0; … ; 0.0 0.0 … -1.0 1.0; -1.0 -1.0 … 0.0 0.0]])"
      ]
     },
     "metadata": {},
     "output_type": "display_data"
    }
   ],
   "source": [
    "DT, v0, DR, N, L, ϕa, ϕp = (1.0, 7.5, 1.0, 10, 2, 0.5, 0.2);\n",
    "sim_param = new_sim_param(DT, v0, DR, N, L, ϕa, ϕp; T = 0.04, name = \"test\", save_interval = 0.001, save_on = true);\n",
    "t_saves, η_saves = load_compress_sim(sim_param)"
   ]
  },
  {
   "cell_type": "code",
   "execution_count": 4,
   "metadata": {},
   "outputs": [],
   "source": [
    "include(\"/home/jm2386/Active_Lattice/src/pm_sims.jl\")\n",
    "# real params\n",
    "\n",
    "params = []\n",
    "γs = [ 2.5, #unstable complex no bin\n",
    "        2.25, #unstable real no bin \n",
    "        2.0, #unstable real unstable bin\n",
    "        1.5, #unstable real stable bin\n",
    "]\n",
    "ϕas = fill(0.7, length(γs))\n",
    "ϕps = (γs .-1 ).*(-ϕas .+1)./ γs\n",
    "DT, v0, DR, N, L = (1.0, 7.5, 1.0, 100, 8);\n",
    "T = 1.\n",
    "sim_name = \"sim_run_1\"\n",
    "save_interval = 0.001\n",
    "map(ϕas, ϕps) do ϕa, ϕp\n",
    "    sim_param = new_sim_param(DT, v0, DR, N, L, ϕa, ϕp; T = T, name = sim_name, save_interval = save_interval, save_on = true);   \n",
    "    push!(params,sim_param)\n",
    "end\n",
    "\n",
    "sim_param = params[1];"
   ]
  },
  {
   "cell_type": "code",
   "execution_count": 6,
   "metadata": {},
   "outputs": [],
   "source": [
    "@unpack DT, v0, DR, N, L, ϕa, ϕp, T , name, N₁, N₂ = sim_param\n",
    "\n",
    "η = initiate_uniform(ϕa, ϕp, N₁, N₂,);\n",
    "w = initiate_weights(η, N₁, N₂, DT, v0, DR,N); \n",
    "t =0.;\n",
    "\n",
    "jumps = [(i,j) for i in -1:1:1, j in -1:1:1 if i^2+j^2 ==1 ];\n",
    "\n",
    "t = model_step!(η, w, t, N₁, N₂, DT, v0, DR, N, jumps);"
   ]
  },
  {
   "cell_type": "code",
   "execution_count": 11,
   "metadata": {},
   "outputs": [
    {
     "name": "stdout",
     "output_type": "stream",
     "text": [
      "  0.004870 seconds (4 allocations: 9.155 MiB)\n"
     ]
    }
   ],
   "source": [
    "@time model_step!(η, w, t, N₁, N₂, DT, v0, DR, N, jumps);"
   ]
  },
  {
   "cell_type": "code",
   "execution_count": 32,
   "metadata": {},
   "outputs": [
    {
     "data": {
      "text/plain": [
       "2.5300783522924106e-9"
      ]
     },
     "metadata": {},
     "output_type": "display_data"
    }
   ],
   "source": [
    "model_step!(η, w, t, N₁, N₂, DT, v0, DR, N, jumps)"
   ]
  },
  {
   "cell_type": "code",
   "execution_count": 35,
   "metadata": {},
   "outputs": [
    {
     "data": {
      "text/plain": [
       "249.99999999999997"
      ]
     },
     "metadata": {},
     "output_type": "display_data"
    }
   ],
   "source": [
    "1e-3 * 0.5e-3 / 2e-9 "
   ]
  }
 ],
 "metadata": {
  "kernelspec": {
   "display_name": "Julia 1.8.1",
   "language": "julia",
   "name": "julia-1.8"
  },
  "language_info": {
   "file_extension": ".jl",
   "mimetype": "application/julia",
   "name": "julia",
   "version": "1.8.1"
  },
  "orig_nbformat": 4
 },
 "nbformat": 4,
 "nbformat_minor": 2
}
